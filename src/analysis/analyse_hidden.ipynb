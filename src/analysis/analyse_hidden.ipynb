{
 "nbformat": 4,
 "nbformat_minor": 0,
 "metadata": {
  "colab": {
   "name": "analyse_hidden.ipynb",
   "provenance": [],
   "collapsed_sections": [],
   "toc_visible": true
  },
  "kernelspec": {
   "name": "python3",
   "display_name": "Python 3"
  },
  "language_info": {
   "name": "python"
  }
 },
 "cells": [
  {
   "cell_type": "code",
   "execution_count": 11,
   "metadata": {
    "id": "dVBvonq7aVa_",
    "pycharm": {
     "name": "#%%\n"
    }
   },
   "outputs": [],
   "source": [
    "import pandas as pd\n",
    "import numpy as np\n",
    "from sklearn import preprocessing\n",
    "from sklearn.neural_network import MLPClassifier\n",
    "from sklearn.linear_model import LogisticRegression\n",
    "from sklearn.model_selection import train_test_split\n",
    "from sklearn.metrics import classification_report\n",
    "from sklearn.cluster import KMeans\n",
    "from sklearn.metrics.cluster import adjusted_rand_score\n",
    "from matplotlib import pyplot as plt\n",
    "from sklearn.decomposition import PCA"
   ]
  },
  {
   "cell_type": "code",
   "source": [
    "df = pd.read_csv('adaptive_speak_eval_all.csv')\n",
    "df.head(2)"
   ],
   "metadata": {
    "colab": {
     "base_uri": "https://localhost:8080/",
     "height": 324
    },
    "id": "Qn-oBQPUau7W",
    "outputId": "1fe3e430-9a5e-4d92-b928-78b457aca31f",
    "pycharm": {
     "name": "#%%\n",
     "is_executing": true
    }
   },
   "execution_count": null,
   "outputs": []
  },
  {
   "cell_type": "markdown",
   "source": [
    "## Diagnostic classification"
   ],
   "metadata": {
    "id": "ondL8JKbzNNM",
    "pycharm": {
     "name": "#%% md\n"
    }
   }
  },
  {
   "cell_type": "code",
   "execution_count": null,
   "outputs": [],
   "source": [
    "CLF_TYPE = 'LR'\n",
    "N_STEPS = 1"
   ],
   "metadata": {
    "collapsed": false,
    "pycharm": {
     "name": "#%%\n"
    }
   }
  },
  {
   "cell_type": "code",
   "source": [
    "def train_and_classify(X, Y, classifier_type='MLP'):\n",
    "  X_train, X_test, Y_train, Y_test = train_test_split(X, Y, stratify=Y, test_size=0.2, random_state=1)\n",
    "  # print(f'X_train: {X_train.shape}  X_test: {X_test.shape}  Y_train: {Y_train.shape}  Y_test: {Y_test.shape}')\n",
    "\n",
    "  scaler = preprocessing.StandardScaler().fit(X_train)\n",
    "  X_train_scaled = scaler.transform(X_train)\n",
    "  X_test_scaled = scaler.transform(X_test)\n",
    "\n",
    "  if classifier_type == 'MLP':\n",
    "    clf = MLPClassifier(random_state=1, max_iter=1000).fit(X_train_scaled, Y_train)\n",
    "  elif classifier_type == 'LR':\n",
    "    clf = LogisticRegression(random_state=1, max_iter=1000).fit(X_train_scaled, Y_train)\n",
    "  else:\n",
    "    raise ValueError()\n",
    "\n",
    "\n",
    "  Y_pred = clf.predict(X_test_scaled)\n",
    "  \n",
    "  return classification_report(Y_test, Y_pred)"
   ],
   "metadata": {
    "id": "ac3QCR4Oh17F",
    "pycharm": {
     "name": "#%%\n"
    }
   },
   "execution_count": 27,
   "outputs": []
  },
  {
   "cell_type": "markdown",
   "source": [
    "### Predict target domain from non-adapted hidden representation"
   ],
   "metadata": {
    "id": "4RlNVcXRzW25",
    "pycharm": {
     "name": "#%% md\n"
    }
   }
  },
  {
   "cell_type": "code",
   "source": [
    "X, Y = [], []\n",
    "\n",
    "for _, row in df.iterrows():\n",
    "  X.append(eval(row['original h0']))\n",
    "  Y.append(row['target domain'])\n",
    "\n",
    "X, Y = np.array(X), np.array(Y)\n",
    "\n",
    "print(train_and_classify(X, Y, CLF_TYPE))"
   ],
   "metadata": {
    "colab": {
     "base_uri": "https://localhost:8080/"
    },
    "id": "PebKWe-sbXeA",
    "outputId": "abb4295a-e819-4f04-bbf6-012eb411b4bb",
    "pycharm": {
     "name": "#%%\n",
     "is_executing": true
    }
   },
   "execution_count": null,
   "outputs": []
  },
  {
   "cell_type": "markdown",
   "source": [
    "### Predict target domain from adapted hidden representation"
   ],
   "metadata": {
    "id": "KPWMYlSTzkMB",
    "pycharm": {
     "name": "#%% md\n"
    }
   }
  },
  {
   "cell_type": "code",
   "source": [
    "for step in np.arange(N_STEPS):\n",
    "\n",
    "  print(f'Step {step}')\n",
    "  \n",
    "  X, Y = [], []\n",
    "\n",
    "  for _, row in df.iterrows():\n",
    "    X.append(eval(row[f'adapted h0 s{step}']))\n",
    "    Y.append(row['target domain'])\n",
    "\n",
    "  X, Y = np.array(X), np.array(Y)\n",
    "\n",
    "  print(train_and_classify(X, Y, CLF_TYPE))"
   ],
   "metadata": {
    "colab": {
     "base_uri": "https://localhost:8080/"
    },
    "id": "MZ4Uo0EYhErd",
    "outputId": "9e6cf78c-bef3-4844-fdc3-1e9f4c0369e2",
    "pycharm": {
     "name": "#%%\n",
     "is_executing": true
    }
   },
   "execution_count": null,
   "outputs": []
  },
  {
   "cell_type": "markdown",
   "source": [
    "### Predict listener domain from adapted hidden representation"
   ],
   "metadata": {
    "id": "bX14vz7izpYB",
    "pycharm": {
     "name": "#%% md\n"
    }
   }
  },
  {
   "cell_type": "code",
   "source": [
    "for step in np.arange(N_STEPS):\n",
    "\n",
    "  print(f'Step {step}')\n",
    "\n",
    "  X, Y = [], []\n",
    "  for _, row in df.iterrows():\n",
    "    X.append(eval(row[f'adapted h0 s{step}']))\n",
    "    Y.append(row['listener domain'])\n",
    "\n",
    "  X, Y = np.array(X), np.array(Y)\n",
    "\n",
    "  print(train_and_classify(X, Y, CLF_TYPE))"
   ],
   "metadata": {
    "id": "Eg9m_qoHz6XG",
    "pycharm": {
     "name": "#%%\n",
     "is_executing": true
    }
   },
   "execution_count": null,
   "outputs": []
  },
  {
   "cell_type": "markdown",
   "source": [
    "### Predict listener domain from difference between adapted and non-adapted hidden representation"
   ],
   "metadata": {
    "id": "tA-RB_iU0BHZ",
    "pycharm": {
     "name": "#%% md\n"
    }
   }
  },
  {
   "cell_type": "code",
   "source": [
    "for step in np.arange(N_STEPS):\n",
    "\n",
    "  print(f'Step {step}')\n",
    "\n",
    "  X, Y = [], []\n",
    "  for _, row in df.iterrows():\n",
    "    X.append(np.array(eval(row[f'adapted h0 s{step}'])) - np.array(eval(row['original h0'])))\n",
    "    Y.append(row['listener domain'])\n",
    "\n",
    "  X, Y = np.array(X), np.array(Y)\n",
    "\n",
    "  print(train_and_classify(X, Y, CLF_TYPE))"
   ],
   "metadata": {
    "colab": {
     "base_uri": "https://localhost:8080/"
    },
    "id": "JkIvv80lb1KX",
    "outputId": "36cd5656-f502-41e9-df09-041baabe71a4",
    "pycharm": {
     "name": "#%%\n"
    }
   },
   "execution_count": null,
   "outputs": []
  },
  {
   "cell_type": "markdown",
   "source": [
    "## Diagnostic clustering"
   ],
   "metadata": {
    "id": "ZezAMO-r0J28",
    "pycharm": {
     "name": "#%% md\n"
    }
   }
  },
  {
   "cell_type": "code",
   "source": [
    "def cluster_and_plot(X, Y, k=5):\n",
    "  kmeans = KMeans(n_clusters=k, random_state=1).fit(X)\n",
    "  Y_pred = kmeans.labels_\n",
    "\n",
    "  print(f'Adjusted rand score: {adjusted_rand_score(Y_pred, Y)}')\n",
    "\n",
    "  pca = PCA(2)\n",
    "  X_2dim = pca.fit_transform(X)\n",
    "  labels = np.unique(Y_pred)\n",
    "  \n",
    "  for i in labels:\n",
    "      plt.scatter(X_2dim[Y_pred == i , 0] , X_2dim[Y_pred == i , 1] , label = i)\n",
    "  plt.legend()\n",
    "  plt.show()\n",
    "  \n",
    "  return kmeans, plt"
   ],
   "metadata": {
    "id": "0rFTHayx34s_",
    "pycharm": {
     "name": "#%%\n"
    }
   },
   "execution_count": 30,
   "outputs": []
  },
  {
   "cell_type": "markdown",
   "source": [
    "### Cluster non-adapted hidden representations (vs. target domains)"
   ],
   "metadata": {
    "id": "JOLYqBPo1mbt",
    "pycharm": {
     "name": "#%% md\n"
    }
   }
  },
  {
   "cell_type": "code",
   "source": [
    "X, Y = [], []\n",
    "\n",
    "for _, row in df.iterrows():\n",
    "  X.append(eval(row['original h0']))\n",
    "  Y.append(row['target domain'])\n",
    "\n",
    "X, Y = np.array(X), np.array(Y)\n",
    "\n",
    "cluster_and_plot(X, Y)"
   ],
   "metadata": {
    "colab": {
     "base_uri": "https://localhost:8080/",
     "height": 232
    },
    "id": "GwZhb3vWcLWp",
    "outputId": "11ee1823-0ca7-4b8f-baf5-866def20dd2e",
    "pycharm": {
     "name": "#%%\n",
     "is_executing": true
    }
   },
   "execution_count": null,
   "outputs": []
  },
  {
   "cell_type": "markdown",
   "source": [
    "### Cluster adapted hidden representations (vs. target domains)\n",
    "\n"
   ],
   "metadata": {
    "id": "2QIuBljZ16jv",
    "pycharm": {
     "name": "#%% md\n"
    }
   }
  },
  {
   "cell_type": "code",
   "source": [
    "for step in np.arange(N_STEPS):\n",
    "\n",
    "  print(f'Step {step}')\n",
    "\n",
    "  X, Y = [], []\n",
    "\n",
    "  for _, row in df.iterrows():\n",
    "    X.append(eval(row[f'adapted h0 s{step}']))\n",
    "    Y.append(row['target domain'])\n",
    "\n",
    "  X, Y = np.array(X), np.array(Y)\n",
    "\n",
    "  cluster_and_plot(X, Y)"
   ],
   "metadata": {
    "colab": {
     "base_uri": "https://localhost:8080/"
    },
    "id": "tA-7I28UcPY-",
    "outputId": "260ee99d-8227-41c9-c219-5caf1f7009db",
    "pycharm": {
     "name": "#%%\n",
     "is_executing": true
    }
   },
   "execution_count": null,
   "outputs": []
  },
  {
   "cell_type": "markdown",
   "source": [
    "### Cluster adapted hidden representations (vs. listener domains)\n"
   ],
   "metadata": {
    "id": "xYksOQR62EvT",
    "pycharm": {
     "name": "#%% md\n"
    }
   }
  },
  {
   "cell_type": "code",
   "source": [
    "for step in np.arange(N_STEPS):\n",
    "\n",
    "  print(f'Step {step}')\n",
    "\n",
    "  X, Y = [], []\n",
    "\n",
    "  for _, row in df.iterrows():\n",
    "    X.append(eval(row[f'adapted h0 s{step}']))\n",
    "    Y.append(row['listener domain'])\n",
    "\n",
    "  X, Y = np.array(X), np.array(Y)\n",
    "\n",
    "  cluster_and_plot(X, Y)"
   ],
   "metadata": {
    "id": "ui1RLIFymVQu",
    "pycharm": {
     "name": "#%%\n"
    }
   },
   "execution_count": null,
   "outputs": []
  },
  {
   "cell_type": "markdown",
   "source": [
    "### Cluster difference between adapted and non-adapted hidden representations (vs. listener domains)\n"
   ],
   "metadata": {
    "id": "OGFkt9P72MIx",
    "pycharm": {
     "name": "#%% md\n"
    }
   }
  },
  {
   "cell_type": "code",
   "source": [
    "for step in np.arange(N_STEPS):\n",
    "\n",
    "  print(f'Step {step}')\n",
    "\n",
    "  X, Y = [], []\n",
    "\n",
    "  for _, row in df.iterrows():\n",
    "    X.append(np.array(eval(row[f'adapted h0 s{step}'])) - np.array(eval(row['original h0'])))\n",
    "    Y.append(row['listener domain'])\n",
    "\n",
    "  X, Y = np.array(X), np.array(Y)\n",
    "\n",
    "  cluster_and_plot(X, Y)"
   ],
   "metadata": {
    "id": "E3JDpB1C2dgo",
    "pycharm": {
     "name": "#%%\n"
    }
   },
   "execution_count": null,
   "outputs": []
  }
 ]
}