{
 "cells": [
  {
   "cell_type": "code",
   "execution_count": 1,
   "metadata": {
    "id": "dVBvonq7aVa_",
    "pycharm": {
     "name": "#%%\n"
    }
   },
   "outputs": [],
   "source": [
    "import pandas as pd\n",
    "import numpy as np\n",
    "from sklearn import preprocessing\n",
    "from sklearn.neural_network import MLPClassifier\n",
    "from sklearn.linear_model import LogisticRegression, LinearRegression\n",
    "from sklearn.model_selection import train_test_split\n",
    "from sklearn.metrics import classification_report\n",
    "from sklearn.cluster import KMeans\n",
    "from sklearn.metrics.cluster import adjusted_rand_score\n",
    "from matplotlib import pyplot as plt\n",
    "from sklearn.decomposition import PCA"
   ]
  },
  {
   "cell_type": "markdown",
   "metadata": {
    "pycharm": {
     "name": "#%% md\n"
    }
   },
   "source": [
    "all_df = pd.read_csv('/Users/mario/code/pb_speaker_adaptation/src/analysis/adaptive_speak_eval_22june/adaptive_speak_eval_all_v15.csv', on_bad_lines='skip')\n",
    "print('target domain   :', all_df['target domain'].unique())\n",
    "print('listener domain :', all_df['listener domain'].unique())\n",
    "print('simulator domain:', all_df['simulator domain'].unique())"
   ]
  },
  {
   "cell_type": "markdown",
   "metadata": {
    "pycharm": {
     "name": "#%% md\n"
    }
   },
   "source": [
    "df = pd.read_csv('/Users/mario/code/pb_speaker_adaptation/src/analysis/adaptive_speak_eval_22june/adaptive_speak_eval_food_v2.csv')\n",
    "print('target domain   :', df['target domain'].unique())\n",
    "print('listener domain :', df['listener domain'].unique())\n",
    "print('simulator domain:', df['simulator domain'].unique())"
   ]
  },
  {
   "cell_type": "code",
   "execution_count": 2,
   "metadata": {
    "pycharm": {
     "name": "#%%\n"
    }
   },
   "outputs": [],
   "source": [
    "_df = pd.concat([\n",
    "    pd.read_csv('/Users/mario/code/pb_speaker_adaptation/src/analysis/19dec/appliances.csv'),\n",
    "    pd.read_csv('/Users/mario/code/pb_speaker_adaptation/src/analysis/19dec/food.csv'),\n",
    "    pd.read_csv('/Users/mario/code/pb_speaker_adaptation/src/analysis/19dec/indoor.csv'),\n",
    "    pd.read_csv('/Users/mario/code/pb_speaker_adaptation/src/analysis/19dec/outdoor.csv'),\n",
    "    pd.read_csv('/Users/mario/code/pb_speaker_adaptation/src/analysis/19dec/vehicles.csv')\n",
    "])\n",
    "\n",
    "# _df = pd.read_csv(\n",
    "    # '/Users/mario/code/pb_speaker_adaptation/src/analysis/19dec/all.csv')\n",
    "    # ,\n",
    "    # error_bad_lines=False, warn_bad_lines=True)\n"
   ]
  },
  {
   "cell_type": "code",
   "execution_count": 84,
   "outputs": [
    {
     "data": {
      "text/plain": "      Unnamed: 0 target domain listener domain simulator domain  \\\n0              0          food      appliances       appliances   \n1              1          food      appliances       appliances   \n2              2          food      appliances       appliances   \n3              3          food      appliances       appliances   \n4              4          food      appliances       appliances   \n...          ...           ...             ...              ...   \n4743        4743       outdoor        vehicles         vehicles   \n4744        4744       outdoor        vehicles         vehicles   \n4745        4745       outdoor        vehicles         vehicles   \n4746        4746       outdoor        vehicles         vehicles   \n4747        4747       outdoor        vehicles         vehicles   \n\n      target img idx                                        img path #0  \\\n0                  0  /home/brandizzi/pb_speaker_adaptation/dataset/...   \n1                  5  /home/brandizzi/pb_speaker_adaptation/dataset/...   \n2                  5  /home/brandizzi/pb_speaker_adaptation/dataset/...   \n3                  1  /home/brandizzi/pb_speaker_adaptation/dataset/...   \n4                  4  /home/brandizzi/pb_speaker_adaptation/dataset/...   \n...              ...                                                ...   \n4743               5  /home/brandizzi/pb_speaker_adaptation/dataset/...   \n4744               5  /home/brandizzi/pb_speaker_adaptation/dataset/...   \n4745               0  /home/brandizzi/pb_speaker_adaptation/dataset/...   \n4746               4  /home/brandizzi/pb_speaker_adaptation/dataset/...   \n4747               1  /home/brandizzi/pb_speaker_adaptation/dataset/...   \n\n                                            img path #1  \\\n0     /home/brandizzi/pb_speaker_adaptation/dataset/...   \n1     /home/brandizzi/pb_speaker_adaptation/dataset/...   \n2     /home/brandizzi/pb_speaker_adaptation/dataset/...   \n3     /home/brandizzi/pb_speaker_adaptation/dataset/...   \n4     /home/brandizzi/pb_speaker_adaptation/dataset/...   \n...                                                 ...   \n4743  /home/brandizzi/pb_speaker_adaptation/dataset/...   \n4744  /home/brandizzi/pb_speaker_adaptation/dataset/...   \n4745  /home/brandizzi/pb_speaker_adaptation/dataset/...   \n4746  /home/brandizzi/pb_speaker_adaptation/dataset/...   \n4747  /home/brandizzi/pb_speaker_adaptation/dataset/...   \n\n                                            img path #2  \\\n0     /home/brandizzi/pb_speaker_adaptation/dataset/...   \n1     /home/brandizzi/pb_speaker_adaptation/dataset/...   \n2     /home/brandizzi/pb_speaker_adaptation/dataset/...   \n3     /home/brandizzi/pb_speaker_adaptation/dataset/...   \n4     /home/brandizzi/pb_speaker_adaptation/dataset/...   \n...                                                 ...   \n4743  /home/brandizzi/pb_speaker_adaptation/dataset/...   \n4744  /home/brandizzi/pb_speaker_adaptation/dataset/...   \n4745  /home/brandizzi/pb_speaker_adaptation/dataset/...   \n4746  /home/brandizzi/pb_speaker_adaptation/dataset/...   \n4747  /home/brandizzi/pb_speaker_adaptation/dataset/...   \n\n                                            img path #3  \\\n0     /home/brandizzi/pb_speaker_adaptation/dataset/...   \n1     /home/brandizzi/pb_speaker_adaptation/dataset/...   \n2     /home/brandizzi/pb_speaker_adaptation/dataset/...   \n3     /home/brandizzi/pb_speaker_adaptation/dataset/...   \n4     /home/brandizzi/pb_speaker_adaptation/dataset/...   \n...                                                 ...   \n4743  /home/brandizzi/pb_speaker_adaptation/dataset/...   \n4744  /home/brandizzi/pb_speaker_adaptation/dataset/...   \n4745  /home/brandizzi/pb_speaker_adaptation/dataset/...   \n4746  /home/brandizzi/pb_speaker_adaptation/dataset/...   \n4747  /home/brandizzi/pb_speaker_adaptation/dataset/...   \n\n                                            img path #4  ... sim_list_acc14  \\\n0     /home/brandizzi/pb_speaker_adaptation/dataset/...  ...             -1   \n1     /home/brandizzi/pb_speaker_adaptation/dataset/...  ...             -1   \n2     /home/brandizzi/pb_speaker_adaptation/dataset/...  ...             -1   \n3     /home/brandizzi/pb_speaker_adaptation/dataset/...  ...             -1   \n4     /home/brandizzi/pb_speaker_adaptation/dataset/...  ...             -1   \n...                                                 ...  ...            ...   \n4743  /home/brandizzi/pb_speaker_adaptation/dataset/...  ...             -1   \n4744  /home/brandizzi/pb_speaker_adaptation/dataset/...  ...             -1   \n4745  /home/brandizzi/pb_speaker_adaptation/dataset/...  ...             -1   \n4746  /home/brandizzi/pb_speaker_adaptation/dataset/...  ...             -1   \n4747  /home/brandizzi/pb_speaker_adaptation/dataset/...  ...             -1   \n\n     sim_list_acc15 sim_list_acc16 sim_list_acc17 sim_list_acc18  \\\n0                -1             -1             -1             -1   \n1                -1             -1             -1             -1   \n2                -1             -1             -1             -1   \n3                -1             -1             -1             -1   \n4                -1             -1             -1             -1   \n...             ...            ...            ...            ...   \n4743             -1             -1             -1             -1   \n4744             -1             -1             -1             -1   \n4745             -1             -1             -1             -1   \n4746             -1             -1             -1             -1   \n4747             -1             -1             -1             -1   \n\n     sim_list_acc19 sim_list_acc20 sim_list_acc21 sim_list_acc22  \\\n0                -1             -1             -1             -1   \n1                -1             -1             -1             -1   \n2                -1             -1             -1             -1   \n3                -1             -1             -1             -1   \n4                -1             -1             -1             -1   \n...             ...            ...            ...            ...   \n4743             -1             -1             -1             -1   \n4744             -1             -1             -1             -1   \n4745             -1             -1             -1             -1   \n4746             -1             -1             -1             -1   \n4747             -1             -1             -1             -1   \n\n     sim_list_acc23  \n0                -1  \n1                -1  \n2                -1  \n3                -1  \n4                -1  \n...             ...  \n4743             -1  \n4744             -1  \n4745             -1  \n4746             -1  \n4747             -1  \n\n[23740 rows x 234 columns]",
      "text/html": "<div>\n<style scoped>\n    .dataframe tbody tr th:only-of-type {\n        vertical-align: middle;\n    }\n\n    .dataframe tbody tr th {\n        vertical-align: top;\n    }\n\n    .dataframe thead th {\n        text-align: right;\n    }\n</style>\n<table border=\"1\" class=\"dataframe\">\n  <thead>\n    <tr style=\"text-align: right;\">\n      <th></th>\n      <th>Unnamed: 0</th>\n      <th>target domain</th>\n      <th>listener domain</th>\n      <th>simulator domain</th>\n      <th>target img idx</th>\n      <th>img path #0</th>\n      <th>img path #1</th>\n      <th>img path #2</th>\n      <th>img path #3</th>\n      <th>img path #4</th>\n      <th>...</th>\n      <th>sim_list_acc14</th>\n      <th>sim_list_acc15</th>\n      <th>sim_list_acc16</th>\n      <th>sim_list_acc17</th>\n      <th>sim_list_acc18</th>\n      <th>sim_list_acc19</th>\n      <th>sim_list_acc20</th>\n      <th>sim_list_acc21</th>\n      <th>sim_list_acc22</th>\n      <th>sim_list_acc23</th>\n    </tr>\n  </thead>\n  <tbody>\n    <tr>\n      <th>0</th>\n      <td>0</td>\n      <td>food</td>\n      <td>appliances</td>\n      <td>appliances</td>\n      <td>0</td>\n      <td>/home/brandizzi/pb_speaker_adaptation/dataset/...</td>\n      <td>/home/brandizzi/pb_speaker_adaptation/dataset/...</td>\n      <td>/home/brandizzi/pb_speaker_adaptation/dataset/...</td>\n      <td>/home/brandizzi/pb_speaker_adaptation/dataset/...</td>\n      <td>/home/brandizzi/pb_speaker_adaptation/dataset/...</td>\n      <td>...</td>\n      <td>-1</td>\n      <td>-1</td>\n      <td>-1</td>\n      <td>-1</td>\n      <td>-1</td>\n      <td>-1</td>\n      <td>-1</td>\n      <td>-1</td>\n      <td>-1</td>\n      <td>-1</td>\n    </tr>\n    <tr>\n      <th>1</th>\n      <td>1</td>\n      <td>food</td>\n      <td>appliances</td>\n      <td>appliances</td>\n      <td>5</td>\n      <td>/home/brandizzi/pb_speaker_adaptation/dataset/...</td>\n      <td>/home/brandizzi/pb_speaker_adaptation/dataset/...</td>\n      <td>/home/brandizzi/pb_speaker_adaptation/dataset/...</td>\n      <td>/home/brandizzi/pb_speaker_adaptation/dataset/...</td>\n      <td>/home/brandizzi/pb_speaker_adaptation/dataset/...</td>\n      <td>...</td>\n      <td>-1</td>\n      <td>-1</td>\n      <td>-1</td>\n      <td>-1</td>\n      <td>-1</td>\n      <td>-1</td>\n      <td>-1</td>\n      <td>-1</td>\n      <td>-1</td>\n      <td>-1</td>\n    </tr>\n    <tr>\n      <th>2</th>\n      <td>2</td>\n      <td>food</td>\n      <td>appliances</td>\n      <td>appliances</td>\n      <td>5</td>\n      <td>/home/brandizzi/pb_speaker_adaptation/dataset/...</td>\n      <td>/home/brandizzi/pb_speaker_adaptation/dataset/...</td>\n      <td>/home/brandizzi/pb_speaker_adaptation/dataset/...</td>\n      <td>/home/brandizzi/pb_speaker_adaptation/dataset/...</td>\n      <td>/home/brandizzi/pb_speaker_adaptation/dataset/...</td>\n      <td>...</td>\n      <td>-1</td>\n      <td>-1</td>\n      <td>-1</td>\n      <td>-1</td>\n      <td>-1</td>\n      <td>-1</td>\n      <td>-1</td>\n      <td>-1</td>\n      <td>-1</td>\n      <td>-1</td>\n    </tr>\n    <tr>\n      <th>3</th>\n      <td>3</td>\n      <td>food</td>\n      <td>appliances</td>\n      <td>appliances</td>\n      <td>1</td>\n      <td>/home/brandizzi/pb_speaker_adaptation/dataset/...</td>\n      <td>/home/brandizzi/pb_speaker_adaptation/dataset/...</td>\n      <td>/home/brandizzi/pb_speaker_adaptation/dataset/...</td>\n      <td>/home/brandizzi/pb_speaker_adaptation/dataset/...</td>\n      <td>/home/brandizzi/pb_speaker_adaptation/dataset/...</td>\n      <td>...</td>\n      <td>-1</td>\n      <td>-1</td>\n      <td>-1</td>\n      <td>-1</td>\n      <td>-1</td>\n      <td>-1</td>\n      <td>-1</td>\n      <td>-1</td>\n      <td>-1</td>\n      <td>-1</td>\n    </tr>\n    <tr>\n      <th>4</th>\n      <td>4</td>\n      <td>food</td>\n      <td>appliances</td>\n      <td>appliances</td>\n      <td>4</td>\n      <td>/home/brandizzi/pb_speaker_adaptation/dataset/...</td>\n      <td>/home/brandizzi/pb_speaker_adaptation/dataset/...</td>\n      <td>/home/brandizzi/pb_speaker_adaptation/dataset/...</td>\n      <td>/home/brandizzi/pb_speaker_adaptation/dataset/...</td>\n      <td>/home/brandizzi/pb_speaker_adaptation/dataset/...</td>\n      <td>...</td>\n      <td>-1</td>\n      <td>-1</td>\n      <td>-1</td>\n      <td>-1</td>\n      <td>-1</td>\n      <td>-1</td>\n      <td>-1</td>\n      <td>-1</td>\n      <td>-1</td>\n      <td>-1</td>\n    </tr>\n    <tr>\n      <th>...</th>\n      <td>...</td>\n      <td>...</td>\n      <td>...</td>\n      <td>...</td>\n      <td>...</td>\n      <td>...</td>\n      <td>...</td>\n      <td>...</td>\n      <td>...</td>\n      <td>...</td>\n      <td>...</td>\n      <td>...</td>\n      <td>...</td>\n      <td>...</td>\n      <td>...</td>\n      <td>...</td>\n      <td>...</td>\n      <td>...</td>\n      <td>...</td>\n      <td>...</td>\n      <td>...</td>\n    </tr>\n    <tr>\n      <th>4743</th>\n      <td>4743</td>\n      <td>outdoor</td>\n      <td>vehicles</td>\n      <td>vehicles</td>\n      <td>5</td>\n      <td>/home/brandizzi/pb_speaker_adaptation/dataset/...</td>\n      <td>/home/brandizzi/pb_speaker_adaptation/dataset/...</td>\n      <td>/home/brandizzi/pb_speaker_adaptation/dataset/...</td>\n      <td>/home/brandizzi/pb_speaker_adaptation/dataset/...</td>\n      <td>/home/brandizzi/pb_speaker_adaptation/dataset/...</td>\n      <td>...</td>\n      <td>-1</td>\n      <td>-1</td>\n      <td>-1</td>\n      <td>-1</td>\n      <td>-1</td>\n      <td>-1</td>\n      <td>-1</td>\n      <td>-1</td>\n      <td>-1</td>\n      <td>-1</td>\n    </tr>\n    <tr>\n      <th>4744</th>\n      <td>4744</td>\n      <td>outdoor</td>\n      <td>vehicles</td>\n      <td>vehicles</td>\n      <td>5</td>\n      <td>/home/brandizzi/pb_speaker_adaptation/dataset/...</td>\n      <td>/home/brandizzi/pb_speaker_adaptation/dataset/...</td>\n      <td>/home/brandizzi/pb_speaker_adaptation/dataset/...</td>\n      <td>/home/brandizzi/pb_speaker_adaptation/dataset/...</td>\n      <td>/home/brandizzi/pb_speaker_adaptation/dataset/...</td>\n      <td>...</td>\n      <td>-1</td>\n      <td>-1</td>\n      <td>-1</td>\n      <td>-1</td>\n      <td>-1</td>\n      <td>-1</td>\n      <td>-1</td>\n      <td>-1</td>\n      <td>-1</td>\n      <td>-1</td>\n    </tr>\n    <tr>\n      <th>4745</th>\n      <td>4745</td>\n      <td>outdoor</td>\n      <td>vehicles</td>\n      <td>vehicles</td>\n      <td>0</td>\n      <td>/home/brandizzi/pb_speaker_adaptation/dataset/...</td>\n      <td>/home/brandizzi/pb_speaker_adaptation/dataset/...</td>\n      <td>/home/brandizzi/pb_speaker_adaptation/dataset/...</td>\n      <td>/home/brandizzi/pb_speaker_adaptation/dataset/...</td>\n      <td>/home/brandizzi/pb_speaker_adaptation/dataset/...</td>\n      <td>...</td>\n      <td>-1</td>\n      <td>-1</td>\n      <td>-1</td>\n      <td>-1</td>\n      <td>-1</td>\n      <td>-1</td>\n      <td>-1</td>\n      <td>-1</td>\n      <td>-1</td>\n      <td>-1</td>\n    </tr>\n    <tr>\n      <th>4746</th>\n      <td>4746</td>\n      <td>outdoor</td>\n      <td>vehicles</td>\n      <td>vehicles</td>\n      <td>4</td>\n      <td>/home/brandizzi/pb_speaker_adaptation/dataset/...</td>\n      <td>/home/brandizzi/pb_speaker_adaptation/dataset/...</td>\n      <td>/home/brandizzi/pb_speaker_adaptation/dataset/...</td>\n      <td>/home/brandizzi/pb_speaker_adaptation/dataset/...</td>\n      <td>/home/brandizzi/pb_speaker_adaptation/dataset/...</td>\n      <td>...</td>\n      <td>-1</td>\n      <td>-1</td>\n      <td>-1</td>\n      <td>-1</td>\n      <td>-1</td>\n      <td>-1</td>\n      <td>-1</td>\n      <td>-1</td>\n      <td>-1</td>\n      <td>-1</td>\n    </tr>\n    <tr>\n      <th>4747</th>\n      <td>4747</td>\n      <td>outdoor</td>\n      <td>vehicles</td>\n      <td>vehicles</td>\n      <td>1</td>\n      <td>/home/brandizzi/pb_speaker_adaptation/dataset/...</td>\n      <td>/home/brandizzi/pb_speaker_adaptation/dataset/...</td>\n      <td>/home/brandizzi/pb_speaker_adaptation/dataset/...</td>\n      <td>/home/brandizzi/pb_speaker_adaptation/dataset/...</td>\n      <td>/home/brandizzi/pb_speaker_adaptation/dataset/...</td>\n      <td>...</td>\n      <td>-1</td>\n      <td>-1</td>\n      <td>-1</td>\n      <td>-1</td>\n      <td>-1</td>\n      <td>-1</td>\n      <td>-1</td>\n      <td>-1</td>\n      <td>-1</td>\n      <td>-1</td>\n    </tr>\n  </tbody>\n</table>\n<p>23740 rows × 234 columns</p>\n</div>"
     },
     "execution_count": 84,
     "metadata": {},
     "output_type": "execute_result"
    }
   ],
   "source": [
    "_df"
   ],
   "metadata": {
    "collapsed": false,
    "pycharm": {
     "name": "#%%\n"
    }
   }
  },
  {
   "cell_type": "code",
   "execution_count": 3,
   "metadata": {
    "colab": {
     "base_uri": "https://localhost:8080/",
     "height": 324
    },
    "id": "Qn-oBQPUau7W",
    "outputId": "1fe3e430-9a5e-4d92-b928-78b457aca31f",
    "pycharm": {
     "name": "#%%\n"
    }
   },
   "outputs": [
    {
     "name": "stdout",
     "output_type": "stream",
     "text": [
      "target domain   : ['food' 'vehicles' 'outdoor' 'indoor' 'appliances']\n",
      "listener domain : ['appliances' 'food' 'indoor' 'outdoor' 'vehicles']\n",
      "simulator domain: ['appliances' 'food' 'indoor' 'outdoor' 'vehicles']\n",
      "Data points: 23740\n",
      "OOD Data points: 23740\n"
     ]
    }
   ],
   "source": [
    "# pd.to_numeric(df['target domain'], errors='coerce')\n",
    "\n",
    "print('target domain   :', _df['target domain'].unique())\n",
    "print('listener domain :', _df['listener domain'].unique())\n",
    "print('simulator domain:', _df['simulator domain'].unique())\n",
    "# _df = _df.dropna()\n",
    "print('Data points:', len(_df))\n",
    "\n",
    "_df = _df[_df['listener domain'] != 'all']\n",
    "_df = _df[_df['simulator domain'] != 'all']\n",
    "\n",
    "id_df = _df[(_df['target domain'] == _df['listener domain'])]\n",
    "ood_df = _df[(_df['target domain'] != _df['listener domain'])]\n",
    "\n",
    "# df = ood_df\n",
    "# df.head(2)\n",
    "print('OOD Data points:', len(_df))"
   ]
  },
  {
   "cell_type": "code",
   "execution_count": 9,
   "metadata": {
    "pycharm": {
     "name": "#%%\n"
    }
   },
   "outputs": [
    {
     "name": "stdout",
     "output_type": "stream",
     "text": [
      "Representations: how many change?\n"
     ]
    },
    {
     "ename": "NameError",
     "evalue": "name 'df' is not defined",
     "output_type": "error",
     "traceback": [
      "\u001B[0;31m---------------------------------------------------------------------------\u001B[0m",
      "\u001B[0;31mNameError\u001B[0m                                 Traceback (most recent call last)",
      "Input \u001B[0;32mIn [9]\u001B[0m, in \u001B[0;36m<cell line: 3>\u001B[0;34m()\u001B[0m\n\u001B[1;32m      2\u001B[0m \u001B[38;5;28mprint\u001B[39m(\u001B[38;5;124m'\u001B[39m\u001B[38;5;124mRepresentations: how many change?\u001B[39m\u001B[38;5;124m'\u001B[39m)\n\u001B[1;32m      3\u001B[0m \u001B[38;5;28;01mfor\u001B[39;00m n \u001B[38;5;129;01min\u001B[39;00m \u001B[38;5;28mrange\u001B[39m(N_STEPS):\n\u001B[0;32m----> 4\u001B[0m     \u001B[38;5;28mprint\u001B[39m(\u001B[38;5;124mf\u001B[39m\u001B[38;5;124m'\u001B[39m\u001B[38;5;124ms\u001B[39m\u001B[38;5;132;01m{\u001B[39;00mn\u001B[38;5;132;01m}\u001B[39;00m\u001B[38;5;124m:\u001B[39m\u001B[38;5;124m'\u001B[39m, \u001B[38;5;28mlen\u001B[39m(\u001B[43mdf\u001B[49m[df[\u001B[38;5;124m'\u001B[39m\u001B[38;5;124moriginal h0\u001B[39m\u001B[38;5;124m'\u001B[39m] \u001B[38;5;241m!=\u001B[39m df[\u001B[38;5;124mf\u001B[39m\u001B[38;5;124m'\u001B[39m\u001B[38;5;124madapted h0 s\u001B[39m\u001B[38;5;132;01m{\u001B[39;00mn\u001B[38;5;132;01m}\u001B[39;00m\u001B[38;5;124m'\u001B[39m]]), \u001B[38;5;124m'\u001B[39m\u001B[38;5;124m/\u001B[39m\u001B[38;5;124m'\u001B[39m, \u001B[38;5;28mlen\u001B[39m(df))\n\u001B[1;32m      6\u001B[0m \u001B[38;5;28mprint\u001B[39m(\u001B[38;5;124m'\u001B[39m\u001B[38;5;130;01m\\n\u001B[39;00m\u001B[38;5;124mUtterances: how many change?\u001B[39m\u001B[38;5;124m'\u001B[39m)\n\u001B[1;32m      7\u001B[0m \u001B[38;5;28;01mfor\u001B[39;00m n \u001B[38;5;129;01min\u001B[39;00m \u001B[38;5;28mrange\u001B[39m(N_STEPS):\n\u001B[1;32m      8\u001B[0m \u001B[38;5;66;03m#     print(f's{n}:', len(df[df['original utt'] != df[f'adapted utt s{n}']]), '/', len(df))\u001B[39;00m\n",
      "\u001B[0;31mNameError\u001B[0m: name 'df' is not defined"
     ]
    }
   ],
   "source": [
    "N_STEPS = 24\n",
    "print('Representations: how many change?')\n",
    "for n in range(N_STEPS):\n",
    "    print(f's{n}:', len(df[df['original h0'] != df[f'adapted h0 s{n}']]), '/', len(df))\n",
    "\n",
    "print('\\nUtterances: how many change?')\n",
    "for n in range(N_STEPS):\n",
    "#     print(f's{n}:', len(df[df['original utt'] != df[f'adapted utt s{n}']]), '/', len(df))\n",
    "    if n > 0:\n",
    "        print(f's{n-1} -> s{n}:', len(df[df[f'adapted utt s{n}'] != df[f'adapted utt s{n-1}']]), '/', len(df))\n",
    "    else:\n",
    "        print(f'orig -> s{n}:', len(df[df[f'adapted utt s{n}'] != df['original utt']]), '/', len(df))"
   ]
  },
  {
   "cell_type": "markdown",
   "metadata": {
    "id": "ondL8JKbzNNM",
    "pycharm": {
     "name": "#%% md\n"
    }
   },
   "source": [
    "## Diagnostic classification"
   ]
  },
  {
   "cell_type": "code",
   "execution_count": 4,
   "metadata": {
    "pycharm": {
     "name": "#%%\n"
    }
   },
   "outputs": [],
   "source": [
    "CLF_TYPE = 'logistic'\n"
   ]
  },
  {
   "cell_type": "code",
   "execution_count": 5,
   "metadata": {
    "id": "ac3QCR4Oh17F",
    "pycharm": {
     "name": "#%%\n"
    }
   },
   "outputs": [],
   "source": [
    "def train_and_classify(X, Y, classifier_type='LR'):\n",
    "    X_train, X_test, Y_train, Y_test = train_test_split(X, Y, stratify=Y, test_size=0.3, random_state=1)\n",
    "    # print(f'X_train: {X_train.shape}  X_test: {X_test.shape}  Y_train: {Y_train.shape}  Y_test: {Y_test.shape}')\n",
    "\n",
    "    scaler = preprocessing.StandardScaler().fit(X_train)\n",
    "    X_train_scaled = scaler.transform(X_train)\n",
    "    X_test_scaled = scaler.transform(X_test)\n",
    "\n",
    "    if classifier_type == 'MLP':\n",
    "        clf = MLPClassifier(random_state=1, max_iter=10000).fit(X_train_scaled, Y_train)\n",
    "    elif classifier_type == 'logistic':\n",
    "        clf = LogisticRegression(random_state=1, max_iter=10000).fit(X_train_scaled, Y_train)\n",
    "    # elif classifier_type == 'linear':\n",
    "    #     clf = LinearRegression().fit(X_train_scaled, Y_train)\n",
    "    else:\n",
    "        raise ValueError()\n",
    "\n",
    "    Y_pred = clf.predict(X_test_scaled)\n",
    "\n",
    "    return classification_report(Y_test, Y_pred), clf, scaler"
   ]
  },
  {
   "cell_type": "code",
   "execution_count": 6,
   "metadata": {
    "pycharm": {
     "name": "#%%\n"
    }
   },
   "outputs": [],
   "source": [
    "def classify(X, Y, classifier, scaler):\n",
    "    X_train, X_test, Y_train, Y_test = train_test_split(X, Y, stratify=Y, test_size=0.3, random_state=1)\n",
    "    # print(f'X_train: {X_train.shape}  X_test: {X_test.shape}  Y_train: {Y_train.shape}  Y_test: {Y_test.shape}')\n",
    "\n",
    "    X_train_scaled = scaler.transform(X_train)\n",
    "    X_test_scaled = scaler.transform(X_test)\n",
    "\n",
    "    Y_pred = classifier.predict(X_test_scaled)\n",
    "\n",
    "    return classification_report(Y_test, Y_pred)"
   ]
  },
  {
   "cell_type": "markdown",
   "metadata": {
    "pycharm": {
     "name": "#%% md\n"
    }
   },
   "source": [
    "# Is the domain of the target image encoded in $h_0$?"
   ]
  },
  {
   "cell_type": "markdown",
   "metadata": {
    "id": "4RlNVcXRzW25",
    "pycharm": {
     "name": "#%% md\n"
    }
   },
   "source": [
    "### Predict target domain from non-adapted hidden representation"
   ]
  },
  {
   "cell_type": "code",
   "execution_count": 7,
   "metadata": {
    "colab": {
     "base_uri": "https://localhost:8080/"
    },
    "id": "PebKWe-sbXeA",
    "outputId": "abb4295a-e819-4f04-bbf6-012eb411b4bb",
    "pycharm": {
     "name": "#%%\n"
    }
   },
   "outputs": [
    {
     "name": "stdout",
     "output_type": "stream",
     "text": [
      "              precision    recall  f1-score   support\n",
      "\n",
      "  appliances       1.00      1.00      1.00       676\n",
      "        food       1.00      1.00      1.00       861\n",
      "      indoor       1.00      1.00      1.00      1880\n",
      "     outdoor       1.00      1.00      1.00      2601\n",
      "    vehicles       1.00      1.00      1.00      1104\n",
      "\n",
      "    accuracy                           1.00      7122\n",
      "   macro avg       1.00      1.00      1.00      7122\n",
      "weighted avg       1.00      1.00      1.00      7122\n",
      "\n"
     ]
    }
   ],
   "source": [
    "X, Y = [], []\n",
    "\n",
    "for _, row in _df.iterrows():\n",
    "    X.append(eval(row['original h0']))\n",
    "    Y.append(row['target domain'])\n",
    "\n",
    "X, Y = np.array(X), np.array(Y)\n",
    "\n",
    "report, target_classifier, target_scaler = train_and_classify(X, Y, CLF_TYPE)\n",
    "print(report)"
   ]
  },
  {
   "cell_type": "code",
   "execution_count": 63,
   "outputs": [
    {
     "data": {
      "text/plain": "<Figure size 432x288 with 1 Axes>",
      "image/png": "[encoded data removed]"
     },
     "metadata": {
      "needs_background": "light"
     },
     "output_type": "display_data"
    }
   ],
   "source": [
    "pca = PCA(2)\n",
    "scaler = preprocessing.StandardScaler().fit(X)\n",
    "X_2dim = pca.fit_transform(scaler.transform(X))\n",
    "\n",
    "for l in df['target domain'].unique():\n",
    "    plt.scatter(X_2dim[Y == l, 0], X_2dim[Y == l, 1], label=l)\n",
    "plt.legend()\n",
    "plt.show()"
   ],
   "metadata": {
    "collapsed": false,
    "pycharm": {
     "name": "#%%\n"
    }
   }
  },
  {
   "cell_type": "markdown",
   "metadata": {
    "id": "KPWMYlSTzkMB",
    "pycharm": {
     "name": "#%% md\n"
    }
   },
   "source": [
    "### Predict _target_ domain from adapted hidden representation (probe trained on non-adapted)"
   ]
  },
  {
   "cell_type": "code",
   "execution_count": 14,
   "metadata": {
    "colab": {
     "base_uri": "https://localhost:8080/"
    },
    "id": "MZ4Uo0EYhErd",
    "outputId": "9e6cf78c-bef3-4844-fdc3-1e9f4c0369e2",
    "pycharm": {
     "name": "#%%\n"
    }
   },
   "outputs": [
    {
     "name": "stdout",
     "output_type": "stream",
     "text": [
      "Step 0\n",
      "Step 1\n",
      "Step 2\n",
      "Step 3\n",
      "Step 4\n",
      "Step 5\n",
      "Step 6\n",
      "Step 7\n",
      "Step 8\n",
      "Step 9\n",
      "Step 10\n",
      "Step 11\n",
      "Step 12\n",
      "Step 13\n",
      "Step 14\n",
      "Step 15\n",
      "Step 16\n",
      "Step 17\n",
      "Step 18\n",
      "Step 19\n",
      "Step 20\n",
      "Step 21\n",
      "Step 22\n",
      "Step 23\n"
     ]
    }
   ],
   "source": [
    "accs = []\n",
    "for step in np.arange(N_STEPS):\n",
    "\n",
    "    print(f'Step {step}')\n",
    "\n",
    "    X, Y = [], []\n",
    "\n",
    "    for _, row in ood_df.iterrows():\n",
    "        try:\n",
    "            x = eval(row[f'adapted h0 s{step}'])\n",
    "        except TypeError:\n",
    "            x = int(row[f'adapted h0 s{step}'])\n",
    "        if x != -1:\n",
    "            X.append(x)\n",
    "            Y.append(row['target domain'])\n",
    "    try:\n",
    "        tmp_report = classify(X, Y, target_classifier, target_scaler)\n",
    "        accs.append(float(tmp_report.split('accuracy')[1].split()[0]))\n",
    "    except ValueError:\n",
    "        print(\"Not enough data to classify\")\n",
    "#     print(tmp_report)\n",
    "\n",
    "\n",
    "#     pca = PCA(2)\n",
    "#     scaler = preprocessing.StandardScaler().fit(X)\n",
    "#     X_2dim = pca.fit_transform(scaler.transform(X))\n",
    "\n",
    "#     for l in df['target domain'].unique():\n",
    "#         plt.scatter(X_2dim[Y == l, 0], X_2dim[Y == l, 1], label=l)\n",
    "#     plt.legend()\n",
    "#     plt.show()"
   ]
  },
  {
   "cell_type": "code",
   "execution_count": 15,
   "metadata": {
    "pycharm": {
     "name": "#%%\n"
    }
   },
   "outputs": [
    {
     "data": {
      "text/plain": "Text(0.5, 0, 'Adaptation step')"
     },
     "execution_count": 15,
     "metadata": {},
     "output_type": "execute_result"
    },
    {
     "data": {
      "text/plain": "<Figure size 432x288 with 1 Axes>",
      "image/png": "[encoded data removed]"
     },
     "metadata": {
      "needs_background": "light"
     },
     "output_type": "display_data"
    }
   ],
   "source": [
    "plt.plot(range(N_STEPS), accs)\n",
    "# plt.title('Random embeddings')\n",
    "plt.ylabel('Accuracy: target image domain')\n",
    "plt.xlabel('Adaptation step')"
   ]
  },
  {
   "cell_type": "code",
   "execution_count": 18,
   "outputs": [
    {
     "name": "stdout",
     "output_type": "stream",
     "text": [
      "Step 0\n",
      "Step 1\n",
      "Step 2\n",
      "Step 3\n",
      "Step 4\n",
      "Step 5\n",
      "Step 6\n",
      "Step 7\n",
      "Step 8\n",
      "Step 9\n",
      "Step 10\n",
      "Step 11\n",
      "Step 12\n",
      "Step 13\n",
      "Step 14\n",
      "Step 15\n",
      "Step 16\n",
      "Step 17\n",
      "Step 18\n",
      "Step 19\n",
      "Step 20\n",
      "Step 21\n",
      "Step 22\n",
      "Step 23\n"
     ]
    },
    {
     "data": {
      "text/plain": "Text(0.5, 0, 'Adaptation step')"
     },
     "execution_count": 18,
     "metadata": {},
     "output_type": "execute_result"
    },
    {
     "data": {
      "text/plain": "<Figure size 432x288 with 1 Axes>",
      "image/png": "[encoded data removed]"
     },
     "metadata": {
      "needs_background": "light"
     },
     "output_type": "display_data"
    }
   ],
   "source": [
    "accs = []\n",
    "for step in np.arange(N_STEPS):\n",
    "\n",
    "    print(f'Step {step}')\n",
    "\n",
    "    X, Y = [], []\n",
    "\n",
    "    for _, row in _df.iterrows():\n",
    "        try:\n",
    "            x = eval(row[f'adapted h0 s{step}'])\n",
    "        except TypeError:\n",
    "            x = int(row[f'adapted h0 s{step}'])\n",
    "        if x != -1:\n",
    "            X.append(x)\n",
    "            Y.append(row['target domain'])\n",
    "    try:\n",
    "        tmp_report = classify(X, Y, target_classifier, target_scaler)\n",
    "        accs.append(float(tmp_report.split('accuracy')[1].split()[0]))\n",
    "    except ValueError:\n",
    "        print(\"Not enough data to classify\")\n",
    "#     print(tmp_report)\n",
    "\n",
    "\n",
    "plt.plot(range(N_STEPS), accs)\n",
    "# plt.title('Random embeddings')\n",
    "plt.ylabel('Accuracy: target image domain')\n",
    "plt.xlabel('Adaptation step')"
   ],
   "metadata": {
    "collapsed": false,
    "pycharm": {
     "name": "#%%\n"
    }
   }
  },
  {
   "cell_type": "markdown",
   "metadata": {
    "pycharm": {
     "name": "#%% md\n"
    }
   },
   "source": [
    "### Predict _target_ domain from adapted hidden representation (probe retrained at each step)"
   ]
  },
  {
   "cell_type": "code",
   "execution_count": 21,
   "metadata": {
    "pycharm": {
     "name": "#%%\n"
    }
   },
   "outputs": [
    {
     "name": "stdout",
     "output_type": "stream",
     "text": [
      "Step 0\n",
      "Step 1\n",
      "Step 2\n",
      "Step 3\n",
      "Step 4\n",
      "Step 5\n",
      "Step 6\n",
      "Step 7\n",
      "Step 8\n",
      "Step 9\n",
      "Step 10\n",
      "Step 11\n",
      "Step 12\n",
      "Step 13\n",
      "Step 14\n",
      "Step 15\n",
      "Step 16\n",
      "Step 17\n",
      "Step 18\n",
      "Step 19\n",
      "Step 20\n",
      "Step 21\n",
      "Step 22\n",
      "Step 23\n"
     ]
    }
   ],
   "source": [
    "accs = []\n",
    "for step in np.arange(N_STEPS):\n",
    "\n",
    "    print(f'Step {step}')\n",
    "\n",
    "    X, Y = [], []\n",
    "\n",
    "    for _, row in ood_df.iterrows():\n",
    "        try:\n",
    "            x = eval(row[f'adapted h0 s{step}'])\n",
    "        except TypeError:\n",
    "            x = int(row[f'adapted h0 s{step}'])\n",
    "        if x != -1:\n",
    "            X.append(x)\n",
    "            Y.append(row['target domain'])\n",
    "    try:\n",
    "        report, _, _ = train_and_classify(X, Y, CLF_TYPE)\n",
    "        accs.append(float(report.split('accuracy')[1].split()[0]))\n",
    "    except ValueError:\n",
    "        print(\"Not enough data to classify\")\n",
    "\n",
    "#     print(report)\n",
    "\n"
   ]
  },
  {
   "cell_type": "code",
   "execution_count": 22,
   "outputs": [
    {
     "data": {
      "text/plain": "[<matplotlib.lines.Line2D at 0x342e3ea00>]"
     },
     "execution_count": 22,
     "metadata": {},
     "output_type": "execute_result"
    },
    {
     "data": {
      "text/plain": "<Figure size 432x288 with 1 Axes>",
      "image/png": "[encoded data removed]"
     },
     "metadata": {
      "needs_background": "light"
     },
     "output_type": "display_data"
    }
   ],
   "source": [
    "plt.plot(range(N_STEPS), accs)"
   ],
   "metadata": {
    "collapsed": false,
    "pycharm": {
     "name": "#%%\n"
    }
   }
  },
  {
   "cell_type": "code",
   "execution_count": 24,
   "metadata": {
    "pycharm": {
     "name": "#%%\n"
    }
   },
   "outputs": [
    {
     "name": "stdout",
     "output_type": "stream",
     "text": [
      "Step 0\n",
      "Step 1\n",
      "Step 2\n",
      "Step 3\n",
      "Step 4\n",
      "Step 5\n",
      "Step 6\n",
      "Step 7\n",
      "Step 8\n",
      "Step 9\n",
      "Step 10\n",
      "Step 11\n",
      "Step 12\n",
      "Step 13\n",
      "Step 14\n",
      "Step 15\n",
      "Step 16\n",
      "Step 17\n",
      "Step 18\n",
      "Step 19\n",
      "Step 20\n",
      "Step 21\n",
      "Step 22\n",
      "Step 23\n"
     ]
    }
   ],
   "source": [
    "accs = []\n",
    "for step in np.arange(N_STEPS):\n",
    "\n",
    "    print(f'Step {step}')\n",
    "\n",
    "    X, Y = [], []\n",
    "\n",
    "    for _, row in _df.iterrows():\n",
    "        try:\n",
    "            x = eval(row[f'adapted h0 s{step}'])\n",
    "        except TypeError:\n",
    "            x = int(row[f'adapted h0 s{step}'])\n",
    "        if x != -1:\n",
    "            X.append(x)\n",
    "            Y.append(row['target domain'])\n",
    "    try:\n",
    "        report, _, _ = train_and_classify(X, Y, CLF_TYPE)\n",
    "    except ValueError:\n",
    "        print(\"Not enough data to classify\")\n",
    "\n",
    "#     print(report)\n",
    "    accs.append(float(report.split('accuracy')[1].split()[0]))\n"
   ]
  },
  {
   "cell_type": "code",
   "execution_count": 27,
   "outputs": [
    {
     "data": {
      "text/plain": "Text(0.5, 0, 'Adaptation step')"
     },
     "execution_count": 27,
     "metadata": {},
     "output_type": "execute_result"
    },
    {
     "data": {
      "text/plain": "<Figure size 432x288 with 1 Axes>",
      "image/png": "[encoded data removed]"
     },
     "metadata": {
      "needs_background": "light"
     },
     "output_type": "display_data"
    }
   ],
   "source": [
    "plt.plot(range(N_STEPS), accs)\n",
    "plt.ylabel('Accuracy: target image domain')\n",
    "plt.xlabel('Adaptation step')"
   ],
   "metadata": {
    "collapsed": false,
    "pycharm": {
     "name": "#%%\n"
    }
   }
  },
  {
   "cell_type": "markdown",
   "metadata": {
    "pycharm": {
     "name": "#%% md\n"
    }
   },
   "source": [
    "# Is the domain of the listener encoded in $h_0$?"
   ]
  },
  {
   "cell_type": "markdown",
   "metadata": {
    "id": "bX14vz7izpYB",
    "pycharm": {
     "name": "#%% md\n"
    }
   },
   "source": [
    "### Try predicting _listener_ domain from non-adapted hidden representation _using the image domain probing classifier_.  \n",
    "\n",
    "That is, is the listener domain encoded similarly to the target domain?"
   ]
  },
  {
   "cell_type": "code",
   "execution_count": 37,
   "metadata": {
    "pycharm": {
     "name": "#%%\n"
    }
   },
   "outputs": [
    {
     "name": "stdout",
     "output_type": "stream",
     "text": [
      "              precision    recall  f1-score   support\n",
      "\n",
      "  appliances       1.00      0.99      1.00       135\n",
      "        food       1.00      1.00      1.00       172\n",
      "      indoor       1.00      1.00      1.00       376\n",
      "     outdoor       1.00      1.00      1.00       521\n",
      "    vehicles       1.00      1.00      1.00       221\n",
      "\n",
      "    accuracy                           1.00      1425\n",
      "   macro avg       1.00      1.00      1.00      1425\n",
      "weighted avg       1.00      1.00      1.00      1425\n",
      "\n"
     ]
    }
   ],
   "source": [
    "X, Y = [], []\n",
    "\n",
    "for _, row in id_df.iterrows():\n",
    "    X.append(eval(row['original h0']))\n",
    "    Y.append(row['listener domain'])\n",
    "\n",
    "X, Y = np.array(X), np.array(Y)\n",
    "\n",
    "\n",
    "print(classify(X, Y, target_classifier, target_scaler))"
   ]
  },
  {
   "cell_type": "code",
   "execution_count": 36,
   "outputs": [
    {
     "name": "stdout",
     "output_type": "stream",
     "text": [
      "              precision    recall  f1-score   support\n",
      "\n",
      "  appliances       0.00      0.00      0.00      1289\n",
      "        food       0.00      0.00      0.00      1252\n",
      "      indoor       0.00      0.00      0.00      1049\n",
      "     outdoor       0.00      0.00      0.00       904\n",
      "    vehicles       0.00      0.00      0.00      1204\n",
      "\n",
      "    accuracy                           0.00      5698\n",
      "   macro avg       0.00      0.00      0.00      5698\n",
      "weighted avg       0.00      0.00      0.00      5698\n",
      "\n"
     ]
    }
   ],
   "source": [
    "X, Y = [], []\n",
    "\n",
    "for _, row in ood_df.iterrows():\n",
    "    X.append(eval(row['original h0']))\n",
    "    Y.append(row['listener domain'])\n",
    "\n",
    "X, Y = np.array(X), np.array(Y)\n",
    "\n",
    "\n",
    "print(classify(X, Y, target_classifier, target_scaler))"
   ],
   "metadata": {
    "collapsed": false,
    "pycharm": {
     "name": "#%%\n"
    }
   }
  },
  {
   "cell_type": "markdown",
   "metadata": {
    "id": "bX14vz7izpYB",
    "pycharm": {
     "name": "#%% md\n"
    }
   },
   "source": [
    "### Predict _listener_ domain from non-adapted hidden representation _using a listener domain probing classifier_.  "
   ]
  },
  {
   "cell_type": "code",
   "execution_count": 57,
   "metadata": {
    "pycharm": {
     "name": "#%%\n"
    }
   },
   "outputs": [
    {
     "name": "stdout",
     "output_type": "stream",
     "text": [
      "              precision    recall  f1-score   support\n",
      "\n",
      "  appliances       0.74      0.72      0.73      1425\n",
      "        food       0.74      0.70      0.72      1424\n",
      "      indoor       0.66      0.67      0.67      1424\n",
      "     outdoor       0.62      0.69      0.65      1425\n",
      "    vehicles       0.73      0.68      0.71      1424\n",
      "\n",
      "    accuracy                           0.69      7122\n",
      "   macro avg       0.70      0.69      0.69      7122\n",
      "weighted avg       0.70      0.69      0.69      7122\n",
      "\n"
     ]
    }
   ],
   "source": [
    "X, Y = [], []\n",
    "\n",
    "for _, row in _df.iterrows():\n",
    "    X.append(eval(row['adapted h0 s0']))\n",
    "    Y.append(row['listener domain'])\n",
    "\n",
    "X, Y = np.array(X), np.array(Y)\n",
    "\n",
    "\n",
    "report, listener_classifier, listener_scaler = train_and_classify(X, Y, CLF_TYPE)\n",
    "print(report)\n"
   ]
  },
  {
   "cell_type": "markdown",
   "metadata": {
    "pycharm": {
     "name": "#%% md\n"
    }
   },
   "source": [
    "### Predict _listener_ domain from adapted hidden representation (probe trained on non-adapted)"
   ]
  },
  {
   "cell_type": "code",
   "execution_count": 46,
   "metadata": {
    "id": "Eg9m_qoHz6XG",
    "pycharm": {
     "name": "#%%\n"
    }
   },
   "outputs": [
    {
     "name": "stdout",
     "output_type": "stream",
     "text": [
      "Step 0\n",
      "Step 1\n",
      "Step 2\n",
      "Step 3\n",
      "Step 4\n",
      "Step 5\n",
      "Step 6\n",
      "Step 7\n",
      "Step 8\n",
      "Step 9\n",
      "Step 10\n",
      "Not enough data to classify\n",
      "Step 11\n",
      "Not enough data to classify\n",
      "Step 12\n",
      "Not enough data to classify\n",
      "Step 13\n",
      "Not enough data to classify\n",
      "Step 14\n",
      "Not enough data to classify\n",
      "Step 15\n",
      "Not enough data to classify\n",
      "Step 16\n",
      "Not enough data to classify\n",
      "Step 17\n",
      "Not enough data to classify\n",
      "Step 18\n",
      "Not enough data to classify\n",
      "Step 19\n",
      "Not enough data to classify\n",
      "Step 20\n",
      "Not enough data to classify\n",
      "Step 21\n",
      "Not enough data to classify\n",
      "Step 22\n",
      "Not enough data to classify\n",
      "Step 23\n",
      "Not enough data to classify\n"
     ]
    }
   ],
   "source": [
    "accs = []\n",
    "\n",
    "for step in np.arange(N_STEPS):\n",
    "    print(f'Step {step}')\n",
    "\n",
    "    X, Y = [], []\n",
    "    for _, row in id_df.iterrows():\n",
    "        try:\n",
    "            x = eval(row[f'adapted h0 s{step}'])\n",
    "        except TypeError:\n",
    "            x = int(row[f'adapted h0 s{step}'])\n",
    "        if x != -1:\n",
    "            X.append(x)\n",
    "            Y.append(row['listener domain'])\n",
    "\n",
    "    X, Y = np.array(X), np.array(Y)\n",
    "\n",
    "    try:\n",
    "        report = classify(X, Y, listener_classifier, listener_scaler)\n",
    "        accs.append(float(report.split('accuracy')[1].split()[0]))\n",
    "    except ValueError:\n",
    "        print(\"Not enough data to classify\")\n",
    "        accs.append(0.)\n",
    "\n",
    "\n",
    "#     print(train_and_classify(X, Y, CLF_TYPE))"
   ]
  },
  {
   "cell_type": "code",
   "execution_count": 47,
   "outputs": [
    {
     "data": {
      "text/plain": "Text(0.5, 0, 'Adaptation step')"
     },
     "execution_count": 47,
     "metadata": {},
     "output_type": "execute_result"
    },
    {
     "data": {
      "text/plain": "<Figure size 432x288 with 1 Axes>",
      "image/png": "[encoded data removed]"
     },
     "metadata": {
      "needs_background": "light"
     },
     "output_type": "display_data"
    }
   ],
   "source": [
    "plt.plot(range(N_STEPS), accs)\n",
    "# plt.title('Random embeddings')\n",
    "plt.ylabel('Accuracy: listener domain')\n",
    "plt.xlabel('Adaptation step')"
   ],
   "metadata": {
    "collapsed": false,
    "pycharm": {
     "name": "#%%\n"
    }
   }
  },
  {
   "cell_type": "code",
   "execution_count": 48,
   "outputs": [
    {
     "name": "stdout",
     "output_type": "stream",
     "text": [
      "Step 0\n",
      "Step 1\n",
      "Step 2\n",
      "Step 3\n",
      "Step 4\n",
      "Step 5\n",
      "Step 6\n",
      "Step 7\n",
      "Step 8\n",
      "Step 9\n",
      "Step 10\n",
      "Step 11\n",
      "Step 12\n",
      "Step 13\n",
      "Step 14\n",
      "Step 15\n",
      "Step 16\n",
      "Step 17\n",
      "Step 18\n",
      "Step 19\n",
      "Step 20\n",
      "Step 21\n",
      "Step 22\n",
      "Step 23\n"
     ]
    }
   ],
   "source": [
    "accs = []\n",
    "\n",
    "for step in np.arange(N_STEPS):\n",
    "    print(f'Step {step}')\n",
    "\n",
    "    X, Y = [], []\n",
    "    for _, row in ood_df.iterrows():\n",
    "        try:\n",
    "            x = eval(row[f'adapted h0 s{step}'])\n",
    "        except TypeError:\n",
    "            x = int(row[f'adapted h0 s{step}'])\n",
    "        if x != -1:\n",
    "            X.append(x)\n",
    "            Y.append(row['listener domain'])\n",
    "\n",
    "    X, Y = np.array(X), np.array(Y)\n",
    "\n",
    "    try:\n",
    "        report = classify(X, Y, listener_classifier, listener_scaler)\n",
    "        accs.append(float(report.split('accuracy')[1].split()[0]))\n",
    "    except ValueError:\n",
    "        accs.append(0.)\n",
    "        print(\"Not enough data to classify\")\n",
    "\n",
    "#     print(train_and_classify(X, Y, CLF_TYPE))"
   ],
   "metadata": {
    "collapsed": false,
    "pycharm": {
     "name": "#%%\n"
    }
   }
  },
  {
   "cell_type": "code",
   "execution_count": 49,
   "outputs": [
    {
     "data": {
      "text/plain": "Text(0.5, 0, 'Adaptation step')"
     },
     "execution_count": 49,
     "metadata": {},
     "output_type": "execute_result"
    },
    {
     "data": {
      "text/plain": "<Figure size 432x288 with 1 Axes>",
      "image/png": "[encoded data removed]"
     },
     "metadata": {
      "needs_background": "light"
     },
     "output_type": "display_data"
    }
   ],
   "source": [
    "plt.plot(range(N_STEPS), accs)\n",
    "# plt.title('Random embeddings')\n",
    "plt.ylabel('Accuracy: listener domain')\n",
    "plt.xlabel('Adaptation step')"
   ],
   "metadata": {
    "collapsed": false,
    "pycharm": {
     "name": "#%%\n"
    }
   }
  },
  {
   "cell_type": "markdown",
   "metadata": {
    "pycharm": {
     "name": "#%% md\n"
    }
   },
   "source": [
    "### Predict _listener_ domain from adapted hidden representation (probe retrained at each step)"
   ]
  },
  {
   "cell_type": "code",
   "execution_count": 53,
   "metadata": {
    "id": "Eg9m_qoHz6XG",
    "pycharm": {
     "name": "#%%\n"
    }
   },
   "outputs": [
    {
     "name": "stdout",
     "output_type": "stream",
     "text": [
      "Step 0\n",
      "Step 1\n",
      "Step 2\n",
      "Step 3\n",
      "Step 4\n",
      "Step 5\n",
      "Step 6\n",
      "Step 7\n",
      "Step 8\n",
      "Step 9\n",
      "Step 10\n"
     ]
    },
    {
     "name": "stderr",
     "output_type": "stream",
     "text": [
      "/Users/mario/code/pb_speaker_adaptation/venv/lib/python3.8/site-packages/sklearn/metrics/_classification.py:1327: UndefinedMetricWarning: Precision and F-score are ill-defined and being set to 0.0 in labels with no predicted samples. Use `zero_division` parameter to control this behavior.\n",
      "  _warn_prf(average, modifier, msg_start, len(result))\n",
      "/Users/mario/code/pb_speaker_adaptation/venv/lib/python3.8/site-packages/sklearn/metrics/_classification.py:1327: UndefinedMetricWarning: Precision and F-score are ill-defined and being set to 0.0 in labels with no predicted samples. Use `zero_division` parameter to control this behavior.\n",
      "  _warn_prf(average, modifier, msg_start, len(result))\n",
      "/Users/mario/code/pb_speaker_adaptation/venv/lib/python3.8/site-packages/sklearn/metrics/_classification.py:1327: UndefinedMetricWarning: Precision and F-score are ill-defined and being set to 0.0 in labels with no predicted samples. Use `zero_division` parameter to control this behavior.\n",
      "  _warn_prf(average, modifier, msg_start, len(result))\n"
     ]
    },
    {
     "name": "stdout",
     "output_type": "stream",
     "text": [
      "Not enough data to classify\n",
      "Step 11\n",
      "Not enough data to classify\n",
      "Step 12\n",
      "Not enough data to classify\n",
      "Step 13\n",
      "Not enough data to classify\n",
      "Step 14\n",
      "Not enough data to classify\n",
      "Step 15\n",
      "Not enough data to classify\n",
      "Step 16\n",
      "Not enough data to classify\n",
      "Step 17\n",
      "Not enough data to classify\n",
      "Step 18\n",
      "Not enough data to classify\n",
      "Step 19\n",
      "Not enough data to classify\n",
      "Step 20\n",
      "Not enough data to classify\n",
      "Step 21\n",
      "Not enough data to classify\n",
      "Step 22\n",
      "Not enough data to classify\n",
      "Step 23\n",
      "Not enough data to classify\n"
     ]
    }
   ],
   "source": [
    "accs = []\n",
    "for step in np.arange(N_STEPS):\n",
    "\n",
    "    print(f'Step {step}')\n",
    "\n",
    "    X, Y = [], []\n",
    "    for _, row in id_df.iterrows():\n",
    "        try:\n",
    "            x = eval(row[f'adapted h0 s{step}'])\n",
    "        except TypeError:\n",
    "            x = int(row[f'adapted h0 s{step}'])\n",
    "        if x != -1:\n",
    "            X.append(x)\n",
    "            Y.append(row['listener domain'])\n",
    "    X, Y = np.array(X), np.array(Y)\n",
    "\n",
    "    try:\n",
    "        report, _, _ = train_and_classify(X, Y, CLF_TYPE)\n",
    "        accs.append(float(report.split('accuracy')[1].split()[0]))\n",
    "    except ValueError:\n",
    "        accs.append(0.)\n",
    "        print(\"Not enough data to classify\")\n"
   ]
  },
  {
   "cell_type": "code",
   "execution_count": 54,
   "outputs": [
    {
     "data": {
      "text/plain": "Text(0.5, 0, 'Adaptation step')"
     },
     "execution_count": 54,
     "metadata": {},
     "output_type": "execute_result"
    },
    {
     "data": {
      "text/plain": "<Figure size 432x288 with 1 Axes>",
      "image/png": "[encoded data removed]"
     },
     "metadata": {
      "needs_background": "light"
     },
     "output_type": "display_data"
    }
   ],
   "source": [
    "plt.plot(range(N_STEPS), accs)\n",
    "# plt.title('Random embeddings')\n",
    "plt.ylabel('Accuracy: listener domain')\n",
    "plt.xlabel('Adaptation step')"
   ],
   "metadata": {
    "collapsed": false,
    "pycharm": {
     "name": "#%%\n"
    }
   }
  },
  {
   "cell_type": "code",
   "execution_count": 55,
   "outputs": [
    {
     "name": "stdout",
     "output_type": "stream",
     "text": [
      "Step 0\n",
      "Step 1\n",
      "Step 2\n",
      "Step 3\n",
      "Step 4\n",
      "Step 5\n",
      "Step 6\n",
      "Step 7\n",
      "Step 8\n",
      "Step 9\n",
      "Step 10\n",
      "Step 11\n",
      "Step 12\n",
      "Step 13\n",
      "Step 14\n",
      "Step 15\n",
      "Step 16\n",
      "Step 17\n",
      "Step 18\n",
      "Step 19\n",
      "Step 20\n",
      "Step 21\n",
      "Step 22\n",
      "Step 23\n"
     ]
    }
   ],
   "source": [
    "accs = []\n",
    "for step in np.arange(N_STEPS):\n",
    "\n",
    "    print(f'Step {step}')\n",
    "\n",
    "    X, Y = [], []\n",
    "    for _, row in _df.iterrows():\n",
    "        try:\n",
    "            x = eval(row[f'adapted h0 s{step}'])\n",
    "        except TypeError:\n",
    "            x = int(row[f'adapted h0 s{step}'])\n",
    "        if x != -1:\n",
    "            X.append(x)\n",
    "            Y.append(row['listener domain'])\n",
    "    X, Y = np.array(X), np.array(Y)\n",
    "\n",
    "    report, _, _ = train_and_classify(X, Y, CLF_TYPE)\n",
    "    accs.append(float(report.split('accuracy')[1].split()[0]))\n",
    "    # print(report)"
   ],
   "metadata": {
    "collapsed": false,
    "pycharm": {
     "name": "#%%\n"
    }
   }
  },
  {
   "cell_type": "code",
   "execution_count": 58,
   "outputs": [
    {
     "data": {
      "text/plain": "Text(0.5, 0, 'Adaptation step')"
     },
     "execution_count": 58,
     "metadata": {},
     "output_type": "execute_result"
    },
    {
     "data": {
      "text/plain": "<Figure size 432x288 with 1 Axes>",
      "image/png": "[encoded data removed]"
     },
     "metadata": {
      "needs_background": "light"
     },
     "output_type": "display_data"
    }
   ],
   "source": [
    "plt.plot(range(-1, N_STEPS), [.15] + accs)\n",
    "# plt.title('Random embeddings')\n",
    "plt.ylabel('Accuracy: listener domain')\n",
    "plt.xlabel('Adaptation step')"
   ],
   "metadata": {
    "collapsed": false,
    "pycharm": {
     "name": "#%%\n"
    }
   }
  },
  {
   "cell_type": "markdown",
   "metadata": {
    "pycharm": {
     "name": "#%% md\n"
    }
   },
   "source": [
    "# Is the adaptation itself (described as the difference between adapted and non-adapted $h_0$) predictive of listener domains?"
   ]
  },
  {
   "cell_type": "markdown",
   "metadata": {
    "id": "tA-RB_iU0BHZ",
    "pycharm": {
     "name": "#%% md\n"
    }
   },
   "source": [
    "### Predict listener domain from difference between adapted and non-adapted hidden representation (probe retrained at each step)"
   ]
  },
  {
   "cell_type": "code",
   "execution_count": 76,
   "metadata": {
    "colab": {
     "base_uri": "https://localhost:8080/"
    },
    "id": "JkIvv80lb1KX",
    "outputId": "36cd5656-f502-41e9-df09-041baabe71a4",
    "pycharm": {
     "name": "#%%\n"
    }
   },
   "outputs": [
    {
     "name": "stdout",
     "output_type": "stream",
     "text": [
      "Step 0\n",
      "              precision    recall  f1-score   support\n",
      "\n",
      "  appliances       0.74      0.75      0.75      1289\n",
      "        food       0.68      0.76      0.72      1252\n",
      "      indoor       0.77      0.70      0.74      1049\n",
      "     outdoor       0.75      0.71      0.73       904\n",
      "    vehicles       0.74      0.72      0.73      1204\n",
      "\n",
      "    accuracy                           0.73      5698\n",
      "   macro avg       0.74      0.73      0.73      5698\n",
      "weighted avg       0.73      0.73      0.73      5698\n",
      "\n",
      "Step 1\n",
      "              precision    recall  f1-score   support\n",
      "\n",
      "  appliances       0.80      0.80      0.80      1289\n",
      "        food       0.74      0.79      0.77      1252\n",
      "      indoor       0.76      0.77      0.77      1049\n",
      "     outdoor       0.76      0.76      0.76       904\n",
      "    vehicles       0.82      0.76      0.79      1204\n",
      "\n",
      "    accuracy                           0.78      5698\n",
      "   macro avg       0.78      0.78      0.78      5698\n",
      "weighted avg       0.78      0.78      0.78      5698\n",
      "\n",
      "Step 2\n",
      "              precision    recall  f1-score   support\n",
      "\n",
      "  appliances       0.77      0.75      0.76      1289\n",
      "        food       0.69      0.74      0.72      1252\n",
      "      indoor       0.69      0.70      0.69      1049\n",
      "     outdoor       0.72      0.72      0.72       904\n",
      "    vehicles       0.76      0.72      0.74      1204\n",
      "\n",
      "    accuracy                           0.73      5698\n",
      "   macro avg       0.73      0.73      0.73      5698\n",
      "weighted avg       0.73      0.73      0.73      5698\n",
      "\n",
      "Step 3\n",
      "              precision    recall  f1-score   support\n",
      "\n",
      "  appliances       0.64      0.64      0.64      1289\n",
      "        food       0.62      0.63      0.62      1252\n",
      "      indoor       0.60      0.60      0.60      1049\n",
      "     outdoor       0.62      0.59      0.60       904\n",
      "    vehicles       0.61      0.62      0.62      1204\n",
      "\n",
      "    accuracy                           0.62      5698\n",
      "   macro avg       0.62      0.62      0.62      5698\n",
      "weighted avg       0.62      0.62      0.62      5698\n",
      "\n",
      "Step 4\n",
      "              precision    recall  f1-score   support\n",
      "\n",
      "  appliances       0.51      0.51      0.51      1289\n",
      "        food       0.52      0.53      0.52      1252\n",
      "      indoor       0.51      0.51      0.51      1049\n",
      "     outdoor       0.53      0.48      0.51       904\n",
      "    vehicles       0.47      0.50      0.49      1204\n",
      "\n",
      "    accuracy                           0.51      5698\n",
      "   macro avg       0.51      0.51      0.51      5698\n",
      "weighted avg       0.51      0.51      0.51      5698\n",
      "\n",
      "Step 5\n",
      "              precision    recall  f1-score   support\n",
      "\n",
      "  appliances       0.44      0.44      0.44      1289\n",
      "        food       0.45      0.46      0.46      1252\n",
      "      indoor       0.45      0.42      0.43      1049\n",
      "     outdoor       0.46      0.40      0.43       904\n",
      "    vehicles       0.40      0.44      0.42      1204\n",
      "\n",
      "    accuracy                           0.44      5698\n",
      "   macro avg       0.44      0.43      0.44      5698\n",
      "weighted avg       0.44      0.44      0.44      5698\n",
      "\n",
      "Step 6\n",
      "              precision    recall  f1-score   support\n",
      "\n",
      "  appliances       0.38      0.40      0.39      1289\n",
      "        food       0.41      0.41      0.41      1252\n",
      "      indoor       0.40      0.38      0.39      1049\n",
      "     outdoor       0.40      0.36      0.38       904\n",
      "    vehicles       0.36      0.38      0.37      1204\n",
      "\n",
      "    accuracy                           0.39      5698\n",
      "   macro avg       0.39      0.39      0.39      5698\n",
      "weighted avg       0.39      0.39      0.39      5698\n",
      "\n",
      "Step 7\n"
     ]
    },
    {
     "ename": "KeyboardInterrupt",
     "evalue": "",
     "output_type": "error",
     "traceback": [
      "\u001B[0;31m---------------------------------------------------------------------------\u001B[0m",
      "\u001B[0;31mKeyboardInterrupt\u001B[0m                         Traceback (most recent call last)",
      "Input \u001B[0;32mIn [76]\u001B[0m, in \u001B[0;36m<cell line: 1>\u001B[0;34m()\u001B[0m\n\u001B[1;32m      5\u001B[0m X, Y \u001B[38;5;241m=\u001B[39m [], []\n\u001B[1;32m      6\u001B[0m \u001B[38;5;28;01mfor\u001B[39;00m _, row \u001B[38;5;129;01min\u001B[39;00m df\u001B[38;5;241m.\u001B[39miterrows():\n\u001B[0;32m----> 7\u001B[0m     X\u001B[38;5;241m.\u001B[39mappend(np\u001B[38;5;241m.\u001B[39marray(\u001B[38;5;28meval\u001B[39m(row[\u001B[38;5;124mf\u001B[39m\u001B[38;5;124m'\u001B[39m\u001B[38;5;124madapted h0 s\u001B[39m\u001B[38;5;132;01m{\u001B[39;00mstep\u001B[38;5;132;01m}\u001B[39;00m\u001B[38;5;124m'\u001B[39m])) \u001B[38;5;241m-\u001B[39m np\u001B[38;5;241m.\u001B[39marray(\u001B[38;5;28;43meval\u001B[39;49m\u001B[43m(\u001B[49m\u001B[43mrow\u001B[49m\u001B[43m[\u001B[49m\u001B[38;5;124;43m'\u001B[39;49m\u001B[38;5;124;43moriginal h0\u001B[39;49m\u001B[38;5;124;43m'\u001B[39;49m\u001B[43m]\u001B[49m\u001B[43m)\u001B[49m))\n\u001B[1;32m      8\u001B[0m     Y\u001B[38;5;241m.\u001B[39mappend(row[\u001B[38;5;124m'\u001B[39m\u001B[38;5;124mlistener domain\u001B[39m\u001B[38;5;124m'\u001B[39m])\n\u001B[1;32m     10\u001B[0m X, Y \u001B[38;5;241m=\u001B[39m np\u001B[38;5;241m.\u001B[39marray(X), np\u001B[38;5;241m.\u001B[39marray(Y)\n",
      "File \u001B[0;32m<string>:1\u001B[0m, in \u001B[0;36m<module>\u001B[0;34m\u001B[0m\n",
      "\u001B[0;31mKeyboardInterrupt\u001B[0m: "
     ]
    }
   ],
   "source": [
    "for step in np.arange(N_STEPS):\n",
    "\n",
    "    print(f'Step {step}')\n",
    "\n",
    "    X, Y = [], []\n",
    "    for _, row in df.iterrows():\n",
    "        X.append(np.array(eval(row[f'adapted h0 s{step}'])) - np.array(eval(row['original h0'])))\n",
    "        Y.append(row['listener domain'])\n",
    "\n",
    "    X, Y = np.array(X), np.array(Y)\n",
    "\n",
    "    report, _, _ = train_and_classify(X, Y, CLF_TYPE)\n",
    "    print(report)"
   ]
  },
  {
   "cell_type": "markdown",
   "metadata": {
    "id": "ZezAMO-r0J28",
    "pycharm": {
     "name": "#%% md\n"
    }
   },
   "source": [
    "## Diagnostic clustering"
   ]
  },
  {
   "cell_type": "code",
   "execution_count": null,
   "outputs": [],
   "source": [
    "def cluster_and_plot(X, Y, k=5):\n",
    "    kmeans = KMeans(n_clusters=k, random_state=1).fit(X)\n",
    "    Y_pred = kmeans.labels_\n",
    "    # print(Y)\n",
    "\n",
    "    print(f'Adjusted rand score: {adjusted_rand_score(Y_pred, Y)}')\n",
    "\n",
    "    pca = PCA(2)\n",
    "    X_2dim = pca.fit_transform(X)\n",
    "    labels = np.unique(Y_pred)\n",
    "\n",
    "    for i in labels:\n",
    "        plt.scatter(X_2dim[Y_pred == i, 0], X_2dim[Y_pred == i, 1], label=i)\n",
    "    plt.legend()\n",
    "    plt.show()\n",
    "\n",
    "    return kmeans, plt"
   ],
   "metadata": {
    "collapsed": false,
    "pycharm": {
     "name": "#%%\n"
    }
   }
  },
  {
   "cell_type": "markdown",
   "metadata": {
    "id": "JOLYqBPo1mbt",
    "pycharm": {
     "name": "#%% md\n"
    }
   },
   "source": [
    "### Cluster non-adapted hidden representations (vs. target domains)"
   ]
  },
  {
   "cell_type": "code",
   "execution_count": null,
   "outputs": [],
   "source": [
    "X, Y = [], []\n",
    "\n",
    "for _, row in df.iterrows():\n",
    "    X.append(eval(row['original h0']))\n",
    "    Y.append(row['target domain'])\n",
    "\n",
    "X, Y = np.array(X), np.array(Y)\n",
    "\n",
    "cluster_and_plot(X, Y)"
   ],
   "metadata": {
    "collapsed": false,
    "pycharm": {
     "name": "#%%\n"
    }
   }
  },
  {
   "cell_type": "markdown",
   "metadata": {
    "id": "2QIuBljZ16jv",
    "pycharm": {
     "name": "#%% md\n"
    }
   },
   "source": [
    "### Cluster adapted hidden representations (vs. target domains)\n",
    "\n"
   ]
  },
  {
   "cell_type": "code",
   "execution_count": null,
   "outputs": [],
   "source": [
    "for step in np.arange(N_STEPS):\n",
    "\n",
    "    print(f'Step {step}')\n",
    "\n",
    "    X, Y = [], []\n",
    "\n",
    "    for _, row in df.iterrows():\n",
    "        X.append(eval(row[f'adapted h0 s{step}']))\n",
    "        Y.append(row['target domain'])\n",
    "\n",
    "    X, Y = np.array(X), np.array(Y)\n",
    "\n",
    "    cluster_and_plot(X, Y)"
   ],
   "metadata": {
    "collapsed": false,
    "pycharm": {
     "name": "#%%\n"
    }
   }
  },
  {
   "cell_type": "markdown",
   "metadata": {
    "id": "xYksOQR62EvT",
    "pycharm": {
     "name": "#%% md\n"
    }
   },
   "source": [
    "### Cluster adapted hidden representations (vs. listener domains)\n"
   ]
  },
  {
   "cell_type": "code",
   "execution_count": null,
   "outputs": [],
   "source": [
    "for step in np.arange(N_STEPS):\n",
    "\n",
    "    print(f'Step {step}')\n",
    "\n",
    "    X, Y = [], []\n",
    "\n",
    "    for _, row in df.iterrows():\n",
    "        X.append(eval(row[f'adapted h0 s{step}']))\n",
    "        Y.append(row['listener domain'])\n",
    "\n",
    "    X, Y = np.array(X), np.array(Y)\n",
    "\n",
    "    cluster_and_plot(X, Y)"
   ],
   "metadata": {
    "collapsed": false,
    "pycharm": {
     "name": "#%%\n"
    }
   }
  },
  {
   "cell_type": "markdown",
   "metadata": {
    "id": "OGFkt9P72MIx",
    "pycharm": {
     "name": "#%% md\n"
    }
   },
   "source": [
    "### Cluster difference between adapted and non-adapted hidden representations (vs. listener domains)\n"
   ]
  },
  {
   "cell_type": "code",
   "execution_count": null,
   "outputs": [],
   "source": [
    "for step in np.arange(N_STEPS):\n",
    "\n",
    "    print(f'Step {step}')\n",
    "\n",
    "    X, Y = [], []\n",
    "\n",
    "    for _, row in df.iterrows():\n",
    "        X.append(np.array(eval(row[f'adapted h0 s{step}'])) - np.array(eval(row['original h0'])))\n",
    "        Y.append(row['listener domain'])\n",
    "\n",
    "    X, Y = np.array(X), np.array(Y)\n",
    "\n",
    "    cluster_and_plot(X, Y)"
   ],
   "metadata": {
    "collapsed": false,
    "pycharm": {
     "name": "#%%\n"
    }
   }
  },
  {
   "cell_type": "code",
   "execution_count": null,
   "metadata": {
    "pycharm": {
     "name": "#%%\n"
    }
   },
   "outputs": [],
   "source": []
  }
 ],
 "metadata": {
  "colab": {
   "collapsed_sections": [],
   "name": "analyse_hidden.ipynb",
   "provenance": [],
   "toc_visible": true
  },
  "kernelspec": {
   "display_name": "Python 3 (ipykernel)",
   "language": "python",
   "name": "python3"
  },
  "language_info": {
   "codemirror_mode": {
    "name": "ipython",
    "version": 3
   },
   "file_extension": ".py",
   "mimetype": "text/x-python",
   "name": "python",
   "nbconvert_exporter": "python",
   "pygments_lexer": "ipython3",
   "version": "3.8.9"
  }
 },
 "nbformat": 4,
 "nbformat_minor": 1
}