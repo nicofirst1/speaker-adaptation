{
 "nbformat": 4,
 "nbformat_minor": 0,
 "metadata": {
  "colab": {
   "name": "analyse_hidden.ipynb",
   "provenance": [],
   "collapsed_sections": [],
   "toc_visible": true
  },
  "kernelspec": {
   "name": "python3",
   "display_name": "Python 3"
  },
  "language_info": {
   "name": "python"
  }
 },
 "cells": [
  {
   "cell_type": "code",
   "execution_count": 1,
   "metadata": {
    "id": "dVBvonq7aVa_",
    "pycharm": {
     "name": "#%%\n"
    }
   },
   "outputs": [],
   "source": [
    "import pandas as pd\n",
    "import numpy as np\n",
    "from sklearn import preprocessing\n",
    "from sklearn.neural_network import MLPClassifier\n",
    "from sklearn.linear_model import LogisticRegression, LinearRegression\n",
    "from sklearn.model_selection import train_test_split\n",
    "from sklearn.metrics import classification_report\n",
    "from sklearn.cluster import KMeans\n",
    "from sklearn.metrics.cluster import adjusted_rand_score\n",
    "from matplotlib import pyplot as plt\n",
    "from sklearn.decomposition import PCA"
   ]
  },
  {
   "cell_type": "markdown",
   "source": [
    "all_df = pd.read_csv('/Users/mario/code/pb_speaker_adaptation/src/analysis/adaptive_speak_eval_22june/adaptive_speak_eval_all_v15.csv', on_bad_lines='skip')\n",
    "print('target domain   :', all_df['target domain'].unique())\n",
    "print('listener domain :', all_df['listener domain'].unique())\n",
    "print('simulator domain:', all_df['simulator domain'].unique())"
   ],
   "metadata": {
    "collapsed": false,
    "pycharm": {
     "name": "#%% md\n"
    }
   }
  },
  {
   "cell_type": "markdown",
   "source": [
    "df = pd.read_csv('/Users/mario/code/pb_speaker_adaptation/src/analysis/adaptive_speak_eval_22june/adaptive_speak_eval_food_v2.csv')\n",
    "print('target domain   :', df['target domain'].unique())\n",
    "print('listener domain :', df['listener domain'].unique())\n",
    "print('simulator domain:', df['simulator domain'].unique())"
   ],
   "metadata": {
    "collapsed": false,
    "pycharm": {
     "name": "#%% md\n"
    }
   }
  },
  {
   "cell_type": "code",
   "source": [
    "df = pd.concat([\n",
    "    pd.read_csv('/Users/mario/code/pb_speaker_adaptation/src/analysis/adaptive_test_4july/adaptive_speak_test_out_domain_appliances.csv', error_bad_lines=False, warn_bad_lines=True),\n",
    "    pd.read_csv('/Users/mario/code/pb_speaker_adaptation/src/analysis/adaptive_test_4july/adaptive_speak_test_out_domain_food.csv', error_bad_lines=False, warn_bad_lines=True),\n",
    "    pd.read_csv('/Users/mario/code/pb_speaker_adaptation/src/analysis/adaptive_test_4july/adaptive_speak_test_out_domain_indoor.csv', error_bad_lines=False, warn_bad_lines=True),\n",
    "    pd.read_csv('/Users/mario/code/pb_speaker_adaptation/src/analysis/adaptive_test_4july/adaptive_speak_test_out_domain_outdoor.csv', error_bad_lines=False, warn_bad_lines=True),\n",
    "    pd.read_csv('/Users/mario/code/pb_speaker_adaptation/src/analysis/adaptive_test_4july/adaptive_speak_test_out_domain_vehicles.csv', error_bad_lines=False, warn_bad_lines=True)\n",
    "])\n",
    "\n",
    "# pd.to_numeric(df['target domain'], errors='coerce')\n",
    "\n",
    "print('target domain   :', df['target domain'].unique())\n",
    "print('listener domain :', df['listener domain'].unique())\n",
    "print('simulator domain:', df['simulator domain'].unique())\n",
    "df = df.dropna()\n",
    "print('Data points:', len(df))\n",
    "\n",
    "df.head(5)"
   ],
   "metadata": {
    "colab": {
     "base_uri": "https://localhost:8080/",
     "height": 324
    },
    "id": "Qn-oBQPUau7W",
    "outputId": "1fe3e430-9a5e-4d92-b928-78b457aca31f",
    "pycharm": {
     "name": "#%%\n"
    }
   },
   "execution_count": 2,
   "outputs": [
    {
     "name": "stderr",
     "output_type": "stream",
     "text": [
      "/var/folders/0s/847v13g104z23kr193w_v2640000gn/T/ipykernel_7636/2089314111.py:2: FutureWarning: The error_bad_lines argument has been deprecated and will be removed in a future version. Use on_bad_lines in the future.\n",
      "\n",
      "\n",
      "  pd.read_csv('/Users/mario/code/pb_speaker_adaptation/src/analysis/adaptive_test_4july/adaptive_speak_test_out_domain_appliances.csv', error_bad_lines=False, warn_bad_lines=True),\n",
      "/var/folders/0s/847v13g104z23kr193w_v2640000gn/T/ipykernel_7636/2089314111.py:2: FutureWarning: The warn_bad_lines argument has been deprecated and will be removed in a future version. Use on_bad_lines in the future.\n",
      "\n",
      "\n",
      "  pd.read_csv('/Users/mario/code/pb_speaker_adaptation/src/analysis/adaptive_test_4july/adaptive_speak_test_out_domain_appliances.csv', error_bad_lines=False, warn_bad_lines=True),\n",
      "b'Skipping line 938: expected 88 fields, saw 104\\nSkipping line 6163: expected 88 fields, saw 448\\n'\n",
      "/var/folders/0s/847v13g104z23kr193w_v2640000gn/T/ipykernel_7636/2089314111.py:3: FutureWarning: The error_bad_lines argument has been deprecated and will be removed in a future version. Use on_bad_lines in the future.\n",
      "\n",
      "\n",
      "  pd.read_csv('/Users/mario/code/pb_speaker_adaptation/src/analysis/adaptive_test_4july/adaptive_speak_test_out_domain_food.csv', error_bad_lines=False, warn_bad_lines=True),\n",
      "/var/folders/0s/847v13g104z23kr193w_v2640000gn/T/ipykernel_7636/2089314111.py:3: FutureWarning: The warn_bad_lines argument has been deprecated and will be removed in a future version. Use on_bad_lines in the future.\n",
      "\n",
      "\n",
      "  pd.read_csv('/Users/mario/code/pb_speaker_adaptation/src/analysis/adaptive_test_4july/adaptive_speak_test_out_domain_food.csv', error_bad_lines=False, warn_bad_lines=True),\n",
      "/var/folders/0s/847v13g104z23kr193w_v2640000gn/T/ipykernel_7636/2089314111.py:4: FutureWarning: The error_bad_lines argument has been deprecated and will be removed in a future version. Use on_bad_lines in the future.\n",
      "\n",
      "\n",
      "  pd.read_csv('/Users/mario/code/pb_speaker_adaptation/src/analysis/adaptive_test_4july/adaptive_speak_test_out_domain_indoor.csv', error_bad_lines=False, warn_bad_lines=True),\n",
      "/var/folders/0s/847v13g104z23kr193w_v2640000gn/T/ipykernel_7636/2089314111.py:4: FutureWarning: The warn_bad_lines argument has been deprecated and will be removed in a future version. Use on_bad_lines in the future.\n",
      "\n",
      "\n",
      "  pd.read_csv('/Users/mario/code/pb_speaker_adaptation/src/analysis/adaptive_test_4july/adaptive_speak_test_out_domain_indoor.csv', error_bad_lines=False, warn_bad_lines=True),\n",
      "b'Skipping line 1576: expected 88 fields, saw 97\\nSkipping line 3507: expected 88 fields, saw 91\\n'\n",
      "/var/folders/0s/847v13g104z23kr193w_v2640000gn/T/ipykernel_7636/2089314111.py:5: FutureWarning: The error_bad_lines argument has been deprecated and will be removed in a future version. Use on_bad_lines in the future.\n",
      "\n",
      "\n",
      "  pd.read_csv('/Users/mario/code/pb_speaker_adaptation/src/analysis/adaptive_test_4july/adaptive_speak_test_out_domain_outdoor.csv', error_bad_lines=False, warn_bad_lines=True),\n",
      "/var/folders/0s/847v13g104z23kr193w_v2640000gn/T/ipykernel_7636/2089314111.py:5: FutureWarning: The warn_bad_lines argument has been deprecated and will be removed in a future version. Use on_bad_lines in the future.\n",
      "\n",
      "\n",
      "  pd.read_csv('/Users/mario/code/pb_speaker_adaptation/src/analysis/adaptive_test_4july/adaptive_speak_test_out_domain_outdoor.csv', error_bad_lines=False, warn_bad_lines=True),\n",
      "b'Skipping line 4646: expected 88 fields, saw 167\\nSkipping line 6102: expected 88 fields, saw 5369\\n'\n",
      "/var/folders/0s/847v13g104z23kr193w_v2640000gn/T/ipykernel_7636/2089314111.py:6: FutureWarning: The error_bad_lines argument has been deprecated and will be removed in a future version. Use on_bad_lines in the future.\n",
      "\n",
      "\n",
      "  pd.read_csv('/Users/mario/code/pb_speaker_adaptation/src/analysis/adaptive_test_4july/adaptive_speak_test_out_domain_vehicles.csv', error_bad_lines=False, warn_bad_lines=True)\n",
      "/var/folders/0s/847v13g104z23kr193w_v2640000gn/T/ipykernel_7636/2089314111.py:6: FutureWarning: The warn_bad_lines argument has been deprecated and will be removed in a future version. Use on_bad_lines in the future.\n",
      "\n",
      "\n",
      "  pd.read_csv('/Users/mario/code/pb_speaker_adaptation/src/analysis/adaptive_test_4july/adaptive_speak_test_out_domain_vehicles.csv', error_bad_lines=False, warn_bad_lines=True)\n"
     ]
    },
    {
     "name": "stdout",
     "output_type": "stream",
     "text": [
      "target domain   : ['vehicles' 'outdoor' 'indoor' 'food' 'appliances']\n",
      "listener domain : ['food' 'vehicles' 'appliances' 'indoor' 'outdoor' 'all']\n",
      "simulator domain: ['food' 'vehicles' 'appliances' 'indoor' 'outdoor' 'all']\n",
      "Data points: 18115\n"
     ]
    },
    {
     "data": {
      "text/plain": "   Unnamed: 0 target domain listener domain simulator domain  target img idx  \\\n1           1      vehicles            food             food               3   \n2           2      vehicles            food             food               4   \n4           4      vehicles            food             food               3   \n8           8      vehicles            food             food               2   \n9           9      vehicles            food             food               5   \n\n                                         img path #0  \\\n1  /home/brandizzi/pb_speaker_adaptation/dataset/...   \n2  /home/brandizzi/pb_speaker_adaptation/dataset/...   \n4  /home/brandizzi/pb_speaker_adaptation/dataset/...   \n8  /home/brandizzi/pb_speaker_adaptation/dataset/...   \n9  /home/brandizzi/pb_speaker_adaptation/dataset/...   \n\n                                         img path #1  \\\n1  /home/brandizzi/pb_speaker_adaptation/dataset/...   \n2  /home/brandizzi/pb_speaker_adaptation/dataset/...   \n4  /home/brandizzi/pb_speaker_adaptation/dataset/...   \n8  /home/brandizzi/pb_speaker_adaptation/dataset/...   \n9  /home/brandizzi/pb_speaker_adaptation/dataset/...   \n\n                                         img path #2  \\\n1  /home/brandizzi/pb_speaker_adaptation/dataset/...   \n2  /home/brandizzi/pb_speaker_adaptation/dataset/...   \n4  /home/brandizzi/pb_speaker_adaptation/dataset/...   \n8  /home/brandizzi/pb_speaker_adaptation/dataset/...   \n9  /home/brandizzi/pb_speaker_adaptation/dataset/...   \n\n                                         img path #3  \\\n1  /home/brandizzi/pb_speaker_adaptation/dataset/...   \n2  /home/brandizzi/pb_speaker_adaptation/dataset/...   \n4  /home/brandizzi/pb_speaker_adaptation/dataset/...   \n8  /home/brandizzi/pb_speaker_adaptation/dataset/...   \n9  /home/brandizzi/pb_speaker_adaptation/dataset/...   \n\n                                         img path #4  ... adapted_acc_s0  \\\n1  /home/brandizzi/pb_speaker_adaptation/dataset/...  ...            0.0   \n2  /home/brandizzi/pb_speaker_adaptation/dataset/...  ...            0.0   \n4  /home/brandizzi/pb_speaker_adaptation/dataset/...  ...            0.0   \n8  /home/brandizzi/pb_speaker_adaptation/dataset/...  ...            0.0   \n9  /home/brandizzi/pb_speaker_adaptation/dataset/...  ...            0.0   \n\n  adapted_acc_s1 adapted_acc_s2 adapted_acc_s3 adapted_acc_s4 adapted_acc_s5  \\\n1            0.0            0.0            0.0            0.0            0.0   \n2            0.0            0.0            0.0            0.0            0.0   \n4            0.0            0.0            0.0            0.0            0.0   \n8            0.0            0.0            0.0            0.0            0.0   \n9            0.0            0.0            0.0            0.0            0.0   \n\n  adapted_acc_s6 adapted_acc_s7 adapted_acc_s8 adapted_acc_s9  \n1            0.0            0.0            0.0            0.0  \n2            0.0            0.0            0.0            0.0  \n4            0.0            0.0            0.0            0.0  \n8            0.0            0.0            0.0            0.0  \n9            0.0            0.0            0.0            0.0  \n\n[5 rows x 88 columns]",
      "text/html": "<div>\n<style scoped>\n    .dataframe tbody tr th:only-of-type {\n        vertical-align: middle;\n    }\n\n    .dataframe tbody tr th {\n        vertical-align: top;\n    }\n\n    .dataframe thead th {\n        text-align: right;\n    }\n</style>\n<table border=\"1\" class=\"dataframe\">\n  <thead>\n    <tr style=\"text-align: right;\">\n      <th></th>\n      <th>Unnamed: 0</th>\n      <th>target domain</th>\n      <th>listener domain</th>\n      <th>simulator domain</th>\n      <th>target img idx</th>\n      <th>img path #0</th>\n      <th>img path #1</th>\n      <th>img path #2</th>\n      <th>img path #3</th>\n      <th>img path #4</th>\n      <th>...</th>\n      <th>adapted_acc_s0</th>\n      <th>adapted_acc_s1</th>\n      <th>adapted_acc_s2</th>\n      <th>adapted_acc_s3</th>\n      <th>adapted_acc_s4</th>\n      <th>adapted_acc_s5</th>\n      <th>adapted_acc_s6</th>\n      <th>adapted_acc_s7</th>\n      <th>adapted_acc_s8</th>\n      <th>adapted_acc_s9</th>\n    </tr>\n  </thead>\n  <tbody>\n    <tr>\n      <th>1</th>\n      <td>1</td>\n      <td>vehicles</td>\n      <td>food</td>\n      <td>food</td>\n      <td>3</td>\n      <td>/home/brandizzi/pb_speaker_adaptation/dataset/...</td>\n      <td>/home/brandizzi/pb_speaker_adaptation/dataset/...</td>\n      <td>/home/brandizzi/pb_speaker_adaptation/dataset/...</td>\n      <td>/home/brandizzi/pb_speaker_adaptation/dataset/...</td>\n      <td>/home/brandizzi/pb_speaker_adaptation/dataset/...</td>\n      <td>...</td>\n      <td>0.0</td>\n      <td>0.0</td>\n      <td>0.0</td>\n      <td>0.0</td>\n      <td>0.0</td>\n      <td>0.0</td>\n      <td>0.0</td>\n      <td>0.0</td>\n      <td>0.0</td>\n      <td>0.0</td>\n    </tr>\n    <tr>\n      <th>2</th>\n      <td>2</td>\n      <td>vehicles</td>\n      <td>food</td>\n      <td>food</td>\n      <td>4</td>\n      <td>/home/brandizzi/pb_speaker_adaptation/dataset/...</td>\n      <td>/home/brandizzi/pb_speaker_adaptation/dataset/...</td>\n      <td>/home/brandizzi/pb_speaker_adaptation/dataset/...</td>\n      <td>/home/brandizzi/pb_speaker_adaptation/dataset/...</td>\n      <td>/home/brandizzi/pb_speaker_adaptation/dataset/...</td>\n      <td>...</td>\n      <td>0.0</td>\n      <td>0.0</td>\n      <td>0.0</td>\n      <td>0.0</td>\n      <td>0.0</td>\n      <td>0.0</td>\n      <td>0.0</td>\n      <td>0.0</td>\n      <td>0.0</td>\n      <td>0.0</td>\n    </tr>\n    <tr>\n      <th>4</th>\n      <td>4</td>\n      <td>vehicles</td>\n      <td>food</td>\n      <td>food</td>\n      <td>3</td>\n      <td>/home/brandizzi/pb_speaker_adaptation/dataset/...</td>\n      <td>/home/brandizzi/pb_speaker_adaptation/dataset/...</td>\n      <td>/home/brandizzi/pb_speaker_adaptation/dataset/...</td>\n      <td>/home/brandizzi/pb_speaker_adaptation/dataset/...</td>\n      <td>/home/brandizzi/pb_speaker_adaptation/dataset/...</td>\n      <td>...</td>\n      <td>0.0</td>\n      <td>0.0</td>\n      <td>0.0</td>\n      <td>0.0</td>\n      <td>0.0</td>\n      <td>0.0</td>\n      <td>0.0</td>\n      <td>0.0</td>\n      <td>0.0</td>\n      <td>0.0</td>\n    </tr>\n    <tr>\n      <th>8</th>\n      <td>8</td>\n      <td>vehicles</td>\n      <td>food</td>\n      <td>food</td>\n      <td>2</td>\n      <td>/home/brandizzi/pb_speaker_adaptation/dataset/...</td>\n      <td>/home/brandizzi/pb_speaker_adaptation/dataset/...</td>\n      <td>/home/brandizzi/pb_speaker_adaptation/dataset/...</td>\n      <td>/home/brandizzi/pb_speaker_adaptation/dataset/...</td>\n      <td>/home/brandizzi/pb_speaker_adaptation/dataset/...</td>\n      <td>...</td>\n      <td>0.0</td>\n      <td>0.0</td>\n      <td>0.0</td>\n      <td>0.0</td>\n      <td>0.0</td>\n      <td>0.0</td>\n      <td>0.0</td>\n      <td>0.0</td>\n      <td>0.0</td>\n      <td>0.0</td>\n    </tr>\n    <tr>\n      <th>9</th>\n      <td>9</td>\n      <td>vehicles</td>\n      <td>food</td>\n      <td>food</td>\n      <td>5</td>\n      <td>/home/brandizzi/pb_speaker_adaptation/dataset/...</td>\n      <td>/home/brandizzi/pb_speaker_adaptation/dataset/...</td>\n      <td>/home/brandizzi/pb_speaker_adaptation/dataset/...</td>\n      <td>/home/brandizzi/pb_speaker_adaptation/dataset/...</td>\n      <td>/home/brandizzi/pb_speaker_adaptation/dataset/...</td>\n      <td>...</td>\n      <td>0.0</td>\n      <td>0.0</td>\n      <td>0.0</td>\n      <td>0.0</td>\n      <td>0.0</td>\n      <td>0.0</td>\n      <td>0.0</td>\n      <td>0.0</td>\n      <td>0.0</td>\n      <td>0.0</td>\n    </tr>\n  </tbody>\n</table>\n<p>5 rows × 88 columns</p>\n</div>"
     },
     "execution_count": 2,
     "metadata": {},
     "output_type": "execute_result"
    }
   ]
  },
  {
   "cell_type": "code",
   "execution_count": 3,
   "outputs": [
    {
     "name": "stdout",
     "output_type": "stream",
     "text": [
      "Representations\n",
      "s0: 18115 / 18115\n",
      "s1: 18115 / 18115\n",
      "s2: 18115 / 18115\n",
      "s3: 18115 / 18115\n",
      "s4: 18115 / 18115\n",
      "s5: 18115 / 18115\n",
      "s6: 18115 / 18115\n",
      "s7: 18115 / 18115\n",
      "s8: 18115 / 18115\n",
      "s9: 18115 / 18115\n",
      "Utterances\n",
      "s0: 18087 / 18115\n",
      "orig -> s0: 18087\n",
      "s1: 18082 / 18115\n",
      "s0 -> s1: 18087\n",
      "s2: 18093 / 18115\n",
      "s1 -> s2: 18090\n",
      "s3: 18086 / 18115\n",
      "s2 -> s3: 18095\n",
      "s4: 18091 / 18115\n",
      "s3 -> s4: 18098\n",
      "s5: 18086 / 18115\n",
      "s4 -> s5: 18101\n",
      "s6: 18092 / 18115\n",
      "s5 -> s6: 18090\n",
      "s7: 18082 / 18115\n",
      "s6 -> s7: 18097\n",
      "s8: 18083 / 18115\n",
      "s7 -> s8: 18092\n",
      "s9: 18089 / 18115\n",
      "s8 -> s9: 18097\n"
     ]
    }
   ],
   "source": [
    "N_STEPS = 10\n",
    "print('Representations')\n",
    "for n in range(N_STEPS):\n",
    "    print(f's{n}:', len(df[df['original h0'] != df[f'adapted h0 s{n}']]), '/', len(df))\n",
    "\n",
    "print('Utterances')\n",
    "for n in range(N_STEPS):\n",
    "    print(f's{n}:', len(df[df['original utt'] != df[f'adapted utt s{n}']]), '/', len(df))\n",
    "    if n > 0:\n",
    "        print(f's{n-1} -> s{n}:', len(df[df[f'adapted utt s{n}'] != df[f'adapted utt s{n-1}']]))\n",
    "    else:\n",
    "        print(f'orig -> s{n}:', len(df[df[f'adapted utt s{n}'] != df['original utt']]))"
   ],
   "metadata": {
    "collapsed": false,
    "pycharm": {
     "name": "#%%\n"
    }
   }
  },
  {
   "cell_type": "markdown",
   "source": [
    "## Diagnostic classification"
   ],
   "metadata": {
    "id": "ondL8JKbzNNM",
    "pycharm": {
     "name": "#%% md\n"
    }
   }
  },
  {
   "cell_type": "code",
   "execution_count": 4,
   "outputs": [],
   "source": [
    "CLF_TYPE = 'logistic'\n"
   ],
   "metadata": {
    "collapsed": false,
    "pycharm": {
     "name": "#%%\n"
    }
   }
  },
  {
   "cell_type": "code",
   "source": [
    "def train_and_classify(X, Y, classifier_type='LR'):\n",
    "    X_train, X_test, Y_train, Y_test = train_test_split(X, Y, stratify=Y, test_size=0.3, random_state=1)\n",
    "    # print(f'X_train: {X_train.shape}  X_test: {X_test.shape}  Y_train: {Y_train.shape}  Y_test: {Y_test.shape}')\n",
    "\n",
    "    scaler = preprocessing.StandardScaler().fit(X_train)\n",
    "    X_train_scaled = scaler.transform(X_train)\n",
    "    X_test_scaled = scaler.transform(X_test)\n",
    "\n",
    "    if classifier_type == 'MLP':\n",
    "        clf = MLPClassifier(random_state=1, max_iter=10000).fit(X_train_scaled, Y_train)\n",
    "    elif classifier_type == 'logistic':\n",
    "        clf = LogisticRegression(random_state=1, max_iter=10000).fit(X_train_scaled, Y_train)\n",
    "    # elif classifier_type == 'linear':\n",
    "    #     clf = LinearRegression().fit(X_train_scaled, Y_train)\n",
    "    else:\n",
    "        raise ValueError()\n",
    "\n",
    "    Y_pred = clf.predict(X_test_scaled)\n",
    "\n",
    "    return classification_report(Y_test, Y_pred)"
   ],
   "metadata": {
    "id": "ac3QCR4Oh17F",
    "pycharm": {
     "name": "#%%\n"
    }
   },
   "execution_count": 5,
   "outputs": []
  },
  {
   "cell_type": "markdown",
   "source": [
    "### Predict target domain from non-adapted hidden representation"
   ],
   "metadata": {
    "id": "4RlNVcXRzW25",
    "pycharm": {
     "name": "#%% md\n"
    }
   }
  },
  {
   "cell_type": "code",
   "source": [
    "X, Y = [], []\n",
    "\n",
    "for _, row in df.iterrows():\n",
    "    X.append(eval(row['original h0']))\n",
    "    Y.append(row['target domain'])\n",
    "\n",
    "X, Y = np.array(X), np.array(Y)\n",
    "\n",
    "print(train_and_classify(X, Y, CLF_TYPE))"
   ],
   "metadata": {
    "colab": {
     "base_uri": "https://localhost:8080/"
    },
    "id": "PebKWe-sbXeA",
    "outputId": "abb4295a-e819-4f04-bbf6-012eb411b4bb",
    "pycharm": {
     "name": "#%%\n"
    }
   },
   "execution_count": 6,
   "outputs": [
    {
     "name": "stdout",
     "output_type": "stream",
     "text": [
      "              precision    recall  f1-score   support\n",
      "\n",
      "  appliances       1.00      0.98      0.99       388\n",
      "        food       0.99      0.99      0.99       465\n",
      "      indoor       1.00      1.00      1.00      1582\n",
      "     outdoor       0.99      1.00      1.00      2064\n",
      "    vehicles       1.00      1.00      1.00       936\n",
      "\n",
      "    accuracy                           1.00      5435\n",
      "   macro avg       1.00      0.99      0.99      5435\n",
      "weighted avg       1.00      1.00      1.00      5435\n",
      "\n"
     ]
    }
   ]
  },
  {
   "cell_type": "code",
   "execution_count": 7,
   "outputs": [
    {
     "data": {
      "text/plain": "<Figure size 432x288 with 1 Axes>",
      "image/png": "[encoded data removed]"
     },
     "metadata": {
      "needs_background": "light"
     },
     "output_type": "display_data"
    }
   ],
   "source": [
    "pca = PCA(2)\n",
    "scaler = preprocessing.StandardScaler().fit(X)\n",
    "X_2dim = pca.fit_transform(scaler.transform(X))\n",
    "\n",
    "for l in df['target domain'].unique():\n",
    "    plt.scatter(X_2dim[Y == l, 0], X_2dim[Y == l, 1], label=l)\n",
    "plt.legend()\n",
    "plt.show()"
   ],
   "metadata": {
    "collapsed": false,
    "pycharm": {
     "name": "#%%\n"
    }
   }
  },
  {
   "cell_type": "markdown",
   "source": [
    "### Predict target domain from adapted hidden representation"
   ],
   "metadata": {
    "id": "KPWMYlSTzkMB",
    "pycharm": {
     "name": "#%% md\n"
    }
   }
  },
  {
   "cell_type": "code",
   "source": [
    "for step in np.arange(N_STEPS):\n",
    "\n",
    "    print(f'Step {step}')\n",
    "\n",
    "    X, Y = [], []\n",
    "\n",
    "    for _, row in df.iterrows():\n",
    "        X.append(eval(row[f'adapted h0 s{step}']))\n",
    "        Y.append(row['target domain'])\n",
    "\n",
    "    X, Y = np.array(X), np.array(Y)\n",
    "\n",
    "    print(train_and_classify(X, Y, CLF_TYPE))\n",
    "\n",
    "    pca = PCA(2)\n",
    "    scaler = preprocessing.StandardScaler().fit(X)\n",
    "    X_2dim = pca.fit_transform(scaler.transform(X))\n",
    "\n",
    "    for l in df['target domain'].unique():\n",
    "        plt.scatter(X_2dim[Y == l, 0], X_2dim[Y == l, 1], label=l)\n",
    "    plt.legend()\n",
    "    plt.show()"
   ],
   "metadata": {
    "colab": {
     "base_uri": "https://localhost:8080/"
    },
    "id": "MZ4Uo0EYhErd",
    "outputId": "9e6cf78c-bef3-4844-fdc3-1e9f4c0369e2",
    "pycharm": {
     "name": "#%%\n",
     "is_executing": true
    }
   },
   "execution_count": null,
   "outputs": [
    {
     "name": "stdout",
     "output_type": "stream",
     "text": [
      "Step 0\n"
     ]
    }
   ]
  },
  {
   "cell_type": "markdown",
   "source": [
    "### Predict listener domain from adapted hidden representation"
   ],
   "metadata": {
    "id": "bX14vz7izpYB",
    "pycharm": {
     "name": "#%% md\n"
    }
   }
  },
  {
   "cell_type": "code",
   "source": [
    "for step in np.arange(N_STEPS):\n",
    "\n",
    "    print(f'Step {step}')\n",
    "\n",
    "    X, Y = [], []\n",
    "    for _, row in df.iterrows():\n",
    "        X.append(eval(row[f'adapted h0 s{step}']))\n",
    "        Y.append(row['listener domain'])\n",
    "\n",
    "    X, Y = np.array(X), np.array(Y)\n",
    "\n",
    "    print(train_and_classify(X, Y, CLF_TYPE))"
   ],
   "metadata": {
    "id": "Eg9m_qoHz6XG",
    "pycharm": {
     "name": "#%%\n",
     "is_executing": true
    }
   },
   "execution_count": null,
   "outputs": []
  },
  {
   "cell_type": "markdown",
   "source": [
    "### Predict listener domain from difference between adapted and non-adapted hidden representation"
   ],
   "metadata": {
    "id": "tA-RB_iU0BHZ",
    "pycharm": {
     "name": "#%% md\n"
    }
   }
  },
  {
   "cell_type": "code",
   "source": [
    "for step in np.arange(N_STEPS):\n",
    "\n",
    "    print(f'Step {step}')\n",
    "\n",
    "    X, Y = [], []\n",
    "    for _, row in df.iterrows():\n",
    "        X.append(np.array(eval(row[f'adapted h0 s{step}'])) - np.array(eval(row['original h0'])))\n",
    "        Y.append(row['listener domain'])\n",
    "\n",
    "    X, Y = np.array(X), np.array(Y)\n",
    "\n",
    "    print(train_and_classify(X, Y, CLF_TYPE))"
   ],
   "metadata": {
    "colab": {
     "base_uri": "https://localhost:8080/"
    },
    "id": "JkIvv80lb1KX",
    "outputId": "36cd5656-f502-41e9-df09-041baabe71a4",
    "pycharm": {
     "name": "#%%\n",
     "is_executing": true
    }
   },
   "execution_count": null,
   "outputs": []
  },
  {
   "cell_type": "markdown",
   "source": [
    "## Diagnostic clustering"
   ],
   "metadata": {
    "id": "ZezAMO-r0J28",
    "pycharm": {
     "name": "#%% md\n"
    }
   }
  },
  {
   "cell_type": "code",
   "source": [
    "def cluster_and_plot(X, Y, k=5):\n",
    "    kmeans = KMeans(n_clusters=k, random_state=1).fit(X)\n",
    "    Y_pred = kmeans.labels_\n",
    "    # print(Y)\n",
    "\n",
    "    print(f'Adjusted rand score: {adjusted_rand_score(Y_pred, Y)}')\n",
    "\n",
    "    pca = PCA(2)\n",
    "    X_2dim = pca.fit_transform(X)\n",
    "    labels = np.unique(Y_pred)\n",
    "\n",
    "    for i in labels:\n",
    "        plt.scatter(X_2dim[Y_pred == i, 0], X_2dim[Y_pred == i, 1], label=i)\n",
    "    plt.legend()\n",
    "    plt.show()\n",
    "\n",
    "    return kmeans, plt"
   ],
   "metadata": {
    "id": "0rFTHayx34s_",
    "pycharm": {
     "name": "#%%\n",
     "is_executing": true
    }
   },
   "execution_count": null,
   "outputs": []
  },
  {
   "cell_type": "markdown",
   "source": [
    "### Cluster non-adapted hidden representations (vs. target domains)"
   ],
   "metadata": {
    "id": "JOLYqBPo1mbt",
    "pycharm": {
     "name": "#%% md\n"
    }
   }
  },
  {
   "cell_type": "code",
   "source": [
    "X, Y = [], []\n",
    "\n",
    "for _, row in df.iterrows():\n",
    "    X.append(eval(row['original h0']))\n",
    "    Y.append(row['target domain'])\n",
    "\n",
    "X, Y = np.array(X), np.array(Y)\n",
    "\n",
    "cluster_and_plot(X, Y)"
   ],
   "metadata": {
    "colab": {
     "base_uri": "https://localhost:8080/",
     "height": 232
    },
    "id": "GwZhb3vWcLWp",
    "outputId": "11ee1823-0ca7-4b8f-baf5-866def20dd2e",
    "pycharm": {
     "name": "#%%\n",
     "is_executing": true
    }
   },
   "execution_count": null,
   "outputs": []
  },
  {
   "cell_type": "markdown",
   "source": [
    "### Cluster adapted hidden representations (vs. target domains)\n",
    "\n"
   ],
   "metadata": {
    "id": "2QIuBljZ16jv",
    "pycharm": {
     "name": "#%% md\n"
    }
   }
  },
  {
   "cell_type": "code",
   "source": [
    "for step in np.arange(N_STEPS):\n",
    "\n",
    "    print(f'Step {step}')\n",
    "\n",
    "    X, Y = [], []\n",
    "\n",
    "    for _, row in df.iterrows():\n",
    "        X.append(eval(row[f'adapted h0 s{step}']))\n",
    "        Y.append(row['target domain'])\n",
    "\n",
    "    X, Y = np.array(X), np.array(Y)\n",
    "\n",
    "    cluster_and_plot(X, Y)"
   ],
   "metadata": {
    "colab": {
     "base_uri": "https://localhost:8080/"
    },
    "id": "tA-7I28UcPY-",
    "outputId": "260ee99d-8227-41c9-c219-5caf1f7009db",
    "pycharm": {
     "name": "#%%\n",
     "is_executing": true
    }
   },
   "execution_count": null,
   "outputs": []
  },
  {
   "cell_type": "markdown",
   "source": [
    "### Cluster adapted hidden representations (vs. listener domains)\n"
   ],
   "metadata": {
    "id": "xYksOQR62EvT",
    "pycharm": {
     "name": "#%% md\n"
    }
   }
  },
  {
   "cell_type": "code",
   "source": [
    "for step in np.arange(N_STEPS):\n",
    "\n",
    "    print(f'Step {step}')\n",
    "\n",
    "    X, Y = [], []\n",
    "\n",
    "    for _, row in df.iterrows():\n",
    "        X.append(eval(row[f'adapted h0 s{step}']))\n",
    "        Y.append(row['listener domain'])\n",
    "\n",
    "    X, Y = np.array(X), np.array(Y)\n",
    "\n",
    "    cluster_and_plot(X, Y)"
   ],
   "metadata": {
    "id": "ui1RLIFymVQu",
    "pycharm": {
     "name": "#%%\n",
     "is_executing": true
    }
   },
   "execution_count": null,
   "outputs": []
  },
  {
   "cell_type": "markdown",
   "source": [
    "### Cluster difference between adapted and non-adapted hidden representations (vs. listener domains)\n"
   ],
   "metadata": {
    "id": "OGFkt9P72MIx",
    "pycharm": {
     "name": "#%% md\n"
    }
   }
  },
  {
   "cell_type": "code",
   "execution_count": null,
   "outputs": [],
   "source": [
    "for step in np.arange(N_STEPS):\n",
    "\n",
    "    print(f'Step {step}')\n",
    "\n",
    "    X, Y = [], []\n",
    "\n",
    "    for _, row in df.iterrows():\n",
    "        X.append(np.array(eval(row[f'adapted h0 s{step}'])) - np.array(eval(row['original h0'])))\n",
    "        Y.append(row['listener domain'])\n",
    "\n",
    "    X, Y = np.array(X), np.array(Y)\n",
    "\n",
    "    cluster_and_plot(X, Y)"
   ],
   "metadata": {
    "collapsed": false,
    "pycharm": {
     "name": "#%%\n",
     "is_executing": true
    }
   }
  },
  {
   "cell_type": "code",
   "execution_count": null,
   "outputs": [],
   "source": [],
   "metadata": {
    "collapsed": false,
    "pycharm": {
     "name": "#%%\n"
    }
   }
  }
 ]
}