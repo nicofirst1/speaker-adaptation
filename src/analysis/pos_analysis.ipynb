{
 "cells": [
  {
   "cell_type": "code",
   "execution_count": 16,
   "outputs": [],
   "source": [
    "from collections import defaultdict, Counter\n",
    "import pandas as pd\n",
    "from nltk import ngrams\n",
    "import spacy"
   ],
   "metadata": {
    "collapsed": false,
    "pycharm": {
     "name": "#%%\n"
    }
   }
  },
  {
   "cell_type": "code",
   "execution_count": 17,
   "outputs": [],
   "source": [
    "#!python -m spacy download en\n",
    "_spacy = spacy.load(\"en_core_web_sm\")"
   ],
   "metadata": {
    "collapsed": false,
    "pycharm": {
     "name": "#%%\n"
    }
   }
  },
  {
   "cell_type": "code",
   "execution_count": null,
   "outputs": [],
   "source": [
    "df = pd.read_csv('adaptive_speak_eval_all.csv')\n",
    "df.head(2)"
   ],
   "metadata": {
    "collapsed": false,
    "pycharm": {
     "name": "#%%\n",
     "is_executing": true
    }
   }
  },
  {
   "cell_type": "code",
   "execution_count": 19,
   "outputs": [],
   "source": [
    "refs = df['golden utt'].tolist()\n",
    "hyps = {\n",
    "    \"h0\": df['original utt'].tolist(),\n",
    "    \"h0' 0\": df['adapted utt s0'].tolist(),\n",
    "    # \"h0' 1\": df['adapted utt s1'].tolist(),\n",
    "    # \"h0' 2\": df['adapted utt s2'].tolist()\n",
    "}"
   ],
   "metadata": {
    "collapsed": false,
    "pycharm": {
     "name": "#%%\n"
    }
   }
  },
  {
   "cell_type": "code",
   "execution_count": 68,
   "outputs": [],
   "source": [
    "pos = defaultdict(lambda: defaultdict(lambda: Counter()))\n",
    "\n",
    "for ref in refs:\n",
    "    pos_seq = [tok.pos_ for tok in _spacy(ref)]\n",
    "    for N in range(1, 4):\n",
    "        for ngram in ngrams(pos_seq, N):\n",
    "            pos[N]['ref'][ngram] += 1\n",
    "\n",
    "for hyp_type in hyps:\n",
    "    for hyp in hyps[hyp_type]:\n",
    "        pos_seq = [tok.pos_ for tok in _spacy(ref)]\n",
    "        for N in range(1, 4):\n",
    "            for ngram in ngrams(pos_seq, N):\n",
    "                pos[N][hyp_type][ngram] += 1"
   ],
   "metadata": {
    "collapsed": false,
    "pycharm": {
     "name": "#%%\n"
    }
   }
  },
  {
   "cell_type": "code",
   "execution_count": 35,
   "outputs": [],
   "source": [
    "pos_df_1 = pd.DataFrame(pos[1].values(), index=pos[1].keys())\n",
    "pos_df_2 = pd.DataFrame(pos[2].values(), index=pos[2].keys())\n",
    "pos_df_3 = pd.DataFrame(pos[3].values(), index=pos[3].keys())"
   ],
   "metadata": {
    "collapsed": false,
    "pycharm": {
     "name": "#%%\n"
    }
   }
  },
  {
   "cell_type": "code",
   "execution_count": null,
   "outputs": [],
   "source": [
    "pos_df_1.plot.barh(figsize=(20,10))"
   ],
   "metadata": {
    "collapsed": false,
    "pycharm": {
     "name": "#%%\n",
     "is_executing": true
    }
   }
  }
 ],
 "metadata": {
  "kernelspec": {
   "display_name": "Python 3",
   "language": "python",
   "name": "python3"
  },
  "language_info": {
   "codemirror_mode": {
    "name": "ipython",
    "version": 2
   },
   "file_extension": ".py",
   "mimetype": "text/x-python",
   "name": "python",
   "nbconvert_exporter": "python",
   "pygments_lexer": "ipython2",
   "version": "2.7.6"
  }
 },
 "nbformat": 4,
 "nbformat_minor": 0
}