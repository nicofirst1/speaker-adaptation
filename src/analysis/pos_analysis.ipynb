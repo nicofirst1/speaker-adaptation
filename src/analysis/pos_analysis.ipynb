{
 "cells": [
  {
   "cell_type": "code",
   "execution_count": 2,
   "metadata": {
    "pycharm": {
     "name": "#%%\n"
    }
   },
   "outputs": [],
   "source": [
    "from collections import defaultdict, Counter\n",
    "import pandas as pd\n",
    "from nltk import ngrams\n",
    "import spacy"
   ]
  },
  {
   "cell_type": "code",
   "execution_count": 3,
   "metadata": {
    "pycharm": {
     "name": "#%%\n"
    }
   },
   "outputs": [],
   "source": [
    "#!python -m spacy download en\n",
    "_spacy = spacy.load(\"en_core_web_sm\")"
   ]
  },
  {
   "cell_type": "code",
   "execution_count": 11,
   "metadata": {
    "pycharm": {
     "name": "#%%\n"
    }
   },
   "outputs": [
    {
     "name": "stderr",
     "output_type": "stream",
     "text": [
      "/var/folders/0s/847v13g104z23kr193w_v2640000gn/T/ipykernel_10474/3319831704.py:2: FutureWarning: The error_bad_lines argument has been deprecated and will be removed in a future version. Use on_bad_lines in the future.\n",
      "\n",
      "\n",
      "  pd.read_csv('/Users/mario/code/pb_speaker_adaptation/src/analysis/adaptive_speak_test_out_domain_22sept/appliances.csv', error_bad_lines=False, warn_bad_lines=True),\n",
      "/var/folders/0s/847v13g104z23kr193w_v2640000gn/T/ipykernel_10474/3319831704.py:2: FutureWarning: The warn_bad_lines argument has been deprecated and will be removed in a future version. Use on_bad_lines in the future.\n",
      "\n",
      "\n",
      "  pd.read_csv('/Users/mario/code/pb_speaker_adaptation/src/analysis/adaptive_speak_test_out_domain_22sept/appliances.csv', error_bad_lines=False, warn_bad_lines=True),\n",
      "/var/folders/0s/847v13g104z23kr193w_v2640000gn/T/ipykernel_10474/3319831704.py:3: FutureWarning: The error_bad_lines argument has been deprecated and will be removed in a future version. Use on_bad_lines in the future.\n",
      "\n",
      "\n",
      "  pd.read_csv('/Users/mario/code/pb_speaker_adaptation/src/analysis/adaptive_speak_test_out_domain_22sept/food.csv', error_bad_lines=False, warn_bad_lines=True),\n",
      "/var/folders/0s/847v13g104z23kr193w_v2640000gn/T/ipykernel_10474/3319831704.py:3: FutureWarning: The warn_bad_lines argument has been deprecated and will be removed in a future version. Use on_bad_lines in the future.\n",
      "\n",
      "\n",
      "  pd.read_csv('/Users/mario/code/pb_speaker_adaptation/src/analysis/adaptive_speak_test_out_domain_22sept/food.csv', error_bad_lines=False, warn_bad_lines=True),\n"
     ]
    },
    {
     "name": "stdout",
     "output_type": "stream",
     "text": [
      "target domain   : ['food' 'vehicles' 'outdoor' 'indoor' 'appliances']\n",
      "listener domain : ['appliances' 'food']\n",
      "simulator domain: ['appliances' 'food']\n",
      "Data points: 6431\n",
      "OOD data points: 5932\n"
     ]
    },
    {
     "data": {
      "text/html": [
       "<div>\n",
       "<style scoped>\n",
       "    .dataframe tbody tr th:only-of-type {\n",
       "        vertical-align: middle;\n",
       "    }\n",
       "\n",
       "    .dataframe tbody tr th {\n",
       "        vertical-align: top;\n",
       "    }\n",
       "\n",
       "    .dataframe thead th {\n",
       "        text-align: right;\n",
       "    }\n",
       "</style>\n",
       "<table border=\"1\" class=\"dataframe\">\n",
       "  <thead>\n",
       "    <tr style=\"text-align: right;\">\n",
       "      <th></th>\n",
       "      <th>Unnamed: 0</th>\n",
       "      <th>target domain</th>\n",
       "      <th>listener domain</th>\n",
       "      <th>interpreter domain</th>\n",
       "      <th>target img idx</th>\n",
       "      <th>img path #0</th>\n",
       "      <th>img path #1</th>\n",
       "      <th>img path #2</th>\n",
       "      <th>img path #3</th>\n",
       "      <th>img path #4</th>\n",
       "      <th>...</th>\n",
       "      <th>adapted_acc_s0</th>\n",
       "      <th>adapted_acc_s1</th>\n",
       "      <th>adapted_acc_s2</th>\n",
       "      <th>adapted_acc_s3</th>\n",
       "      <th>adapted_acc_s4</th>\n",
       "      <th>int_list_acc0</th>\n",
       "      <th>int_list_acc1</th>\n",
       "      <th>int_list_acc2</th>\n",
       "      <th>int_list_acc3</th>\n",
       "      <th>int_list_acc4</th>\n",
       "    </tr>\n",
       "  </thead>\n",
       "  <tbody>\n",
       "    <tr>\n",
       "      <th>0</th>\n",
       "      <td>0</td>\n",
       "      <td>food</td>\n",
       "      <td>appliances</td>\n",
       "      <td>appliances</td>\n",
       "      <td>3</td>\n",
       "      <td>/home/dizzi/Desktop/pb_speaker_adaptation/data...</td>\n",
       "      <td>/home/dizzi/Desktop/pb_speaker_adaptation/data...</td>\n",
       "      <td>/home/dizzi/Desktop/pb_speaker_adaptation/data...</td>\n",
       "      <td>/home/dizzi/Desktop/pb_speaker_adaptation/data...</td>\n",
       "      <td>/home/dizzi/Desktop/pb_speaker_adaptation/data...</td>\n",
       "      <td>...</td>\n",
       "      <td>0.0</td>\n",
       "      <td>0.0</td>\n",
       "      <td>0.0</td>\n",
       "      <td>0.0</td>\n",
       "      <td>0.0</td>\n",
       "      <td>0</td>\n",
       "      <td>0</td>\n",
       "      <td>0</td>\n",
       "      <td>0</td>\n",
       "      <td>0</td>\n",
       "    </tr>\n",
       "    <tr>\n",
       "      <th>1</th>\n",
       "      <td>1</td>\n",
       "      <td>food</td>\n",
       "      <td>appliances</td>\n",
       "      <td>appliances</td>\n",
       "      <td>1</td>\n",
       "      <td>/home/dizzi/Desktop/pb_speaker_adaptation/data...</td>\n",
       "      <td>/home/dizzi/Desktop/pb_speaker_adaptation/data...</td>\n",
       "      <td>/home/dizzi/Desktop/pb_speaker_adaptation/data...</td>\n",
       "      <td>/home/dizzi/Desktop/pb_speaker_adaptation/data...</td>\n",
       "      <td>/home/dizzi/Desktop/pb_speaker_adaptation/data...</td>\n",
       "      <td>...</td>\n",
       "      <td>0.0</td>\n",
       "      <td>0.0</td>\n",
       "      <td>0.0</td>\n",
       "      <td>0.0</td>\n",
       "      <td>0.0</td>\n",
       "      <td>0</td>\n",
       "      <td>0</td>\n",
       "      <td>0</td>\n",
       "      <td>0</td>\n",
       "      <td>0</td>\n",
       "    </tr>\n",
       "    <tr>\n",
       "      <th>2</th>\n",
       "      <td>2</td>\n",
       "      <td>food</td>\n",
       "      <td>appliances</td>\n",
       "      <td>appliances</td>\n",
       "      <td>1</td>\n",
       "      <td>/home/dizzi/Desktop/pb_speaker_adaptation/data...</td>\n",
       "      <td>/home/dizzi/Desktop/pb_speaker_adaptation/data...</td>\n",
       "      <td>/home/dizzi/Desktop/pb_speaker_adaptation/data...</td>\n",
       "      <td>/home/dizzi/Desktop/pb_speaker_adaptation/data...</td>\n",
       "      <td>/home/dizzi/Desktop/pb_speaker_adaptation/data...</td>\n",
       "      <td>...</td>\n",
       "      <td>0.0</td>\n",
       "      <td>0.0</td>\n",
       "      <td>0.0</td>\n",
       "      <td>0.0</td>\n",
       "      <td>0.0</td>\n",
       "      <td>0</td>\n",
       "      <td>0</td>\n",
       "      <td>0</td>\n",
       "      <td>0</td>\n",
       "      <td>0</td>\n",
       "    </tr>\n",
       "    <tr>\n",
       "      <th>4</th>\n",
       "      <td>4</td>\n",
       "      <td>food</td>\n",
       "      <td>appliances</td>\n",
       "      <td>appliances</td>\n",
       "      <td>0</td>\n",
       "      <td>/home/dizzi/Desktop/pb_speaker_adaptation/data...</td>\n",
       "      <td>/home/dizzi/Desktop/pb_speaker_adaptation/data...</td>\n",
       "      <td>/home/dizzi/Desktop/pb_speaker_adaptation/data...</td>\n",
       "      <td>/home/dizzi/Desktop/pb_speaker_adaptation/data...</td>\n",
       "      <td>/home/dizzi/Desktop/pb_speaker_adaptation/data...</td>\n",
       "      <td>...</td>\n",
       "      <td>0.0</td>\n",
       "      <td>0.0</td>\n",
       "      <td>0.0</td>\n",
       "      <td>0.0</td>\n",
       "      <td>0.0</td>\n",
       "      <td>0</td>\n",
       "      <td>0</td>\n",
       "      <td>0</td>\n",
       "      <td>0</td>\n",
       "      <td>0</td>\n",
       "    </tr>\n",
       "    <tr>\n",
       "      <th>5</th>\n",
       "      <td>5</td>\n",
       "      <td>food</td>\n",
       "      <td>appliances</td>\n",
       "      <td>appliances</td>\n",
       "      <td>5</td>\n",
       "      <td>/home/dizzi/Desktop/pb_speaker_adaptation/data...</td>\n",
       "      <td>/home/dizzi/Desktop/pb_speaker_adaptation/data...</td>\n",
       "      <td>/home/dizzi/Desktop/pb_speaker_adaptation/data...</td>\n",
       "      <td>/home/dizzi/Desktop/pb_speaker_adaptation/data...</td>\n",
       "      <td>/home/dizzi/Desktop/pb_speaker_adaptation/data...</td>\n",
       "      <td>...</td>\n",
       "      <td>0.0</td>\n",
       "      <td>0.0</td>\n",
       "      <td>0.0</td>\n",
       "      <td>0.0</td>\n",
       "      <td>0.0</td>\n",
       "      <td>0</td>\n",
       "      <td>0</td>\n",
       "      <td>0</td>\n",
       "      <td>0</td>\n",
       "      <td>0</td>\n",
       "    </tr>\n",
       "  </tbody>\n",
       "</table>\n",
       "<p>5 rows × 63 columns</p>\n",
       "</div>"
      ],
      "text/plain": [
       "   Unnamed: 0 target domain listener domain interpreter domain  \\\n",
       "0           0          food      appliances         appliances   \n",
       "1           1          food      appliances         appliances   \n",
       "2           2          food      appliances         appliances   \n",
       "4           4          food      appliances         appliances   \n",
       "5           5          food      appliances         appliances   \n",
       "\n",
       "   target img idx                                        img path #0  \\\n",
       "0               3  /home/dizzi/Desktop/pb_speaker_adaptation/data...   \n",
       "1               1  /home/dizzi/Desktop/pb_speaker_adaptation/data...   \n",
       "2               1  /home/dizzi/Desktop/pb_speaker_adaptation/data...   \n",
       "4               0  /home/dizzi/Desktop/pb_speaker_adaptation/data...   \n",
       "5               5  /home/dizzi/Desktop/pb_speaker_adaptation/data...   \n",
       "\n",
       "                                         img path #1  \\\n",
       "0  /home/dizzi/Desktop/pb_speaker_adaptation/data...   \n",
       "1  /home/dizzi/Desktop/pb_speaker_adaptation/data...   \n",
       "2  /home/dizzi/Desktop/pb_speaker_adaptation/data...   \n",
       "4  /home/dizzi/Desktop/pb_speaker_adaptation/data...   \n",
       "5  /home/dizzi/Desktop/pb_speaker_adaptation/data...   \n",
       "\n",
       "                                         img path #2  \\\n",
       "0  /home/dizzi/Desktop/pb_speaker_adaptation/data...   \n",
       "1  /home/dizzi/Desktop/pb_speaker_adaptation/data...   \n",
       "2  /home/dizzi/Desktop/pb_speaker_adaptation/data...   \n",
       "4  /home/dizzi/Desktop/pb_speaker_adaptation/data...   \n",
       "5  /home/dizzi/Desktop/pb_speaker_adaptation/data...   \n",
       "\n",
       "                                         img path #3  \\\n",
       "0  /home/dizzi/Desktop/pb_speaker_adaptation/data...   \n",
       "1  /home/dizzi/Desktop/pb_speaker_adaptation/data...   \n",
       "2  /home/dizzi/Desktop/pb_speaker_adaptation/data...   \n",
       "4  /home/dizzi/Desktop/pb_speaker_adaptation/data...   \n",
       "5  /home/dizzi/Desktop/pb_speaker_adaptation/data...   \n",
       "\n",
       "                                         img path #4  ... adapted_acc_s0  \\\n",
       "0  /home/dizzi/Desktop/pb_speaker_adaptation/data...  ...            0.0   \n",
       "1  /home/dizzi/Desktop/pb_speaker_adaptation/data...  ...            0.0   \n",
       "2  /home/dizzi/Desktop/pb_speaker_adaptation/data...  ...            0.0   \n",
       "4  /home/dizzi/Desktop/pb_speaker_adaptation/data...  ...            0.0   \n",
       "5  /home/dizzi/Desktop/pb_speaker_adaptation/data...  ...            0.0   \n",
       "\n",
       "  adapted_acc_s1 adapted_acc_s2 adapted_acc_s3 adapted_acc_s4 int_list_acc0  \\\n",
       "0            0.0            0.0            0.0            0.0             0   \n",
       "1            0.0            0.0            0.0            0.0             0   \n",
       "2            0.0            0.0            0.0            0.0             0   \n",
       "4            0.0            0.0            0.0            0.0             0   \n",
       "5            0.0            0.0            0.0            0.0             0   \n",
       "\n",
       "  int_list_acc1 int_list_acc2 int_list_acc3 int_list_acc4  \n",
       "0             0             0             0             0  \n",
       "1             0             0             0             0  \n",
       "2             0             0             0             0  \n",
       "4             0             0             0             0  \n",
       "5             0             0             0             0  \n",
       "\n",
       "[5 rows x 63 columns]"
      ]
     },
     "execution_count": 11,
     "metadata": {},
     "output_type": "execute_result"
    }
   ],
   "source": [
    "_df = pd.concat([\n",
    "    pd.read_csv('/Users/mario/code/pb_speaker_adaptation/src/analysis/adaptive_speak_test_out_domain_22sept/appliances.csv', error_bad_lines=False, warn_bad_lines=True),\n",
    "    pd.read_csv('/Users/mario/code/pb_speaker_adaptation/src/analysis/adaptive_speak_test_out_domain_22sept/food.csv', error_bad_lines=False, warn_bad_lines=True),\n",
    "#     pd.read_csv('/Users/mario/code/pb_speaker_adaptation/src/analysis/adaptive_test_4july/adaptive_speak_test_out_domain_indoor.csv', error_bad_lines=False, warn_bad_lines=True),\n",
    "#     pd.read_csv('/Users/mario/code/pb_speaker_adaptation/src/analysis/adaptive_test_4july/adaptive_speak_test_out_domain_outdoor.csv', error_bad_lines=False, warn_bad_lines=True),\n",
    "#     pd.read_csv('/Users/mario/code/pb_speaker_adaptation/src/analysis/adaptive_test_4july/adaptive_speak_test_out_domain_vehicles.csv', error_bad_lines=False, warn_bad_lines=True)\n",
    "])\n",
    "\n",
    "# pd.to_numeric(df['target domain'], errors='coerce')\n",
    "\n",
    "print('target domain   :', _df['target domain'].unique())\n",
    "print('listener domain :', _df['listener domain'].unique())\n",
    "print('simulator domain:', _df['interpreter domain'].unique())\n",
    "_df = _df.dropna()\n",
    "print('Data points:', len(_df))\n",
    "\n",
    "df = _df[_df['target domain'] != _df['listener domain']]\n",
    "df = df[df['listener domain'] != 'all']\n",
    "df = df[df['interpreter domain'] != 'all']\n",
    "print('OOD data points:', len(df))\n",
    "\n",
    "df.head(5)"
   ]
  },
  {
   "cell_type": "code",
   "execution_count": 42,
   "metadata": {},
   "outputs": [
    {
     "data": {
      "text/plain": [
       "['see yup orange seat',\n",
       " 'i have the seat markings light .',\n",
       " 'i have the seat with the red sprinkled again',\n",
       " 'plaid ?',\n",
       " 'plaid ?',\n",
       " 'plaid ?',\n",
       " 'plaid ?',\n",
       " 'plaid ?',\n",
       " 'sandwich ?',\n",
       " 'i have the seat with the image making again',\n",
       " 'sandwich ?',\n",
       " 'sandwich ?',\n",
       " 'sandwich ?',\n",
       " 'sandwich ?',\n",
       " 'sandwich ?',\n",
       " 'sandwich ?',\n",
       " 'i have the seat with the image making again',\n",
       " 'i have the seat with the image making again',\n",
       " 'i have the seat with the image making again',\n",
       " 'sandwich ?',\n",
       " 'i have the seat with the image making again',\n",
       " 'sandwich ?',\n",
       " 'sandwich ?',\n",
       " 'sandwich ?',\n",
       " 'i have the seat with the image making again',\n",
       " 'sandwich ?',\n",
       " 'sandwich ?',\n",
       " 'sandwich ?',\n",
       " 'sandwich ?',\n",
       " 'sandwich ?']"
      ]
     },
     "execution_count": 42,
     "metadata": {},
     "output_type": "execute_result"
    }
   ],
   "source": [
    "df['adapted utt s0'].tolist()[50:80]"
   ]
  },
  {
   "cell_type": "code",
   "execution_count": 6,
   "metadata": {
    "pycharm": {
     "name": "#%%\n"
    }
   },
   "outputs": [],
   "source": [
    "refs = df['golden utt'].tolist()\n",
    "hyps = {\n",
    "    \"h0\": df['original utt'].tolist(),\n",
    "    \"h0' 0\": df['adapted utt s0'].tolist(),\n",
    "    \"h0' 1\": df['adapted utt s1'].tolist(),\n",
    "    \"h0' 2\": df['adapted utt s2'].tolist(),\n",
    "    \"h0' 3\": df['adapted utt s3'].tolist(),\n",
    "    \"h0' 4\": df['adapted utt s4'].tolist(),\n",
    "#     \"h0' 5\": df['adapted utt s5'].tolist(),\n",
    "#     \"h0' 6\": df['adapted utt s6'].tolist(),\n",
    "#     \"h0' 7\": df['adapted utt s7'].tolist(),\n",
    "#     \"h0' 8\": df['adapted utt s8'].tolist(),\n",
    "#     \"h0' 9\": df['adapted utt s9'].tolist(),\n",
    "}"
   ]
  },
  {
   "cell_type": "code",
   "execution_count": 43,
   "metadata": {
    "pycharm": {
     "is_executing": true,
     "name": "#%%\n"
    }
   },
   "outputs": [],
   "source": [
    "pos = defaultdict(lambda: defaultdict(lambda: Counter()))\n",
    "\n",
    "for ref in refs:\n",
    "    pos_seq = [tok.pos_ for tok in _spacy(ref)]\n",
    "    for N in range(1, 2):\n",
    "        for ngram in ngrams(pos_seq, N):\n",
    "            pos[N]['ref'][ngram] += 1        \n",
    "            \n",
    "for hyp_type in hyps:\n",
    "    for hyp in hyps[hyp_type]:\n",
    "        pos_seq = [tok.pos_ for tok in _spacy(hyp)]\n",
    "        for N in range(1, 2):\n",
    "            for ngram in ngrams(pos_seq, N):\n",
    "                pos[N][hyp_type][ngram] += 1\n",
    "                \n",
    "for hyp_type in list(hyps.keys()) + ['ref']:\n",
    "    for N in range(1, 2):\n",
    "        tot = sum(pos[N][hyp_type].values())\n",
    "        for k, v in pos[N][hyp_type].items():\n",
    "            pos[N][hyp_type][k] = v / tot\n"
   ]
  },
  {
   "cell_type": "code",
   "execution_count": 44,
   "metadata": {
    "pycharm": {
     "is_executing": true,
     "name": "#%%\n"
    }
   },
   "outputs": [],
   "source": [
    "pos_df_1 = pd.DataFrame(pos[1].values(), index=pos[1].keys())\n",
    "# pos_df_2 = pd.DataFrame(pos[2].values(), index=pos[2].keys())\n",
    "# pos_df_3 = pd.DataFrame(pos[3].values(), index=pos[3].keys())"
   ]
  },
  {
   "cell_type": "code",
   "execution_count": 45,
   "metadata": {
    "pycharm": {
     "is_executing": true,
     "name": "#%%\n"
    }
   },
   "outputs": [
    {
     "data": {
      "text/plain": [
       "<AxesSubplot:>"
      ]
     },
     "execution_count": 45,
     "metadata": {},
     "output_type": "execute_result"
    },
    {
     "data": {
      "image/png": "[encoded data removed]",
      "text/plain": [
       "<Figure size 1440x720 with 1 Axes>"
      ]
     },
     "metadata": {
      "needs_background": "light"
     },
     "output_type": "display_data"
    }
   ],
   "source": [
    "pos_df_1.plot.barh(figsize=(20,10))"
   ]
  },
  {
   "cell_type": "code",
   "execution_count": 38,
   "metadata": {},
   "outputs": [
    {
     "name": "stdout",
     "output_type": "stream",
     "text": [
      "('PROPN',) 0.6\n",
      "('NOUN',) 0.2\n",
      "('ADP',) 0.2\n"
     ]
    }
   ],
   "source": [
    "for k,v in pos[1]['h0'].items():\n",
    "    print(k, v)"
   ]
  },
  {
   "cell_type": "code",
   "execution_count": null,
   "metadata": {
    "pycharm": {
     "is_executing": true,
     "name": "#%%\n"
    }
   },
   "outputs": [],
   "source": []
  }
 ],
 "metadata": {
  "kernelspec": {
   "display_name": "Python 3 (ipykernel)",
   "language": "python",
   "name": "python3"
  },
  "language_info": {
   "codemirror_mode": {
    "name": "ipython",
    "version": 3
   },
   "file_extension": ".py",
   "mimetype": "text/x-python",
   "name": "python",
   "nbconvert_exporter": "python",
   "pygments_lexer": "ipython3",
   "version": "3.8.9"
  }
 },
 "nbformat": 4,
 "nbformat_minor": 1
}
