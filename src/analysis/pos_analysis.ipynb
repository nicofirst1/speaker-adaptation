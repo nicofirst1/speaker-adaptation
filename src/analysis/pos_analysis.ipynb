{
 "cells": [
  {
   "cell_type": "code",
   "execution_count": 1,
   "metadata": {
    "pycharm": {
     "name": "#%%\n"
    }
   },
   "outputs": [],
   "source": [
    "from collections import defaultdict, Counter\n",
    "import pandas as pd\n",
    "from nltk import ngrams\n",
    "import spacy\n",
    "from matplotlib import pyplot as plt\n",
    "%matplotlib inline"
   ]
  },
  {
   "cell_type": "code",
   "execution_count": 18,
   "metadata": {
    "pycharm": {
     "name": "#%%\n"
    }
   },
   "outputs": [],
   "source": [
    "#!python -m spacy download en\n",
    "_spacy = spacy.load(\"en_core_web_sm\")"
   ]
  },
  {
   "cell_type": "code",
   "execution_count": 21,
   "outputs": [
    {
     "name": "stderr",
     "output_type": "stream",
     "text": [
      "/var/folders/0s/847v13g104z23kr193w_v2640000gn/T/ipykernel_18999/2926833025.py:9: DtypeWarning: Columns (29,30,31,32,33,34,35,36,54,55,56,57,58,59,60,61,102,103,104,105,106,107,108,109,128,129,130,131,132,133,134,135,152,153,154,155,156,157,158,159) have mixed types. Specify dtype option on import or set low_memory=False.\n",
      "  _df = pd.read_csv('/Users/mario/code/pb_speaker_adaptation/src/analysis/19dec/all.csv')\n"
     ]
    }
   ],
   "source": [
    "# _df = pd.concat([\n",
    "#     pd.read_csv('/Users/mario/code/pb_speaker_adaptation/src/analysis/19dec/appliances.csv'),\n",
    "#     pd.read_csv('/Users/mario/code/pb_speaker_adaptation/src/analysis/19dec/food.csv'),\n",
    "#     pd.read_csv('/Users/mario/code/pb_speaker_adaptation/src/analysis/19dec/indoor.csv'),\n",
    "#     pd.read_csv('/Users/mario/code/pb_speaker_adaptation/src/analysis/19dec/outdoor.csv'),\n",
    "#     pd.read_csv('/Users/mario/code/pb_speaker_adaptation/src/analysis/19dec/vehicles.csv')\n",
    "# ])\n",
    "\n",
    "_df = pd.read_csv('/Users/mario/code/pb_speaker_adaptation/src/analysis/19dec/all.csv')\n",
    "    # ,\n",
    "    # error_bad_lines=False, warn_bad_lines=True)\n"
   ],
   "metadata": {
    "collapsed": false,
    "pycharm": {
     "name": "#%%\n"
    }
   }
  },
  {
   "cell_type": "code",
   "execution_count": 22,
   "outputs": [
    {
     "name": "stdout",
     "output_type": "stream",
     "text": [
      "target domain   : ['food' 'vehicles' 'outdoor' 'indoor' 'appliances']\n",
      "listener domain : ['all']\n",
      "simulator domain: ['all']\n",
      "Data points: 4748\n"
     ]
    }
   ],
   "source": [
    "# pd.to_numeric(df['target domain'], errors='coerce')\n",
    "\n",
    "print('target domain   :', _df['target domain'].unique())\n",
    "print('listener domain :', _df['listener domain'].unique())\n",
    "print('simulator domain:', _df['simulator domain'].unique())\n",
    "# _df = _df.dropna()\n",
    "print('Data points:', len(_df))\n",
    "\n",
    "# _df = _df[_df['listener domain'] != 'all']\n",
    "# _df = _df[_df['simulator domain'] != 'all']\n",
    "#\n",
    "# id_df = _df[(_df['target domain'] == _df['listener domain'])]\n",
    "# ood_df = _df[(_df['target domain'] != _df['listener domain'])]\n",
    "\n",
    "# df = ood_df\n",
    "# df.head(2)\n"
   ],
   "metadata": {
    "collapsed": false,
    "pycharm": {
     "name": "#%%\n"
    }
   }
  },
  {
   "cell_type": "code",
   "execution_count": 30,
   "outputs": [
    {
     "data": {
      "text/plain": "dict_keys(['h0', 'h0 0', 'h0 1', 'h0 2', 'h0 3', 'h0 4', 'h0 5', 'h0 6', 'h0 7', 'h0 8', 'h0 9', 'h0 10', 'h0 11', 'h0 12', 'h0 13', 'h0 14', 'h0 15', 'h0 16', 'h0 17', 'h0 18', 'h0 19', 'h0 20', 'h0 21', 'h0 22', 'h0 23'])"
     },
     "execution_count": 30,
     "metadata": {},
     "output_type": "execute_result"
    }
   ],
   "source": [
    "N_STEPS = 24\n",
    "\n",
    "refs = _df['golden utt'].tolist()\n",
    "\n",
    "hyps = {\"h0\": _df['original utt'].tolist()}\n",
    "hyps.update(\n",
    "    {f\"h0 {s}\": _df[f\"adapted utt s{s}\"].tolist() for s in range(N_STEPS)}\n",
    ")\n",
    "\n",
    "for k in hyps:\n",
    "    hyps[k] = [x for x in hyps[k] if type(x) == str]\n",
    "hyps.keys()"
   ],
   "metadata": {
    "collapsed": false,
    "pycharm": {
     "name": "#%%\n"
    }
   }
  },
  {
   "cell_type": "code",
   "execution_count": 31,
   "outputs": [],
   "source": [
    "pos = defaultdict(lambda: defaultdict(lambda: Counter()))\n",
    "MAX_N = 1\n",
    "\n",
    "for ref in refs:\n",
    "    pos_seq = [tok.pos_ for tok in _spacy(ref)]\n",
    "    for N in range(1, MAX_N + 1):\n",
    "        for ngram in ngrams(pos_seq, N):\n",
    "            pos[N]['ref'][ngram] += 1        \n",
    "            \n",
    "for hyp_type in hyps:\n",
    "    for hyp in hyps[hyp_type]:\n",
    "        pos_seq = [tok.pos_ for tok in _spacy(hyp)]\n",
    "        for N in range(1, MAX_N + 1):\n",
    "            for ngram in ngrams(pos_seq, N):\n",
    "                pos[N][hyp_type][ngram] += 1\n",
    "                \n",
    "for hyp_type in ['ref'] + list(hyps.keys()):\n",
    "    for N in range(1, MAX_N + 1):\n",
    "        tot = sum(pos[N][hyp_type].values())\n",
    "        for k, v in pos[N][hyp_type].items():\n",
    "            pos[N][hyp_type][k] = v / tot\n"
   ],
   "metadata": {
    "collapsed": false,
    "pycharm": {
     "name": "#%%\n"
    }
   }
  },
  {
   "cell_type": "code",
   "execution_count": 32,
   "outputs": [],
   "source": [
    "for N in range(1, MAX_N + 1):\n",
    "    for key, counter in pos[1].items():\n",
    "        pos[N][key] = dict(sorted(counter.items(), key=lambda pair: pair[0], reverse=False)) \n"
   ],
   "metadata": {
    "collapsed": false,
    "pycharm": {
     "name": "#%%\n"
    }
   }
  },
  {
   "cell_type": "code",
   "execution_count": 33,
   "outputs": [],
   "source": [
    "pos_df_1 = pd.DataFrame(pos[1].values(), index=pos[1].keys())\n",
    "# pos_df_2 = pd.DataFrame(pos[2].values(), index=pos[2].keys())\n",
    "# pos_df_3 = pd.DataFrame(pos[3].values(), index=pos[3].keys())"
   ],
   "metadata": {
    "collapsed": false,
    "pycharm": {
     "name": "#%%\n"
    }
   }
  },
  {
   "cell_type": "code",
   "execution_count": 34,
   "outputs": [
    {
     "data": {
      "text/plain": "Text(0.5, 1.0, 'POS distribution (general)')"
     },
     "execution_count": 34,
     "metadata": {},
     "output_type": "execute_result"
    },
    {
     "data": {
      "text/plain": "<Figure size 1008x720 with 1 Axes>",
      "image/png": "[encoded data removed]"
     },
     "metadata": {
      "needs_background": "light"
     },
     "output_type": "display_data"
    }
   ],
   "source": [
    "pos_df_1.plot(kind='bar', stacked=True, figsize=(14,10), colormap='Paired')\n",
    "plt.title('POS distribution (general)')\n"
   ],
   "metadata": {
    "collapsed": false,
    "pycharm": {
     "name": "#%%\n"
    }
   }
  },
  {
   "cell_type": "code",
   "execution_count": 14,
   "metadata": {
    "pycharm": {
     "name": "#%%\n"
    }
   },
   "outputs": [
    {
     "ename": "NameError",
     "evalue": "name 'pos_df_2' is not defined",
     "output_type": "error",
     "traceback": [
      "\u001B[0;31m---------------------------------------------------------------------------\u001B[0m",
      "\u001B[0;31mNameError\u001B[0m                                 Traceback (most recent call last)",
      "Input \u001B[0;32mIn [14]\u001B[0m, in \u001B[0;36m<cell line: 1>\u001B[0;34m()\u001B[0m\n\u001B[0;32m----> 1\u001B[0m \u001B[43mpos_df_2\u001B[49m\u001B[38;5;241m.\u001B[39mplot(kind\u001B[38;5;241m=\u001B[39m\u001B[38;5;124m'\u001B[39m\u001B[38;5;124mbar\u001B[39m\u001B[38;5;124m'\u001B[39m, stacked\u001B[38;5;241m=\u001B[39m\u001B[38;5;28;01mTrue\u001B[39;00m, figsize\u001B[38;5;241m=\u001B[39m(\u001B[38;5;241m14\u001B[39m,\u001B[38;5;241m10\u001B[39m))\n\u001B[1;32m      2\u001B[0m plt\u001B[38;5;241m.\u001B[39mtitle(\u001B[38;5;124m'\u001B[39m\u001B[38;5;124mPOS distribution\u001B[39m\u001B[38;5;124m'\u001B[39m)\n",
      "\u001B[0;31mNameError\u001B[0m: name 'pos_df_2' is not defined"
     ]
    }
   ],
   "source": [
    "pos_df_2.plot(kind='bar', stacked=True, figsize=(14,10))\n",
    "plt.title('POS distribution')\n"
   ]
  },
  {
   "cell_type": "code",
   "execution_count": null,
   "metadata": {
    "pycharm": {
     "name": "#%%\n"
    }
   },
   "outputs": [],
   "source": [
    "pos_df_3.plot(kind='bar', stacked=True, figsize=(14,10))\n",
    "plt.title('POS distribution')\n",
    "\n"
   ]
  },
  {
   "cell_type": "code",
   "execution_count": null,
   "metadata": {
    "pycharm": {
     "name": "#%%\n"
    }
   },
   "outputs": [],
   "source": []
  }
 ],
 "metadata": {
  "kernelspec": {
   "display_name": "Python 3 (ipykernel)",
   "language": "python",
   "name": "python3"
  },
  "language_info": {
   "codemirror_mode": {
    "name": "ipython",
    "version": 3
   },
   "file_extension": ".py",
   "mimetype": "text/x-python",
   "name": "python",
   "nbconvert_exporter": "python",
   "pygments_lexer": "ipython3",
   "version": "3.8.9"
  }
 },
 "nbformat": 4,
 "nbformat_minor": 1
}