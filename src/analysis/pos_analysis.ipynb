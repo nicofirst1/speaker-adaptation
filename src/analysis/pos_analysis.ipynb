{
 "cells": [
  {
   "cell_type": "code",
   "execution_count": 2,
   "outputs": [],
   "source": [
    "from collections import defaultdict, Counter\n",
    "import pandas as pd\n",
    "from nltk import ngrams\n",
    "import spacy"
   ],
   "metadata": {
    "collapsed": false,
    "pycharm": {
     "name": "#%%\n"
    }
   }
  },
  {
   "cell_type": "code",
   "execution_count": 3,
   "outputs": [],
   "source": [
    "#!python -m spacy download en\n",
    "_spacy = spacy.load(\"en_core_web_sm\")"
   ],
   "metadata": {
    "collapsed": false,
    "pycharm": {
     "name": "#%%\n"
    }
   }
  },
  {
   "cell_type": "code",
   "execution_count": 5,
   "outputs": [
    {
     "name": "stderr",
     "output_type": "stream",
     "text": [
      "/var/folders/0s/847v13g104z23kr193w_v2640000gn/T/ipykernel_7534/3585170851.py:2: FutureWarning: The error_bad_lines argument has been deprecated and will be removed in a future version. Use on_bad_lines in the future.\n",
      "\n",
      "\n",
      "  pd.read_csv('/Users/mario/code/pb_speaker_adaptation/src/analysis/adaptive_test_4july/adaptive_speak_test_out_domain_appliances.csv', error_bad_lines=False, warn_bad_lines=True),\n",
      "/var/folders/0s/847v13g104z23kr193w_v2640000gn/T/ipykernel_7534/3585170851.py:2: FutureWarning: The warn_bad_lines argument has been deprecated and will be removed in a future version. Use on_bad_lines in the future.\n",
      "\n",
      "\n",
      "  pd.read_csv('/Users/mario/code/pb_speaker_adaptation/src/analysis/adaptive_test_4july/adaptive_speak_test_out_domain_appliances.csv', error_bad_lines=False, warn_bad_lines=True),\n",
      "b'Skipping line 938: expected 88 fields, saw 104\\nSkipping line 6163: expected 88 fields, saw 448\\n'\n",
      "/var/folders/0s/847v13g104z23kr193w_v2640000gn/T/ipykernel_7534/3585170851.py:3: FutureWarning: The error_bad_lines argument has been deprecated and will be removed in a future version. Use on_bad_lines in the future.\n",
      "\n",
      "\n",
      "  pd.read_csv('/Users/mario/code/pb_speaker_adaptation/src/analysis/adaptive_test_4july/adaptive_speak_test_out_domain_food.csv', error_bad_lines=False, warn_bad_lines=True),\n",
      "/var/folders/0s/847v13g104z23kr193w_v2640000gn/T/ipykernel_7534/3585170851.py:3: FutureWarning: The warn_bad_lines argument has been deprecated and will be removed in a future version. Use on_bad_lines in the future.\n",
      "\n",
      "\n",
      "  pd.read_csv('/Users/mario/code/pb_speaker_adaptation/src/analysis/adaptive_test_4july/adaptive_speak_test_out_domain_food.csv', error_bad_lines=False, warn_bad_lines=True),\n",
      "/var/folders/0s/847v13g104z23kr193w_v2640000gn/T/ipykernel_7534/3585170851.py:4: FutureWarning: The error_bad_lines argument has been deprecated and will be removed in a future version. Use on_bad_lines in the future.\n",
      "\n",
      "\n",
      "  pd.read_csv('/Users/mario/code/pb_speaker_adaptation/src/analysis/adaptive_test_4july/adaptive_speak_test_out_domain_indoor.csv', error_bad_lines=False, warn_bad_lines=True),\n",
      "/var/folders/0s/847v13g104z23kr193w_v2640000gn/T/ipykernel_7534/3585170851.py:4: FutureWarning: The warn_bad_lines argument has been deprecated and will be removed in a future version. Use on_bad_lines in the future.\n",
      "\n",
      "\n",
      "  pd.read_csv('/Users/mario/code/pb_speaker_adaptation/src/analysis/adaptive_test_4july/adaptive_speak_test_out_domain_indoor.csv', error_bad_lines=False, warn_bad_lines=True),\n",
      "b'Skipping line 1576: expected 88 fields, saw 97\\nSkipping line 3507: expected 88 fields, saw 91\\n'\n",
      "/var/folders/0s/847v13g104z23kr193w_v2640000gn/T/ipykernel_7534/3585170851.py:5: FutureWarning: The error_bad_lines argument has been deprecated and will be removed in a future version. Use on_bad_lines in the future.\n",
      "\n",
      "\n",
      "  pd.read_csv('/Users/mario/code/pb_speaker_adaptation/src/analysis/adaptive_test_4july/adaptive_speak_test_out_domain_outdoor.csv', error_bad_lines=False, warn_bad_lines=True),\n",
      "/var/folders/0s/847v13g104z23kr193w_v2640000gn/T/ipykernel_7534/3585170851.py:5: FutureWarning: The warn_bad_lines argument has been deprecated and will be removed in a future version. Use on_bad_lines in the future.\n",
      "\n",
      "\n",
      "  pd.read_csv('/Users/mario/code/pb_speaker_adaptation/src/analysis/adaptive_test_4july/adaptive_speak_test_out_domain_outdoor.csv', error_bad_lines=False, warn_bad_lines=True),\n",
      "b'Skipping line 4646: expected 88 fields, saw 167\\nSkipping line 6102: expected 88 fields, saw 5369\\n'\n",
      "/var/folders/0s/847v13g104z23kr193w_v2640000gn/T/ipykernel_7534/3585170851.py:6: FutureWarning: The error_bad_lines argument has been deprecated and will be removed in a future version. Use on_bad_lines in the future.\n",
      "\n",
      "\n",
      "  pd.read_csv('/Users/mario/code/pb_speaker_adaptation/src/analysis/adaptive_test_4july/adaptive_speak_test_out_domain_vehicles.csv', error_bad_lines=False, warn_bad_lines=True)\n",
      "/var/folders/0s/847v13g104z23kr193w_v2640000gn/T/ipykernel_7534/3585170851.py:6: FutureWarning: The warn_bad_lines argument has been deprecated and will be removed in a future version. Use on_bad_lines in the future.\n",
      "\n",
      "\n",
      "  pd.read_csv('/Users/mario/code/pb_speaker_adaptation/src/analysis/adaptive_test_4july/adaptive_speak_test_out_domain_vehicles.csv', error_bad_lines=False, warn_bad_lines=True)\n"
     ]
    },
    {
     "name": "stdout",
     "output_type": "stream",
     "text": [
      "target domain   : ['vehicles' 'outdoor' 'indoor' 'food' 'appliances']\n",
      "listener domain : ['food' 'vehicles' 'appliances' 'indoor' 'outdoor' 'all']\n",
      "simulator domain: ['food' 'vehicles' 'appliances' 'indoor' 'outdoor' 'all']\n",
      "Data points: 18115\n",
      "OOD data points: 17666\n"
     ]
    },
    {
     "data": {
      "text/plain": "   Unnamed: 0 target domain listener domain simulator domain  target img idx  \\\n1           1      vehicles            food             food               3   \n2           2      vehicles            food             food               4   \n4           4      vehicles            food             food               3   \n8           8      vehicles            food             food               2   \n9           9      vehicles            food             food               5   \n\n                                         img path #0  \\\n1  /home/brandizzi/pb_speaker_adaptation/dataset/...   \n2  /home/brandizzi/pb_speaker_adaptation/dataset/...   \n4  /home/brandizzi/pb_speaker_adaptation/dataset/...   \n8  /home/brandizzi/pb_speaker_adaptation/dataset/...   \n9  /home/brandizzi/pb_speaker_adaptation/dataset/...   \n\n                                         img path #1  \\\n1  /home/brandizzi/pb_speaker_adaptation/dataset/...   \n2  /home/brandizzi/pb_speaker_adaptation/dataset/...   \n4  /home/brandizzi/pb_speaker_adaptation/dataset/...   \n8  /home/brandizzi/pb_speaker_adaptation/dataset/...   \n9  /home/brandizzi/pb_speaker_adaptation/dataset/...   \n\n                                         img path #2  \\\n1  /home/brandizzi/pb_speaker_adaptation/dataset/...   \n2  /home/brandizzi/pb_speaker_adaptation/dataset/...   \n4  /home/brandizzi/pb_speaker_adaptation/dataset/...   \n8  /home/brandizzi/pb_speaker_adaptation/dataset/...   \n9  /home/brandizzi/pb_speaker_adaptation/dataset/...   \n\n                                         img path #3  \\\n1  /home/brandizzi/pb_speaker_adaptation/dataset/...   \n2  /home/brandizzi/pb_speaker_adaptation/dataset/...   \n4  /home/brandizzi/pb_speaker_adaptation/dataset/...   \n8  /home/brandizzi/pb_speaker_adaptation/dataset/...   \n9  /home/brandizzi/pb_speaker_adaptation/dataset/...   \n\n                                         img path #4  ... adapted_acc_s0  \\\n1  /home/brandizzi/pb_speaker_adaptation/dataset/...  ...            0.0   \n2  /home/brandizzi/pb_speaker_adaptation/dataset/...  ...            0.0   \n4  /home/brandizzi/pb_speaker_adaptation/dataset/...  ...            0.0   \n8  /home/brandizzi/pb_speaker_adaptation/dataset/...  ...            0.0   \n9  /home/brandizzi/pb_speaker_adaptation/dataset/...  ...            0.0   \n\n  adapted_acc_s1 adapted_acc_s2 adapted_acc_s3 adapted_acc_s4 adapted_acc_s5  \\\n1            0.0            0.0            0.0            0.0            0.0   \n2            0.0            0.0            0.0            0.0            0.0   \n4            0.0            0.0            0.0            0.0            0.0   \n8            0.0            0.0            0.0            0.0            0.0   \n9            0.0            0.0            0.0            0.0            0.0   \n\n  adapted_acc_s6 adapted_acc_s7 adapted_acc_s8 adapted_acc_s9  \n1            0.0            0.0            0.0            0.0  \n2            0.0            0.0            0.0            0.0  \n4            0.0            0.0            0.0            0.0  \n8            0.0            0.0            0.0            0.0  \n9            0.0            0.0            0.0            0.0  \n\n[5 rows x 88 columns]",
      "text/html": "<div>\n<style scoped>\n    .dataframe tbody tr th:only-of-type {\n        vertical-align: middle;\n    }\n\n    .dataframe tbody tr th {\n        vertical-align: top;\n    }\n\n    .dataframe thead th {\n        text-align: right;\n    }\n</style>\n<table border=\"1\" class=\"dataframe\">\n  <thead>\n    <tr style=\"text-align: right;\">\n      <th></th>\n      <th>Unnamed: 0</th>\n      <th>target domain</th>\n      <th>listener domain</th>\n      <th>simulator domain</th>\n      <th>target img idx</th>\n      <th>img path #0</th>\n      <th>img path #1</th>\n      <th>img path #2</th>\n      <th>img path #3</th>\n      <th>img path #4</th>\n      <th>...</th>\n      <th>adapted_acc_s0</th>\n      <th>adapted_acc_s1</th>\n      <th>adapted_acc_s2</th>\n      <th>adapted_acc_s3</th>\n      <th>adapted_acc_s4</th>\n      <th>adapted_acc_s5</th>\n      <th>adapted_acc_s6</th>\n      <th>adapted_acc_s7</th>\n      <th>adapted_acc_s8</th>\n      <th>adapted_acc_s9</th>\n    </tr>\n  </thead>\n  <tbody>\n    <tr>\n      <th>1</th>\n      <td>1</td>\n      <td>vehicles</td>\n      <td>food</td>\n      <td>food</td>\n      <td>3</td>\n      <td>/home/brandizzi/pb_speaker_adaptation/dataset/...</td>\n      <td>/home/brandizzi/pb_speaker_adaptation/dataset/...</td>\n      <td>/home/brandizzi/pb_speaker_adaptation/dataset/...</td>\n      <td>/home/brandizzi/pb_speaker_adaptation/dataset/...</td>\n      <td>/home/brandizzi/pb_speaker_adaptation/dataset/...</td>\n      <td>...</td>\n      <td>0.0</td>\n      <td>0.0</td>\n      <td>0.0</td>\n      <td>0.0</td>\n      <td>0.0</td>\n      <td>0.0</td>\n      <td>0.0</td>\n      <td>0.0</td>\n      <td>0.0</td>\n      <td>0.0</td>\n    </tr>\n    <tr>\n      <th>2</th>\n      <td>2</td>\n      <td>vehicles</td>\n      <td>food</td>\n      <td>food</td>\n      <td>4</td>\n      <td>/home/brandizzi/pb_speaker_adaptation/dataset/...</td>\n      <td>/home/brandizzi/pb_speaker_adaptation/dataset/...</td>\n      <td>/home/brandizzi/pb_speaker_adaptation/dataset/...</td>\n      <td>/home/brandizzi/pb_speaker_adaptation/dataset/...</td>\n      <td>/home/brandizzi/pb_speaker_adaptation/dataset/...</td>\n      <td>...</td>\n      <td>0.0</td>\n      <td>0.0</td>\n      <td>0.0</td>\n      <td>0.0</td>\n      <td>0.0</td>\n      <td>0.0</td>\n      <td>0.0</td>\n      <td>0.0</td>\n      <td>0.0</td>\n      <td>0.0</td>\n    </tr>\n    <tr>\n      <th>4</th>\n      <td>4</td>\n      <td>vehicles</td>\n      <td>food</td>\n      <td>food</td>\n      <td>3</td>\n      <td>/home/brandizzi/pb_speaker_adaptation/dataset/...</td>\n      <td>/home/brandizzi/pb_speaker_adaptation/dataset/...</td>\n      <td>/home/brandizzi/pb_speaker_adaptation/dataset/...</td>\n      <td>/home/brandizzi/pb_speaker_adaptation/dataset/...</td>\n      <td>/home/brandizzi/pb_speaker_adaptation/dataset/...</td>\n      <td>...</td>\n      <td>0.0</td>\n      <td>0.0</td>\n      <td>0.0</td>\n      <td>0.0</td>\n      <td>0.0</td>\n      <td>0.0</td>\n      <td>0.0</td>\n      <td>0.0</td>\n      <td>0.0</td>\n      <td>0.0</td>\n    </tr>\n    <tr>\n      <th>8</th>\n      <td>8</td>\n      <td>vehicles</td>\n      <td>food</td>\n      <td>food</td>\n      <td>2</td>\n      <td>/home/brandizzi/pb_speaker_adaptation/dataset/...</td>\n      <td>/home/brandizzi/pb_speaker_adaptation/dataset/...</td>\n      <td>/home/brandizzi/pb_speaker_adaptation/dataset/...</td>\n      <td>/home/brandizzi/pb_speaker_adaptation/dataset/...</td>\n      <td>/home/brandizzi/pb_speaker_adaptation/dataset/...</td>\n      <td>...</td>\n      <td>0.0</td>\n      <td>0.0</td>\n      <td>0.0</td>\n      <td>0.0</td>\n      <td>0.0</td>\n      <td>0.0</td>\n      <td>0.0</td>\n      <td>0.0</td>\n      <td>0.0</td>\n      <td>0.0</td>\n    </tr>\n    <tr>\n      <th>9</th>\n      <td>9</td>\n      <td>vehicles</td>\n      <td>food</td>\n      <td>food</td>\n      <td>5</td>\n      <td>/home/brandizzi/pb_speaker_adaptation/dataset/...</td>\n      <td>/home/brandizzi/pb_speaker_adaptation/dataset/...</td>\n      <td>/home/brandizzi/pb_speaker_adaptation/dataset/...</td>\n      <td>/home/brandizzi/pb_speaker_adaptation/dataset/...</td>\n      <td>/home/brandizzi/pb_speaker_adaptation/dataset/...</td>\n      <td>...</td>\n      <td>0.0</td>\n      <td>0.0</td>\n      <td>0.0</td>\n      <td>0.0</td>\n      <td>0.0</td>\n      <td>0.0</td>\n      <td>0.0</td>\n      <td>0.0</td>\n      <td>0.0</td>\n      <td>0.0</td>\n    </tr>\n  </tbody>\n</table>\n<p>5 rows × 88 columns</p>\n</div>"
     },
     "execution_count": 5,
     "metadata": {},
     "output_type": "execute_result"
    }
   ],
   "source": [
    "df = pd.concat([\n",
    "    pd.read_csv('/Users/mario/code/pb_speaker_adaptation/src/analysis/adaptive_test_4july/adaptive_speak_test_out_domain_appliances.csv', error_bad_lines=False, warn_bad_lines=True),\n",
    "    pd.read_csv('/Users/mario/code/pb_speaker_adaptation/src/analysis/adaptive_test_4july/adaptive_speak_test_out_domain_food.csv', error_bad_lines=False, warn_bad_lines=True),\n",
    "    pd.read_csv('/Users/mario/code/pb_speaker_adaptation/src/analysis/adaptive_test_4july/adaptive_speak_test_out_domain_indoor.csv', error_bad_lines=False, warn_bad_lines=True),\n",
    "    pd.read_csv('/Users/mario/code/pb_speaker_adaptation/src/analysis/adaptive_test_4july/adaptive_speak_test_out_domain_outdoor.csv', error_bad_lines=False, warn_bad_lines=True),\n",
    "    pd.read_csv('/Users/mario/code/pb_speaker_adaptation/src/analysis/adaptive_test_4july/adaptive_speak_test_out_domain_vehicles.csv', error_bad_lines=False, warn_bad_lines=True)\n",
    "])\n",
    "\n",
    "# pd.to_numeric(df['target domain'], errors='coerce')\n",
    "\n",
    "print('target domain   :', df['target domain'].unique())\n",
    "print('listener domain :', df['listener domain'].unique())\n",
    "print('simulator domain:', df['simulator domain'].unique())\n",
    "df = df.dropna()\n",
    "print('Data points:', len(df))\n",
    "\n",
    "df = df[df['target domain'] != df['listener domain']]\n",
    "df = df[df['listener domain'] != 'all']\n",
    "df = df[df['simulator domain'] != 'all']\n",
    "print('OOD data points:', len(df))\n",
    "\n",
    "df.head(5)"
   ],
   "metadata": {
    "collapsed": false,
    "pycharm": {
     "name": "#%%\n"
    }
   }
  },
  {
   "cell_type": "code",
   "execution_count": 6,
   "outputs": [],
   "source": [
    "refs = df['golden utt'].tolist()\n",
    "hyps = {\n",
    "    \"h0\": df['original utt'].tolist(),\n",
    "    \"h0' 0\": df['adapted utt s0'].tolist(),\n",
    "    \"h0' 1\": df['adapted utt s1'].tolist(),\n",
    "    \"h0' 2\": df['adapted utt s2'].tolist(),\n",
    "    \"h0' 3\": df['adapted utt s3'].tolist(),\n",
    "    \"h0' 4\": df['adapted utt s4'].tolist(),\n",
    "    \"h0' 5\": df['adapted utt s5'].tolist(),\n",
    "    \"h0' 6\": df['adapted utt s6'].tolist(),\n",
    "    \"h0' 7\": df['adapted utt s7'].tolist(),\n",
    "    \"h0' 8\": df['adapted utt s8'].tolist(),\n",
    "    \"h0' 9\": df['adapted utt s9'].tolist(),\n",
    "}"
   ],
   "metadata": {
    "collapsed": false,
    "pycharm": {
     "name": "#%%\n"
    }
   }
  },
  {
   "cell_type": "code",
   "execution_count": null,
   "outputs": [],
   "source": [
    "pos = defaultdict(lambda: defaultdict(lambda: Counter()))\n",
    "\n",
    "for ref in refs:\n",
    "    pos_seq = [tok.pos_ for tok in _spacy(ref)]\n",
    "    for N in range(1, 4):\n",
    "        for ngram in ngrams(pos_seq, N):\n",
    "            pos[N]['ref'][ngram] += 1\n",
    "\n",
    "for hyp_type in hyps:\n",
    "    for hyp in hyps[hyp_type]:\n",
    "        pos_seq = [tok.pos_ for tok in _spacy(ref)]\n",
    "        for N in range(1, 4):\n",
    "            for ngram in ngrams(pos_seq, N):\n",
    "                pos[N][hyp_type][ngram] += 1"
   ],
   "metadata": {
    "collapsed": false,
    "pycharm": {
     "name": "#%%\n",
     "is_executing": true
    }
   }
  },
  {
   "cell_type": "code",
   "execution_count": null,
   "outputs": [],
   "source": [
    "pos_df_1 = pd.DataFrame(pos[1].values(), index=pos[1].keys())\n",
    "pos_df_2 = pd.DataFrame(pos[2].values(), index=pos[2].keys())\n",
    "pos_df_3 = pd.DataFrame(pos[3].values(), index=pos[3].keys())"
   ],
   "metadata": {
    "collapsed": false,
    "pycharm": {
     "name": "#%%\n",
     "is_executing": true
    }
   }
  },
  {
   "cell_type": "code",
   "execution_count": null,
   "outputs": [],
   "source": [
    "pos_df_1.plot.barh(figsize=(20,10))"
   ],
   "metadata": {
    "collapsed": false,
    "pycharm": {
     "name": "#%%\n",
     "is_executing": true
    }
   }
  },
  {
   "cell_type": "code",
   "execution_count": null,
   "outputs": [],
   "source": [],
   "metadata": {
    "collapsed": false,
    "pycharm": {
     "name": "#%%\n",
     "is_executing": true
    }
   }
  }
 ],
 "metadata": {
  "kernelspec": {
   "display_name": "Python 3",
   "language": "python",
   "name": "python3"
  },
  "language_info": {
   "codemirror_mode": {
    "name": "ipython",
    "version": 2
   },
   "file_extension": ".py",
   "mimetype": "text/x-python",
   "name": "python",
   "nbconvert_exporter": "python",
   "pygments_lexer": "ipython2",
   "version": "2.7.6"
  }
 },
 "nbformat": 4,
 "nbformat_minor": 0
}