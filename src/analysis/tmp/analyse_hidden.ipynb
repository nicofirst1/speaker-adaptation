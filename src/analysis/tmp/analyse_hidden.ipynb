{
 "cells": [
  {
   "cell_type": "code",
   "execution_count": 1,
   "metadata": {
    "id": "dVBvonq7aVa_",
    "pycharm": {
     "name": "#%%\n"
    }
   },
   "outputs": [],
   "source": [
    "import pandas as pd\n",
    "import numpy as np\n",
    "from sklearn import preprocessing\n",
    "from sklearn.neural_network import MLPClassifier\n",
    "from sklearn.linear_model import LogisticRegression, LinearRegression\n",
    "from sklearn.model_selection import train_test_split\n",
    "from sklearn.metrics import classification_report\n",
    "from sklearn.cluster import KMeans\n",
    "from sklearn.metrics.cluster import adjusted_rand_score\n",
    "from matplotlib import pyplot as plt\n",
    "from sklearn.decomposition import PCA"
   ]
  },
  {
   "cell_type": "markdown",
   "metadata": {
    "pycharm": {
     "name": "#%% md\n"
    }
   },
   "source": [
    "all_df = pd.read_csv('/Users/mario/code/pb_speaker_adaptation/src/analysis/adaptive_speak_eval_22june/adaptive_speak_eval_all_v15.csv', on_bad_lines='skip')\n",
    "print('target domain   :', all_df['target domain'].unique())\n",
    "print('listener domain :', all_df['listener domain'].unique())\n",
    "print('simulator domain:', all_df['simulator domain'].unique())"
   ]
  },
  {
   "cell_type": "markdown",
   "metadata": {
    "pycharm": {
     "name": "#%% md\n"
    }
   },
   "source": [
    "df = pd.read_csv('/Users/mario/code/pb_speaker_adaptation/src/analysis/adaptive_speak_eval_22june/adaptive_speak_eval_food_v2.csv')\n",
    "print('target domain   :', df['target domain'].unique())\n",
    "print('listener domain :', df['listener domain'].unique())\n",
    "print('simulator domain:', df['simulator domain'].unique())"
   ]
  },
  {
   "cell_type": "code",
   "execution_count": 2,
   "metadata": {},
   "outputs": [
    {
     "name": "stderr",
     "output_type": "stream",
     "text": [
      "/var/folders/0s/847v13g104z23kr193w_v2640000gn/T/ipykernel_59749/3507402362.py:9: FutureWarning: The error_bad_lines argument has been deprecated and will be removed in a future version. Use on_bad_lines in the future.\n",
      "\n",
      "\n",
      "  _df = pd.read_csv('/Users/mario/code/pb_speaker_adaptation/src/analysis/12oct/zero.csv', error_bad_lines=False, warn_bad_lines=True)\n",
      "/var/folders/0s/847v13g104z23kr193w_v2640000gn/T/ipykernel_59749/3507402362.py:9: FutureWarning: The warn_bad_lines argument has been deprecated and will be removed in a future version. Use on_bad_lines in the future.\n",
      "\n",
      "\n",
      "  _df = pd.read_csv('/Users/mario/code/pb_speaker_adaptation/src/analysis/12oct/zero.csv', error_bad_lines=False, warn_bad_lines=True)\n"
     ]
    }
   ],
   "source": [
    "# _df = pd.concat([\n",
    "#     pd.read_csv('/Users/mario/code/pb_speaker_adaptation/src/analysis/28sept/adaptive_speak_test_out_domain_appliances.csv', error_bad_lines=False, warn_bad_lines=True),\n",
    "#     pd.read_csv('/Users/mario/code/pb_speaker_adaptation/src/analysis/28sept/adaptive_speak_test_out_domain_food.csv', error_bad_lines=False, warn_bad_lines=True),\n",
    "#     pd.read_csv('/Users/mario/code/pb_speaker_adaptation/src/analysis/28sept/adaptive_speak_test_out_domain_indoor.csv', error_bad_lines=False, warn_bad_lines=True),\n",
    "#     pd.read_csv('/Users/mario/code/pb_speaker_adaptation/src/analysis/28sept/adaptive_speak_test_out_domain_outdoor.csv', error_bad_lines=False, warn_bad_lines=True),\n",
    "#     pd.read_csv('/Users/mario/code/pb_speaker_adaptation/src/analysis/28sept/adaptive_speak_test_out_domain_vehicles.csv', error_bad_lines=False, warn_bad_lines=True)\n",
    "# ])\n",
    "\n",
    "_df = pd.read_csv('/Users/mario/code/pb_speaker_adaptation/src/analysis/12oct/zero.csv', error_bad_lines=False, warn_bad_lines=True)\n"
   ]
  },
  {
   "cell_type": "code",
   "execution_count": 3,
   "metadata": {
    "colab": {
     "base_uri": "https://localhost:8080/",
     "height": 324
    },
    "id": "Qn-oBQPUau7W",
    "outputId": "1fe3e430-9a5e-4d92-b928-78b457aca31f",
    "pycharm": {
     "name": "#%%\n"
    }
   },
   "outputs": [
    {
     "name": "stdout",
     "output_type": "stream",
     "text": [
      "target domain   : ['outdoor' 'indoor']\n",
      "listener domain : ['food']\n",
      "simulator domain: ['food']\n",
      "Data points: 323\n"
     ]
    },
    {
     "data": {
      "text/html": [
       "<div>\n",
       "<style scoped>\n",
       "    .dataframe tbody tr th:only-of-type {\n",
       "        vertical-align: middle;\n",
       "    }\n",
       "\n",
       "    .dataframe tbody tr th {\n",
       "        vertical-align: top;\n",
       "    }\n",
       "\n",
       "    .dataframe thead th {\n",
       "        text-align: right;\n",
       "    }\n",
       "</style>\n",
       "<table border=\"1\" class=\"dataframe\">\n",
       "  <thead>\n",
       "    <tr style=\"text-align: right;\">\n",
       "      <th></th>\n",
       "      <th>Unnamed: 0</th>\n",
       "      <th>target domain</th>\n",
       "      <th>listener domain</th>\n",
       "      <th>interpreter domain</th>\n",
       "      <th>target img idx</th>\n",
       "      <th>img path #0</th>\n",
       "      <th>img path #1</th>\n",
       "      <th>img path #2</th>\n",
       "      <th>img path #3</th>\n",
       "      <th>img path #4</th>\n",
       "      <th>...</th>\n",
       "      <th>int_list_acc10</th>\n",
       "      <th>int_list_acc11</th>\n",
       "      <th>int_list_acc12</th>\n",
       "      <th>int_list_acc13</th>\n",
       "      <th>int_list_acc14</th>\n",
       "      <th>int_list_acc15</th>\n",
       "      <th>int_list_acc16</th>\n",
       "      <th>int_list_acc17</th>\n",
       "      <th>int_list_acc18</th>\n",
       "      <th>int_list_acc19</th>\n",
       "    </tr>\n",
       "  </thead>\n",
       "  <tbody>\n",
       "    <tr>\n",
       "      <th>2</th>\n",
       "      <td>3774</td>\n",
       "      <td>outdoor</td>\n",
       "      <td>food</td>\n",
       "      <td>food</td>\n",
       "      <td>4</td>\n",
       "      <td>/home/ecekt/adp/pb_speaker_adaptation/dataset/...</td>\n",
       "      <td>/home/ecekt/adp/pb_speaker_adaptation/dataset/...</td>\n",
       "      <td>/home/ecekt/adp/pb_speaker_adaptation/dataset/...</td>\n",
       "      <td>/home/ecekt/adp/pb_speaker_adaptation/dataset/...</td>\n",
       "      <td>/home/ecekt/adp/pb_speaker_adaptation/dataset/...</td>\n",
       "      <td>...</td>\n",
       "      <td>0</td>\n",
       "      <td>0</td>\n",
       "      <td>0</td>\n",
       "      <td>0</td>\n",
       "      <td>0</td>\n",
       "      <td>0</td>\n",
       "      <td>0</td>\n",
       "      <td>0</td>\n",
       "      <td>0</td>\n",
       "      <td>0</td>\n",
       "    </tr>\n",
       "    <tr>\n",
       "      <th>6</th>\n",
       "      <td>3778</td>\n",
       "      <td>outdoor</td>\n",
       "      <td>food</td>\n",
       "      <td>food</td>\n",
       "      <td>1</td>\n",
       "      <td>/home/ecekt/adp/pb_speaker_adaptation/dataset/...</td>\n",
       "      <td>/home/ecekt/adp/pb_speaker_adaptation/dataset/...</td>\n",
       "      <td>/home/ecekt/adp/pb_speaker_adaptation/dataset/...</td>\n",
       "      <td>/home/ecekt/adp/pb_speaker_adaptation/dataset/...</td>\n",
       "      <td>/home/ecekt/adp/pb_speaker_adaptation/dataset/...</td>\n",
       "      <td>...</td>\n",
       "      <td>0</td>\n",
       "      <td>0</td>\n",
       "      <td>0</td>\n",
       "      <td>0</td>\n",
       "      <td>0</td>\n",
       "      <td>0</td>\n",
       "      <td>0</td>\n",
       "      <td>0</td>\n",
       "      <td>0</td>\n",
       "      <td>0</td>\n",
       "    </tr>\n",
       "  </tbody>\n",
       "</table>\n",
       "<p>2 rows × 198 columns</p>\n",
       "</div>"
      ],
      "text/plain": [
       "   Unnamed: 0 target domain listener domain interpreter domain  \\\n",
       "2        3774       outdoor            food               food   \n",
       "6        3778       outdoor            food               food   \n",
       "\n",
       "   target img idx                                        img path #0  \\\n",
       "2               4  /home/ecekt/adp/pb_speaker_adaptation/dataset/...   \n",
       "6               1  /home/ecekt/adp/pb_speaker_adaptation/dataset/...   \n",
       "\n",
       "                                         img path #1  \\\n",
       "2  /home/ecekt/adp/pb_speaker_adaptation/dataset/...   \n",
       "6  /home/ecekt/adp/pb_speaker_adaptation/dataset/...   \n",
       "\n",
       "                                         img path #2  \\\n",
       "2  /home/ecekt/adp/pb_speaker_adaptation/dataset/...   \n",
       "6  /home/ecekt/adp/pb_speaker_adaptation/dataset/...   \n",
       "\n",
       "                                         img path #3  \\\n",
       "2  /home/ecekt/adp/pb_speaker_adaptation/dataset/...   \n",
       "6  /home/ecekt/adp/pb_speaker_adaptation/dataset/...   \n",
       "\n",
       "                                         img path #4  ... int_list_acc10  \\\n",
       "2  /home/ecekt/adp/pb_speaker_adaptation/dataset/...  ...              0   \n",
       "6  /home/ecekt/adp/pb_speaker_adaptation/dataset/...  ...              0   \n",
       "\n",
       "  int_list_acc11 int_list_acc12 int_list_acc13 int_list_acc14 int_list_acc15  \\\n",
       "2              0              0              0              0              0   \n",
       "6              0              0              0              0              0   \n",
       "\n",
       "  int_list_acc16 int_list_acc17 int_list_acc18 int_list_acc19  \n",
       "2              0              0              0              0  \n",
       "6              0              0              0              0  \n",
       "\n",
       "[2 rows x 198 columns]"
      ]
     },
     "execution_count": 3,
     "metadata": {},
     "output_type": "execute_result"
    }
   ],
   "source": [
    "# pd.to_numeric(df['target domain'], errors='coerce')\n",
    "\n",
    "print('target domain   :', _df['target domain'].unique())\n",
    "print('listener domain :', _df['listener domain'].unique())\n",
    "print('simulator domain:', _df['interpreter domain'].unique())\n",
    "_df = _df.dropna()\n",
    "print('Data points:', len(_df))\n",
    "\n",
    "id_df = _df[(_df['target domain'] == _df['listener domain'])]\n",
    "ood_df = _df[(_df['target domain'] != _df['listener domain'])]\n",
    "\n",
    "df = ood_df\n",
    "df.head(2)"
   ]
  },
  {
   "cell_type": "code",
   "execution_count": 4,
   "metadata": {
    "pycharm": {
     "name": "#%%\n"
    }
   },
   "outputs": [
    {
     "name": "stdout",
     "output_type": "stream",
     "text": [
      "Representations: how many change?\n",
      "s0: 323 / 323\n",
      "s1: 323 / 323\n",
      "s2: 323 / 323\n",
      "s3: 323 / 323\n",
      "s4: 323 / 323\n",
      "s5: 323 / 323\n",
      "s6: 323 / 323\n",
      "s7: 323 / 323\n",
      "s8: 323 / 323\n",
      "s9: 323 / 323\n",
      "s10: 323 / 323\n",
      "s11: 323 / 323\n",
      "s12: 323 / 323\n",
      "s13: 323 / 323\n",
      "s14: 323 / 323\n",
      "s15: 323 / 323\n",
      "s16: 323 / 323\n",
      "s17: 323 / 323\n",
      "s18: 323 / 323\n",
      "s19: 323 / 323\n",
      "\n",
      "Utterances: how many change?\n",
      "orig -> s0: 323\n",
      "s0 -> s1: 65\n",
      "s1 -> s2: 111\n",
      "s2 -> s3: 125\n",
      "s3 -> s4: 126\n",
      "s4 -> s5: 140\n",
      "s5 -> s6: 136\n",
      "s6 -> s7: 127\n",
      "s7 -> s8: 115\n",
      "s8 -> s9: 146\n",
      "s9 -> s10: 120\n",
      "s10 -> s11: 114\n",
      "s11 -> s12: 94\n",
      "s12 -> s13: 86\n",
      "s13 -> s14: 72\n",
      "s14 -> s15: 80\n",
      "s15 -> s16: 52\n",
      "s16 -> s17: 65\n",
      "s17 -> s18: 48\n",
      "s18 -> s19: 57\n"
     ]
    }
   ],
   "source": [
    "N_STEPS = 20\n",
    "print('Representations: how many change?')\n",
    "for n in range(N_STEPS):\n",
    "    print(f's{n}:', len(df[df['original h0'] != df[f'adapted h0 s{n}']]), '/', len(df))\n",
    "\n",
    "print('\\nUtterances: how many change?')\n",
    "for n in range(N_STEPS):\n",
    "#     print(f's{n}:', len(df[df['original utt'] != df[f'adapted utt s{n}']]), '/', len(df))\n",
    "    if n > 0:\n",
    "        print(f's{n-1} -> s{n}:', len(df[df[f'adapted utt s{n}'] != df[f'adapted utt s{n-1}']]))\n",
    "    else:\n",
    "        print(f'orig -> s{n}:', len(df[df[f'adapted utt s{n}'] != df['original utt']]))"
   ]
  },
  {
   "cell_type": "code",
   "execution_count": 5,
   "metadata": {},
   "outputs": [
    {
     "data": {
      "text/html": [
       "<div>\n",
       "<style scoped>\n",
       "    .dataframe tbody tr th:only-of-type {\n",
       "        vertical-align: middle;\n",
       "    }\n",
       "\n",
       "    .dataframe tbody tr th {\n",
       "        vertical-align: top;\n",
       "    }\n",
       "\n",
       "    .dataframe thead th {\n",
       "        text-align: right;\n",
       "    }\n",
       "</style>\n",
       "<table border=\"1\" class=\"dataframe\">\n",
       "  <thead>\n",
       "    <tr style=\"text-align: right;\">\n",
       "      <th></th>\n",
       "      <th>Unnamed: 0</th>\n",
       "      <th>target domain</th>\n",
       "      <th>listener domain</th>\n",
       "      <th>interpreter domain</th>\n",
       "      <th>target img idx</th>\n",
       "      <th>img path #0</th>\n",
       "      <th>img path #1</th>\n",
       "      <th>img path #2</th>\n",
       "      <th>img path #3</th>\n",
       "      <th>img path #4</th>\n",
       "      <th>...</th>\n",
       "      <th>int_list_acc10</th>\n",
       "      <th>int_list_acc11</th>\n",
       "      <th>int_list_acc12</th>\n",
       "      <th>int_list_acc13</th>\n",
       "      <th>int_list_acc14</th>\n",
       "      <th>int_list_acc15</th>\n",
       "      <th>int_list_acc16</th>\n",
       "      <th>int_list_acc17</th>\n",
       "      <th>int_list_acc18</th>\n",
       "      <th>int_list_acc19</th>\n",
       "    </tr>\n",
       "  </thead>\n",
       "  <tbody>\n",
       "    <tr>\n",
       "      <th>2</th>\n",
       "      <td>3774</td>\n",
       "      <td>outdoor</td>\n",
       "      <td>food</td>\n",
       "      <td>food</td>\n",
       "      <td>4</td>\n",
       "      <td>/home/ecekt/adp/pb_speaker_adaptation/dataset/...</td>\n",
       "      <td>/home/ecekt/adp/pb_speaker_adaptation/dataset/...</td>\n",
       "      <td>/home/ecekt/adp/pb_speaker_adaptation/dataset/...</td>\n",
       "      <td>/home/ecekt/adp/pb_speaker_adaptation/dataset/...</td>\n",
       "      <td>/home/ecekt/adp/pb_speaker_adaptation/dataset/...</td>\n",
       "      <td>...</td>\n",
       "      <td>0</td>\n",
       "      <td>0</td>\n",
       "      <td>0</td>\n",
       "      <td>0</td>\n",
       "      <td>0</td>\n",
       "      <td>0</td>\n",
       "      <td>0</td>\n",
       "      <td>0</td>\n",
       "      <td>0</td>\n",
       "      <td>0</td>\n",
       "    </tr>\n",
       "    <tr>\n",
       "      <th>6</th>\n",
       "      <td>3778</td>\n",
       "      <td>outdoor</td>\n",
       "      <td>food</td>\n",
       "      <td>food</td>\n",
       "      <td>1</td>\n",
       "      <td>/home/ecekt/adp/pb_speaker_adaptation/dataset/...</td>\n",
       "      <td>/home/ecekt/adp/pb_speaker_adaptation/dataset/...</td>\n",
       "      <td>/home/ecekt/adp/pb_speaker_adaptation/dataset/...</td>\n",
       "      <td>/home/ecekt/adp/pb_speaker_adaptation/dataset/...</td>\n",
       "      <td>/home/ecekt/adp/pb_speaker_adaptation/dataset/...</td>\n",
       "      <td>...</td>\n",
       "      <td>0</td>\n",
       "      <td>0</td>\n",
       "      <td>0</td>\n",
       "      <td>0</td>\n",
       "      <td>0</td>\n",
       "      <td>0</td>\n",
       "      <td>0</td>\n",
       "      <td>0</td>\n",
       "      <td>0</td>\n",
       "      <td>0</td>\n",
       "    </tr>\n",
       "    <tr>\n",
       "      <th>7</th>\n",
       "      <td>3779</td>\n",
       "      <td>outdoor</td>\n",
       "      <td>food</td>\n",
       "      <td>food</td>\n",
       "      <td>1</td>\n",
       "      <td>/home/ecekt/adp/pb_speaker_adaptation/dataset/...</td>\n",
       "      <td>/home/ecekt/adp/pb_speaker_adaptation/dataset/...</td>\n",
       "      <td>/home/ecekt/adp/pb_speaker_adaptation/dataset/...</td>\n",
       "      <td>/home/ecekt/adp/pb_speaker_adaptation/dataset/...</td>\n",
       "      <td>/home/ecekt/adp/pb_speaker_adaptation/dataset/...</td>\n",
       "      <td>...</td>\n",
       "      <td>0</td>\n",
       "      <td>0</td>\n",
       "      <td>0</td>\n",
       "      <td>0</td>\n",
       "      <td>0</td>\n",
       "      <td>0</td>\n",
       "      <td>0</td>\n",
       "      <td>0</td>\n",
       "      <td>0</td>\n",
       "      <td>0</td>\n",
       "    </tr>\n",
       "    <tr>\n",
       "      <th>13</th>\n",
       "      <td>3785</td>\n",
       "      <td>outdoor</td>\n",
       "      <td>food</td>\n",
       "      <td>food</td>\n",
       "      <td>4</td>\n",
       "      <td>/home/ecekt/adp/pb_speaker_adaptation/dataset/...</td>\n",
       "      <td>/home/ecekt/adp/pb_speaker_adaptation/dataset/...</td>\n",
       "      <td>/home/ecekt/adp/pb_speaker_adaptation/dataset/...</td>\n",
       "      <td>/home/ecekt/adp/pb_speaker_adaptation/dataset/...</td>\n",
       "      <td>/home/ecekt/adp/pb_speaker_adaptation/dataset/...</td>\n",
       "      <td>...</td>\n",
       "      <td>0</td>\n",
       "      <td>0</td>\n",
       "      <td>0</td>\n",
       "      <td>0</td>\n",
       "      <td>0</td>\n",
       "      <td>0</td>\n",
       "      <td>0</td>\n",
       "      <td>0</td>\n",
       "      <td>0</td>\n",
       "      <td>0</td>\n",
       "    </tr>\n",
       "    <tr>\n",
       "      <th>15</th>\n",
       "      <td>3787</td>\n",
       "      <td>outdoor</td>\n",
       "      <td>food</td>\n",
       "      <td>food</td>\n",
       "      <td>1</td>\n",
       "      <td>/home/ecekt/adp/pb_speaker_adaptation/dataset/...</td>\n",
       "      <td>/home/ecekt/adp/pb_speaker_adaptation/dataset/...</td>\n",
       "      <td>/home/ecekt/adp/pb_speaker_adaptation/dataset/...</td>\n",
       "      <td>/home/ecekt/adp/pb_speaker_adaptation/dataset/...</td>\n",
       "      <td>/home/ecekt/adp/pb_speaker_adaptation/dataset/...</td>\n",
       "      <td>...</td>\n",
       "      <td>0</td>\n",
       "      <td>0</td>\n",
       "      <td>0</td>\n",
       "      <td>0</td>\n",
       "      <td>0</td>\n",
       "      <td>0</td>\n",
       "      <td>0</td>\n",
       "      <td>0</td>\n",
       "      <td>0</td>\n",
       "      <td>0</td>\n",
       "    </tr>\n",
       "  </tbody>\n",
       "</table>\n",
       "<p>5 rows × 198 columns</p>\n",
       "</div>"
      ],
      "text/plain": [
       "    Unnamed: 0 target domain listener domain interpreter domain  \\\n",
       "2         3774       outdoor            food               food   \n",
       "6         3778       outdoor            food               food   \n",
       "7         3779       outdoor            food               food   \n",
       "13        3785       outdoor            food               food   \n",
       "15        3787       outdoor            food               food   \n",
       "\n",
       "    target img idx                                        img path #0  \\\n",
       "2                4  /home/ecekt/adp/pb_speaker_adaptation/dataset/...   \n",
       "6                1  /home/ecekt/adp/pb_speaker_adaptation/dataset/...   \n",
       "7                1  /home/ecekt/adp/pb_speaker_adaptation/dataset/...   \n",
       "13               4  /home/ecekt/adp/pb_speaker_adaptation/dataset/...   \n",
       "15               1  /home/ecekt/adp/pb_speaker_adaptation/dataset/...   \n",
       "\n",
       "                                          img path #1  \\\n",
       "2   /home/ecekt/adp/pb_speaker_adaptation/dataset/...   \n",
       "6   /home/ecekt/adp/pb_speaker_adaptation/dataset/...   \n",
       "7   /home/ecekt/adp/pb_speaker_adaptation/dataset/...   \n",
       "13  /home/ecekt/adp/pb_speaker_adaptation/dataset/...   \n",
       "15  /home/ecekt/adp/pb_speaker_adaptation/dataset/...   \n",
       "\n",
       "                                          img path #2  \\\n",
       "2   /home/ecekt/adp/pb_speaker_adaptation/dataset/...   \n",
       "6   /home/ecekt/adp/pb_speaker_adaptation/dataset/...   \n",
       "7   /home/ecekt/adp/pb_speaker_adaptation/dataset/...   \n",
       "13  /home/ecekt/adp/pb_speaker_adaptation/dataset/...   \n",
       "15  /home/ecekt/adp/pb_speaker_adaptation/dataset/...   \n",
       "\n",
       "                                          img path #3  \\\n",
       "2   /home/ecekt/adp/pb_speaker_adaptation/dataset/...   \n",
       "6   /home/ecekt/adp/pb_speaker_adaptation/dataset/...   \n",
       "7   /home/ecekt/adp/pb_speaker_adaptation/dataset/...   \n",
       "13  /home/ecekt/adp/pb_speaker_adaptation/dataset/...   \n",
       "15  /home/ecekt/adp/pb_speaker_adaptation/dataset/...   \n",
       "\n",
       "                                          img path #4  ... int_list_acc10  \\\n",
       "2   /home/ecekt/adp/pb_speaker_adaptation/dataset/...  ...              0   \n",
       "6   /home/ecekt/adp/pb_speaker_adaptation/dataset/...  ...              0   \n",
       "7   /home/ecekt/adp/pb_speaker_adaptation/dataset/...  ...              0   \n",
       "13  /home/ecekt/adp/pb_speaker_adaptation/dataset/...  ...              0   \n",
       "15  /home/ecekt/adp/pb_speaker_adaptation/dataset/...  ...              0   \n",
       "\n",
       "   int_list_acc11 int_list_acc12 int_list_acc13 int_list_acc14 int_list_acc15  \\\n",
       "2               0              0              0              0              0   \n",
       "6               0              0              0              0              0   \n",
       "7               0              0              0              0              0   \n",
       "13              0              0              0              0              0   \n",
       "15              0              0              0              0              0   \n",
       "\n",
       "   int_list_acc16 int_list_acc17 int_list_acc18 int_list_acc19  \n",
       "2               0              0              0              0  \n",
       "6               0              0              0              0  \n",
       "7               0              0              0              0  \n",
       "13              0              0              0              0  \n",
       "15              0              0              0              0  \n",
       "\n",
       "[5 rows x 198 columns]"
      ]
     },
     "execution_count": 5,
     "metadata": {},
     "output_type": "execute_result"
    }
   ],
   "source": [
    "_df.head()"
   ]
  },
  {
   "cell_type": "markdown",
   "metadata": {
    "id": "ondL8JKbzNNM",
    "pycharm": {
     "name": "#%% md\n"
    }
   },
   "source": [
    "## Diagnostic classification"
   ]
  },
  {
   "cell_type": "code",
   "execution_count": 6,
   "metadata": {
    "pycharm": {
     "name": "#%%\n"
    }
   },
   "outputs": [],
   "source": [
    "CLF_TYPE = 'logistic'\n"
   ]
  },
  {
   "cell_type": "code",
   "execution_count": 7,
   "metadata": {
    "id": "ac3QCR4Oh17F",
    "pycharm": {
     "name": "#%%\n"
    }
   },
   "outputs": [],
   "source": [
    "def train_and_classify(X, Y, classifier_type='LR'):\n",
    "    X_train, X_test, Y_train, Y_test = train_test_split(X, Y, stratify=Y, test_size=0.3, random_state=1)\n",
    "    # print(f'X_train: {X_train.shape}  X_test: {X_test.shape}  Y_train: {Y_train.shape}  Y_test: {Y_test.shape}')\n",
    "\n",
    "    scaler = preprocessing.StandardScaler().fit(X_train)\n",
    "    X_train_scaled = scaler.transform(X_train)\n",
    "    X_test_scaled = scaler.transform(X_test)\n",
    "\n",
    "    if classifier_type == 'MLP':\n",
    "        clf = MLPClassifier(random_state=1, max_iter=10000).fit(X_train_scaled, Y_train)\n",
    "    elif classifier_type == 'logistic':\n",
    "        clf = LogisticRegression(random_state=1, max_iter=10000).fit(X_train_scaled, Y_train)\n",
    "    # elif classifier_type == 'linear':\n",
    "    #     clf = LinearRegression().fit(X_train_scaled, Y_train)\n",
    "    else:\n",
    "        raise ValueError()\n",
    "\n",
    "    Y_pred = clf.predict(X_test_scaled)\n",
    "\n",
    "    return classification_report(Y_test, Y_pred), clf, scaler"
   ]
  },
  {
   "cell_type": "code",
   "execution_count": 8,
   "metadata": {},
   "outputs": [],
   "source": [
    "def classify(X, Y, classifier, scaler):\n",
    "    X_train, X_test, Y_train, Y_test = train_test_split(X, Y, stratify=Y, test_size=0.3, random_state=1)\n",
    "    # print(f'X_train: {X_train.shape}  X_test: {X_test.shape}  Y_train: {Y_train.shape}  Y_test: {Y_test.shape}')\n",
    "\n",
    "    X_train_scaled = scaler.transform(X_train)\n",
    "    X_test_scaled = scaler.transform(X_test)\n",
    "\n",
    "    Y_pred = classifier.predict(X_test_scaled)\n",
    "\n",
    "    return classification_report(Y_test, Y_pred)"
   ]
  },
  {
   "cell_type": "markdown",
   "metadata": {},
   "source": [
    "# Is the domain of the target image encoded in $h_0$?"
   ]
  },
  {
   "cell_type": "markdown",
   "metadata": {
    "id": "4RlNVcXRzW25",
    "pycharm": {
     "name": "#%% md\n"
    }
   },
   "source": [
    "### Predict target domain from non-adapted hidden representation"
   ]
  },
  {
   "cell_type": "code",
   "execution_count": 9,
   "metadata": {
    "colab": {
     "base_uri": "https://localhost:8080/"
    },
    "id": "PebKWe-sbXeA",
    "outputId": "abb4295a-e819-4f04-bbf6-012eb411b4bb",
    "pycharm": {
     "name": "#%%\n"
    }
   },
   "outputs": [
    {
     "name": "stdout",
     "output_type": "stream",
     "text": [
      "              precision    recall  f1-score   support\n",
      "\n",
      "      indoor       1.00      0.94      0.97        36\n",
      "     outdoor       0.97      1.00      0.98        61\n",
      "\n",
      "    accuracy                           0.98        97\n",
      "   macro avg       0.98      0.97      0.98        97\n",
      "weighted avg       0.98      0.98      0.98        97\n",
      "\n"
     ]
    }
   ],
   "source": [
    "X, Y = [], []\n",
    "\n",
    "for _, row in df.iterrows():\n",
    "    X.append(eval(row['original h0']))\n",
    "    Y.append(row['target domain'])\n",
    "\n",
    "X, Y = np.array(X), np.array(Y)\n",
    "\n",
    "report, target_classifier, target_scaler = train_and_classify(X, Y, CLF_TYPE)\n",
    "print(report)"
   ]
  },
  {
   "cell_type": "raw",
   "metadata": {
    "pycharm": {
     "name": "#%%\n"
    }
   },
   "source": [
    "pca = PCA(2)\n",
    "scaler = preprocessing.StandardScaler().fit(X)\n",
    "X_2dim = pca.fit_transform(scaler.transform(X))\n",
    "\n",
    "for l in df['target domain'].unique():\n",
    "    plt.scatter(X_2dim[Y == l, 0], X_2dim[Y == l, 1], label=l)\n",
    "plt.legend()\n",
    "plt.show()"
   ]
  },
  {
   "cell_type": "markdown",
   "metadata": {
    "id": "KPWMYlSTzkMB",
    "pycharm": {
     "name": "#%% md\n"
    }
   },
   "source": [
    "### Predict _target_ domain from adapted hidden representation (probe trained on non-adapted)"
   ]
  },
  {
   "cell_type": "code",
   "execution_count": 18,
   "metadata": {
    "colab": {
     "base_uri": "https://localhost:8080/"
    },
    "id": "MZ4Uo0EYhErd",
    "outputId": "9e6cf78c-bef3-4844-fdc3-1e9f4c0369e2",
    "pycharm": {
     "is_executing": true,
     "name": "#%%\n"
    }
   },
   "outputs": [
    {
     "name": "stdout",
     "output_type": "stream",
     "text": [
      "Step 0\n",
      "Step 1\n",
      "Step 2\n",
      "Step 3\n",
      "Step 4\n",
      "Step 5\n",
      "Step 6\n",
      "Step 7\n",
      "Step 8\n",
      "Step 9\n",
      "Step 10\n",
      "Step 11\n",
      "Step 12\n",
      "Step 13\n",
      "Step 14\n",
      "Step 15\n",
      "Step 16\n",
      "Step 17\n",
      "Step 18\n",
      "Step 19\n"
     ]
    }
   ],
   "source": [
    "accs = []\n",
    "for step in np.arange(N_STEPS):\n",
    "\n",
    "    print(f'Step {step}')\n",
    "\n",
    "    X, Y = [], []\n",
    "\n",
    "    for _, row in df.iterrows():\n",
    "        X.append(eval(row[f'adapted h0 s{step}']))\n",
    "        Y.append(row['target domain'])\n",
    "\n",
    "    X, Y = np.array(X), np.array(Y)\n",
    "\n",
    "    tmp_report = classify(X, Y, target_classifier, target_scaler)\n",
    "#     print(tmp_report)\n",
    "    accs.append(float(tmp_report.split('accuracy')[1].split()[0]))\n",
    "    \n",
    "\n",
    "#     pca = PCA(2)\n",
    "#     scaler = preprocessing.StandardScaler().fit(X)\n",
    "#     X_2dim = pca.fit_transform(scaler.transform(X))\n",
    "\n",
    "#     for l in df['target domain'].unique():\n",
    "#         plt.scatter(X_2dim[Y == l, 0], X_2dim[Y == l, 1], label=l)\n",
    "#     plt.legend()\n",
    "#     plt.show()"
   ]
  },
  {
   "cell_type": "code",
   "execution_count": 20,
   "metadata": {},
   "outputs": [
    {
     "data": {
      "text/plain": [
       "Text(0.5, 0, 'Adaptation step')"
      ]
     },
     "execution_count": 20,
     "metadata": {},
     "output_type": "execute_result"
    },
    {
     "data": {
      "image/png": "[encoded data removed]",
      "text/plain": [
       "<Figure size 432x288 with 1 Axes>"
      ]
     },
     "metadata": {
      "needs_background": "light"
     },
     "output_type": "display_data"
    }
   ],
   "source": [
    "plt.plot(range(20), accs)\n",
    "plt.title('Zero-embeddings')\n",
    "plt.ylabel('Accuracy: target image domain')\n",
    "plt.xlabel('Adaptation step')"
   ]
  },
  {
   "cell_type": "markdown",
   "metadata": {},
   "source": [
    "### Predict _target_ domain from adapted hidden representation (probe retrained at each step)"
   ]
  },
  {
   "cell_type": "code",
   "execution_count": 15,
   "metadata": {},
   "outputs": [
    {
     "name": "stdout",
     "output_type": "stream",
     "text": [
      "Step 0\n",
      "Step 1\n",
      "Step 2\n",
      "Step 3\n",
      "Step 4\n",
      "Step 5\n",
      "Step 6\n",
      "Step 7\n",
      "Step 8\n",
      "Step 9\n",
      "Step 10\n",
      "Step 11\n",
      "Step 12\n",
      "Step 13\n",
      "Step 14\n",
      "Step 15\n",
      "Step 16\n",
      "Step 17\n",
      "Step 18\n",
      "Step 19\n"
     ]
    }
   ],
   "source": [
    "accs = []\n",
    "for step in np.arange(N_STEPS):\n",
    "\n",
    "    print(f'Step {step}')\n",
    "\n",
    "    X, Y = [], []\n",
    "\n",
    "    for _, row in df.iterrows():\n",
    "        X.append(eval(row[f'adapted h0 s{step}']))\n",
    "        Y.append(row['target domain'])\n",
    "\n",
    "    X, Y = np.array(X), np.array(Y)\n",
    "\n",
    "    report, _, _ = train_and_classify(X, Y, CLF_TYPE)\n",
    "#     print(report)\n",
    "    accs.append(float(report.split('accuracy')[1].split()[0]))\n",
    "    \n",
    "#     pca = PCA(2)\n",
    "#     scaler = preprocessing.StandardScaler().fit(X)\n",
    "#     X_2dim = pca.fit_transform(scaler.transform(X))\n",
    "\n",
    "#     for l in df['target domain'].unique():\n",
    "#         plt.scatter(X_2dim[Y == l, 0], X_2dim[Y == l, 1], label=l)\n",
    "#     plt.legend()\n",
    "#     plt.show()"
   ]
  },
  {
   "cell_type": "code",
   "execution_count": 16,
   "metadata": {},
   "outputs": [
    {
     "data": {
      "text/plain": [
       "[<matplotlib.lines.Line2D at 0x286ae0070>]"
      ]
     },
     "execution_count": 16,
     "metadata": {},
     "output_type": "execute_result"
    },
    {
     "data": {
      "image/png": "[encoded data removed]",
      "text/plain": [
       "<Figure size 432x288 with 1 Axes>"
      ]
     },
     "metadata": {
      "needs_background": "light"
     },
     "output_type": "display_data"
    }
   ],
   "source": [
    "plt.plot(range(20), accs)"
   ]
  },
  {
   "cell_type": "markdown",
   "metadata": {},
   "source": [
    "# Is the domain of the listener encoded in $h_0$?"
   ]
  },
  {
   "cell_type": "markdown",
   "metadata": {
    "id": "bX14vz7izpYB",
    "pycharm": {
     "name": "#%% md\n"
    }
   },
   "source": [
    "### Try predicting _listener_ domain from non-adapted hidden representation _using the image domain probing classifier_.  \n",
    "\n",
    "That is, is the listener domain encoded similarly to the target domain?"
   ]
  },
  {
   "cell_type": "code",
   "execution_count": 23,
   "metadata": {},
   "outputs": [
    {
     "name": "stdout",
     "output_type": "stream",
     "text": [
      "              precision    recall  f1-score   support\n",
      "\n",
      "        food       0.00      0.00      0.00      97.0\n",
      "      indoor       0.00      0.00      0.00       0.0\n",
      "     outdoor       0.00      0.00      0.00       0.0\n",
      "\n",
      "    accuracy                           0.00      97.0\n",
      "   macro avg       0.00      0.00      0.00      97.0\n",
      "weighted avg       0.00      0.00      0.00      97.0\n",
      "\n"
     ]
    },
    {
     "name": "stderr",
     "output_type": "stream",
     "text": [
      "/Users/mario/code/pb_speaker_adaptation/venv/lib/python3.8/site-packages/sklearn/metrics/_classification.py:1327: UndefinedMetricWarning: Precision and F-score are ill-defined and being set to 0.0 in labels with no predicted samples. Use `zero_division` parameter to control this behavior.\n",
      "  _warn_prf(average, modifier, msg_start, len(result))\n",
      "/Users/mario/code/pb_speaker_adaptation/venv/lib/python3.8/site-packages/sklearn/metrics/_classification.py:1327: UndefinedMetricWarning: Recall and F-score are ill-defined and being set to 0.0 in labels with no true samples. Use `zero_division` parameter to control this behavior.\n",
      "  _warn_prf(average, modifier, msg_start, len(result))\n",
      "/Users/mario/code/pb_speaker_adaptation/venv/lib/python3.8/site-packages/sklearn/metrics/_classification.py:1327: UndefinedMetricWarning: Precision and F-score are ill-defined and being set to 0.0 in labels with no predicted samples. Use `zero_division` parameter to control this behavior.\n",
      "  _warn_prf(average, modifier, msg_start, len(result))\n",
      "/Users/mario/code/pb_speaker_adaptation/venv/lib/python3.8/site-packages/sklearn/metrics/_classification.py:1327: UndefinedMetricWarning: Recall and F-score are ill-defined and being set to 0.0 in labels with no true samples. Use `zero_division` parameter to control this behavior.\n",
      "  _warn_prf(average, modifier, msg_start, len(result))\n",
      "/Users/mario/code/pb_speaker_adaptation/venv/lib/python3.8/site-packages/sklearn/metrics/_classification.py:1327: UndefinedMetricWarning: Precision and F-score are ill-defined and being set to 0.0 in labels with no predicted samples. Use `zero_division` parameter to control this behavior.\n",
      "  _warn_prf(average, modifier, msg_start, len(result))\n",
      "/Users/mario/code/pb_speaker_adaptation/venv/lib/python3.8/site-packages/sklearn/metrics/_classification.py:1327: UndefinedMetricWarning: Recall and F-score are ill-defined and being set to 0.0 in labels with no true samples. Use `zero_division` parameter to control this behavior.\n",
      "  _warn_prf(average, modifier, msg_start, len(result))\n"
     ]
    }
   ],
   "source": [
    "X, Y = [], []\n",
    "\n",
    "for _, row in df.iterrows():\n",
    "    X.append(eval(row['original h0']))\n",
    "    Y.append(row['listener domain'])\n",
    "\n",
    "X, Y = np.array(X), np.array(Y)\n",
    "\n",
    "\n",
    "print(classify(X, Y, target_classifier, target_scaler))"
   ]
  },
  {
   "cell_type": "markdown",
   "metadata": {
    "id": "bX14vz7izpYB",
    "pycharm": {
     "name": "#%% md\n"
    }
   },
   "source": [
    "### Predict _listener_ domain from non-adapted hidden representation _using a listener domain probing classifier_.  "
   ]
  },
  {
   "cell_type": "code",
   "execution_count": 24,
   "metadata": {},
   "outputs": [
    {
     "ename": "ValueError",
     "evalue": "This solver needs samples of at least 2 classes in the data, but the data contains only one class: 'food'",
     "output_type": "error",
     "traceback": [
      "\u001b[0;31m---------------------------------------------------------------------------\u001b[0m",
      "\u001b[0;31mValueError\u001b[0m                                Traceback (most recent call last)",
      "Input \u001b[0;32mIn [24]\u001b[0m, in \u001b[0;36m<cell line: 10>\u001b[0;34m()\u001b[0m\n\u001b[1;32m      5\u001b[0m     Y\u001b[38;5;241m.\u001b[39mappend(row[\u001b[38;5;124m'\u001b[39m\u001b[38;5;124mlistener domain\u001b[39m\u001b[38;5;124m'\u001b[39m])\n\u001b[1;32m      7\u001b[0m X, Y \u001b[38;5;241m=\u001b[39m np\u001b[38;5;241m.\u001b[39marray(X), np\u001b[38;5;241m.\u001b[39marray(Y)\n\u001b[0;32m---> 10\u001b[0m report, listener_classifier, listener_scaler \u001b[38;5;241m=\u001b[39m \u001b[43mtrain_and_classify\u001b[49m\u001b[43m(\u001b[49m\u001b[43mX\u001b[49m\u001b[43m,\u001b[49m\u001b[43m \u001b[49m\u001b[43mY\u001b[49m\u001b[43m,\u001b[49m\u001b[43m \u001b[49m\u001b[43mCLF_TYPE\u001b[49m\u001b[43m)\u001b[49m\n\u001b[1;32m     11\u001b[0m \u001b[38;5;28mprint\u001b[39m(report)\n",
      "Input \u001b[0;32mIn [18]\u001b[0m, in \u001b[0;36mtrain_and_classify\u001b[0;34m(X, Y, classifier_type)\u001b[0m\n\u001b[1;32m     10\u001b[0m     clf \u001b[38;5;241m=\u001b[39m MLPClassifier(random_state\u001b[38;5;241m=\u001b[39m\u001b[38;5;241m1\u001b[39m, max_iter\u001b[38;5;241m=\u001b[39m\u001b[38;5;241m10000\u001b[39m)\u001b[38;5;241m.\u001b[39mfit(X_train_scaled, Y_train)\n\u001b[1;32m     11\u001b[0m \u001b[38;5;28;01melif\u001b[39;00m classifier_type \u001b[38;5;241m==\u001b[39m \u001b[38;5;124m'\u001b[39m\u001b[38;5;124mlogistic\u001b[39m\u001b[38;5;124m'\u001b[39m:\n\u001b[0;32m---> 12\u001b[0m     clf \u001b[38;5;241m=\u001b[39m \u001b[43mLogisticRegression\u001b[49m\u001b[43m(\u001b[49m\u001b[43mrandom_state\u001b[49m\u001b[38;5;241;43m=\u001b[39;49m\u001b[38;5;241;43m1\u001b[39;49m\u001b[43m,\u001b[49m\u001b[43m \u001b[49m\u001b[43mmax_iter\u001b[49m\u001b[38;5;241;43m=\u001b[39;49m\u001b[38;5;241;43m10000\u001b[39;49m\u001b[43m)\u001b[49m\u001b[38;5;241;43m.\u001b[39;49m\u001b[43mfit\u001b[49m\u001b[43m(\u001b[49m\u001b[43mX_train_scaled\u001b[49m\u001b[43m,\u001b[49m\u001b[43m \u001b[49m\u001b[43mY_train\u001b[49m\u001b[43m)\u001b[49m\n\u001b[1;32m     13\u001b[0m \u001b[38;5;66;03m# elif classifier_type == 'linear':\u001b[39;00m\n\u001b[1;32m     14\u001b[0m \u001b[38;5;66;03m#     clf = LinearRegression().fit(X_train_scaled, Y_train)\u001b[39;00m\n\u001b[1;32m     15\u001b[0m \u001b[38;5;28;01melse\u001b[39;00m:\n\u001b[1;32m     16\u001b[0m     \u001b[38;5;28;01mraise\u001b[39;00m \u001b[38;5;167;01mValueError\u001b[39;00m()\n",
      "File \u001b[0;32m~/code/pb_speaker_adaptation/venv/lib/python3.8/site-packages/sklearn/linear_model/_logistic.py:1183\u001b[0m, in \u001b[0;36mLogisticRegression.fit\u001b[0;34m(self, X, y, sample_weight)\u001b[0m\n\u001b[1;32m   1181\u001b[0m classes_ \u001b[38;5;241m=\u001b[39m \u001b[38;5;28mself\u001b[39m\u001b[38;5;241m.\u001b[39mclasses_\n\u001b[1;32m   1182\u001b[0m \u001b[38;5;28;01mif\u001b[39;00m n_classes \u001b[38;5;241m<\u001b[39m \u001b[38;5;241m2\u001b[39m:\n\u001b[0;32m-> 1183\u001b[0m     \u001b[38;5;28;01mraise\u001b[39;00m \u001b[38;5;167;01mValueError\u001b[39;00m(\n\u001b[1;32m   1184\u001b[0m         \u001b[38;5;124m\"\u001b[39m\u001b[38;5;124mThis solver needs samples of at least 2 classes\u001b[39m\u001b[38;5;124m\"\u001b[39m\n\u001b[1;32m   1185\u001b[0m         \u001b[38;5;124m\"\u001b[39m\u001b[38;5;124m in the data, but the data contains only one\u001b[39m\u001b[38;5;124m\"\u001b[39m\n\u001b[1;32m   1186\u001b[0m         \u001b[38;5;124m\"\u001b[39m\u001b[38;5;124m class: \u001b[39m\u001b[38;5;132;01m%r\u001b[39;00m\u001b[38;5;124m\"\u001b[39m\n\u001b[1;32m   1187\u001b[0m         \u001b[38;5;241m%\u001b[39m classes_[\u001b[38;5;241m0\u001b[39m]\n\u001b[1;32m   1188\u001b[0m     )\n\u001b[1;32m   1190\u001b[0m \u001b[38;5;28;01mif\u001b[39;00m \u001b[38;5;28mlen\u001b[39m(\u001b[38;5;28mself\u001b[39m\u001b[38;5;241m.\u001b[39mclasses_) \u001b[38;5;241m==\u001b[39m \u001b[38;5;241m2\u001b[39m:\n\u001b[1;32m   1191\u001b[0m     n_classes \u001b[38;5;241m=\u001b[39m \u001b[38;5;241m1\u001b[39m\n",
      "\u001b[0;31mValueError\u001b[0m: This solver needs samples of at least 2 classes in the data, but the data contains only one class: 'food'"
     ]
    }
   ],
   "source": [
    "X, Y = [], []\n",
    "\n",
    "for _, row in df.iterrows():\n",
    "    X.append(eval(row['original h0']))\n",
    "    Y.append(row['listener domain'])\n",
    "\n",
    "X, Y = np.array(X), np.array(Y)\n",
    "\n",
    "\n",
    "report, listener_classifier, listener_scaler = train_and_classify(X, Y, CLF_TYPE)\n",
    "print(report)\n"
   ]
  },
  {
   "cell_type": "markdown",
   "metadata": {},
   "source": [
    "### Predict _listener_ domain from adapted hidden representation (probe trained on non-adapted)"
   ]
  },
  {
   "cell_type": "code",
   "execution_count": null,
   "metadata": {
    "id": "Eg9m_qoHz6XG",
    "pycharm": {
     "is_executing": true,
     "name": "#%%\n"
    }
   },
   "outputs": [],
   "source": [
    "for step in np.arange(N_STEPS):\n",
    "\n",
    "    print(f'Step {step}')\n",
    "\n",
    "    X, Y = [], []\n",
    "    for _, row in df.iterrows():\n",
    "        X.append(eval(row[f'adapted h0 s{step}']))\n",
    "        Y.append(row['listener domain'])\n",
    "\n",
    "    X, Y = np.array(X), np.array(Y)\n",
    "    \n",
    "    print(classify(X, Y, listener_classifier, listener_scaler))\n",
    "#     print(train_and_classify(X, Y, CLF_TYPE))"
   ]
  },
  {
   "cell_type": "markdown",
   "metadata": {},
   "source": [
    "### Predict _listener_ domain from adapted hidden representation (probe retrained at each step)"
   ]
  },
  {
   "cell_type": "code",
   "execution_count": null,
   "metadata": {
    "id": "Eg9m_qoHz6XG",
    "pycharm": {
     "is_executing": true,
     "name": "#%%\n"
    }
   },
   "outputs": [],
   "source": [
    "for step in np.arange(N_STEPS):\n",
    "\n",
    "    print(f'Step {step}')\n",
    "\n",
    "    X, Y = [], []\n",
    "    for _, row in df.iterrows():\n",
    "        X.append(eval(row[f'adapted h0 s{step}']))\n",
    "        Y.append(row['listener domain'])\n",
    "\n",
    "    X, Y = np.array(X), np.array(Y)\n",
    "    \n",
    "    report, _, _ = train_and_classify(X, Y, CLF_TYPE)\n",
    "    print(report)"
   ]
  },
  {
   "cell_type": "markdown",
   "metadata": {},
   "source": [
    "# Is the adaptation itself (described as the difference between adapted and non-adapted $h_0$) predictive of listener domains?"
   ]
  },
  {
   "cell_type": "markdown",
   "metadata": {
    "id": "tA-RB_iU0BHZ",
    "pycharm": {
     "name": "#%% md\n"
    }
   },
   "source": [
    "### Predict listener domain from difference between adapted and non-adapted hidden representation (probe retrained at each step)"
   ]
  },
  {
   "cell_type": "code",
   "execution_count": null,
   "metadata": {
    "colab": {
     "base_uri": "https://localhost:8080/"
    },
    "id": "JkIvv80lb1KX",
    "outputId": "36cd5656-f502-41e9-df09-041baabe71a4",
    "pycharm": {
     "is_executing": true,
     "name": "#%%\n"
    }
   },
   "outputs": [],
   "source": [
    "for step in np.arange(N_STEPS):\n",
    "\n",
    "    print(f'Step {step}')\n",
    "\n",
    "    X, Y = [], []\n",
    "    for _, row in df.iterrows():\n",
    "        X.append(np.array(eval(row[f'adapted h0 s{step}'])) - np.array(eval(row['original h0'])))\n",
    "        Y.append(row['listener domain'])\n",
    "\n",
    "    X, Y = np.array(X), np.array(Y)\n",
    "\n",
    "    report, _, _ = train_and_classify(X, Y, CLF_TYPE)\n",
    "    print(report)"
   ]
  },
  {
   "cell_type": "markdown",
   "metadata": {
    "id": "ZezAMO-r0J28",
    "pycharm": {
     "name": "#%% md\n"
    }
   },
   "source": [
    "## Diagnostic clustering"
   ]
  },
  {
   "cell_type": "raw",
   "metadata": {
    "id": "0rFTHayx34s_",
    "pycharm": {
     "is_executing": true,
     "name": "#%%\n"
    }
   },
   "source": [
    "def cluster_and_plot(X, Y, k=5):\n",
    "    kmeans = KMeans(n_clusters=k, random_state=1).fit(X)\n",
    "    Y_pred = kmeans.labels_\n",
    "    # print(Y)\n",
    "\n",
    "    print(f'Adjusted rand score: {adjusted_rand_score(Y_pred, Y)}')\n",
    "\n",
    "    pca = PCA(2)\n",
    "    X_2dim = pca.fit_transform(X)\n",
    "    labels = np.unique(Y_pred)\n",
    "\n",
    "    for i in labels:\n",
    "        plt.scatter(X_2dim[Y_pred == i, 0], X_2dim[Y_pred == i, 1], label=i)\n",
    "    plt.legend()\n",
    "    plt.show()\n",
    "\n",
    "    return kmeans, plt"
   ]
  },
  {
   "cell_type": "markdown",
   "metadata": {
    "id": "JOLYqBPo1mbt",
    "pycharm": {
     "name": "#%% md\n"
    }
   },
   "source": [
    "### Cluster non-adapted hidden representations (vs. target domains)"
   ]
  },
  {
   "cell_type": "raw",
   "metadata": {
    "colab": {
     "base_uri": "https://localhost:8080/",
     "height": 232
    },
    "id": "GwZhb3vWcLWp",
    "outputId": "11ee1823-0ca7-4b8f-baf5-866def20dd2e",
    "pycharm": {
     "is_executing": true,
     "name": "#%%\n"
    }
   },
   "source": [
    "X, Y = [], []\n",
    "\n",
    "for _, row in df.iterrows():\n",
    "    X.append(eval(row['original h0']))\n",
    "    Y.append(row['target domain'])\n",
    "\n",
    "X, Y = np.array(X), np.array(Y)\n",
    "\n",
    "cluster_and_plot(X, Y)"
   ]
  },
  {
   "cell_type": "markdown",
   "metadata": {
    "id": "2QIuBljZ16jv",
    "pycharm": {
     "name": "#%% md\n"
    }
   },
   "source": [
    "### Cluster adapted hidden representations (vs. target domains)\n",
    "\n"
   ]
  },
  {
   "cell_type": "raw",
   "metadata": {
    "colab": {
     "base_uri": "https://localhost:8080/"
    },
    "id": "tA-7I28UcPY-",
    "outputId": "260ee99d-8227-41c9-c219-5caf1f7009db",
    "pycharm": {
     "is_executing": true,
     "name": "#%%\n"
    }
   },
   "source": [
    "for step in np.arange(N_STEPS):\n",
    "\n",
    "    print(f'Step {step}')\n",
    "\n",
    "    X, Y = [], []\n",
    "\n",
    "    for _, row in df.iterrows():\n",
    "        X.append(eval(row[f'adapted h0 s{step}']))\n",
    "        Y.append(row['target domain'])\n",
    "\n",
    "    X, Y = np.array(X), np.array(Y)\n",
    "\n",
    "    cluster_and_plot(X, Y)"
   ]
  },
  {
   "cell_type": "markdown",
   "metadata": {
    "id": "xYksOQR62EvT",
    "pycharm": {
     "name": "#%% md\n"
    }
   },
   "source": [
    "### Cluster adapted hidden representations (vs. listener domains)\n"
   ]
  },
  {
   "cell_type": "raw",
   "metadata": {
    "id": "ui1RLIFymVQu",
    "pycharm": {
     "is_executing": true,
     "name": "#%%\n"
    }
   },
   "source": [
    "for step in np.arange(N_STEPS):\n",
    "\n",
    "    print(f'Step {step}')\n",
    "\n",
    "    X, Y = [], []\n",
    "\n",
    "    for _, row in df.iterrows():\n",
    "        X.append(eval(row[f'adapted h0 s{step}']))\n",
    "        Y.append(row['listener domain'])\n",
    "\n",
    "    X, Y = np.array(X), np.array(Y)\n",
    "\n",
    "    cluster_and_plot(X, Y)"
   ]
  },
  {
   "cell_type": "markdown",
   "metadata": {
    "id": "OGFkt9P72MIx",
    "pycharm": {
     "name": "#%% md\n"
    }
   },
   "source": [
    "### Cluster difference between adapted and non-adapted hidden representations (vs. listener domains)\n"
   ]
  },
  {
   "cell_type": "raw",
   "metadata": {
    "pycharm": {
     "is_executing": true,
     "name": "#%%\n"
    }
   },
   "source": [
    "for step in np.arange(N_STEPS):\n",
    "\n",
    "    print(f'Step {step}')\n",
    "\n",
    "    X, Y = [], []\n",
    "\n",
    "    for _, row in df.iterrows():\n",
    "        X.append(np.array(eval(row[f'adapted h0 s{step}'])) - np.array(eval(row['original h0'])))\n",
    "        Y.append(row['listener domain'])\n",
    "\n",
    "    X, Y = np.array(X), np.array(Y)\n",
    "\n",
    "    cluster_and_plot(X, Y)"
   ]
  },
  {
   "cell_type": "code",
   "execution_count": null,
   "metadata": {
    "pycharm": {
     "name": "#%%\n"
    }
   },
   "outputs": [],
   "source": []
  }
 ],
 "metadata": {
  "colab": {
   "collapsed_sections": [],
   "name": "analyse_hidden.ipynb",
   "provenance": [],
   "toc_visible": true
  },
  "kernelspec": {
   "display_name": "Python 3 (ipykernel)",
   "language": "python",
   "name": "python3"
  },
  "language_info": {
   "codemirror_mode": {
    "name": "ipython",
    "version": 3
   },
   "file_extension": ".py",
   "mimetype": "text/x-python",
   "name": "python",
   "nbconvert_exporter": "python",
   "pygments_lexer": "ipython3",
   "version": "3.8.9"
  }
 },
 "nbformat": 4,
 "nbformat_minor": 1
}
