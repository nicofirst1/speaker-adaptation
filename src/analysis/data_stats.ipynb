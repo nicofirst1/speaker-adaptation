{
 "cells": [
  {
   "cell_type": "code",
   "execution_count": 55,
   "outputs": [],
   "source": [
    "import numpy as np\n",
    "import pandas as pd\n",
    "import spacy\n",
    "import string\n",
    "from spacy.lang.en import English\n",
    "import json\n",
    "from collections import Counter, defaultdict"
   ],
   "metadata": {
    "collapsed": false,
    "pycharm": {
     "name": "#%%\n"
    }
   }
  },
  {
   "cell_type": "code",
   "execution_count": 56,
   "outputs": [],
   "source": [
    "tokenizer = English().tokenizer\n",
    "\n",
    "vocabs = defaultdict(lambda: Counter())\n",
    "n_utt = defaultdict(int)\n",
    "utt_lens = defaultdict(list)\n",
    "unique_images = defaultdict(lambda: set())\n",
    "unique_games = defaultdict(lambda: set())\n",
    "\n",
    "for domain in ['appliances', 'food', 'indoor', 'outdoor', 'vehicles', 'all']:\n",
    "\n",
    "    for split in ['train', 'val', 'test_seen', 'test_unseen']:\n",
    "\n",
    "        data_file = f\"/Users/mario/code/pb_speaker_adaptation/dataset/chains-domain-specific/{domain}/{split}.json\"\n",
    "        with open(data_file, \"r\") as f:\n",
    "            subset = json.load(f)\n",
    "\n",
    "        for img_path in subset:\n",
    "            unique_images[domain].add(img_path)\n",
    "\n",
    "            for game_id in subset[img_path]:\n",
    "                unique_games[domain].add(int(game_id))\n",
    "\n",
    "                for utt in subset[img_path][game_id]:\n",
    "                    n_utt[domain] += 1\n",
    "\n",
    "                    utt_len = 0\n",
    "                    for tok in tokenizer(utt['Message_Text']):\n",
    "                        vocabs[domain][tok.text.strip().lower()] += 1\n",
    "                        utt_len += 1\n",
    "                    utt_lens[domain].append(utt_len)\n",
    "        # break\n",
    "    # break\n"
   ],
   "metadata": {
    "collapsed": false,
    "pycharm": {
     "name": "#%%\n"
    }
   }
  },
  {
   "cell_type": "code",
   "execution_count": 43,
   "outputs": [
    {
     "name": "stdout",
     "output_type": "stream",
     "text": [
      "appliances: 1271\n",
      "food: 1646\n",
      "indoor: 2477\n",
      "outdoor: 2858\n",
      "vehicles: 1738\n",
      "all: 6038\n"
     ]
    }
   ],
   "source": [
    "for domain in vocabs:\n",
    "    print(f'{domain}: {len(vocabs[domain])}')"
   ],
   "metadata": {
    "collapsed": false,
    "pycharm": {
     "name": "#%%\n"
    }
   }
  },
  {
   "cell_type": "code",
   "execution_count": 70,
   "outputs": [
    {
     "name": "stdout",
     "output_type": "stream",
     "text": [
      "appliances: 4310 9.4\n",
      "food: 5682 12.4\n",
      "indoor: 12088 26.4\n",
      "outdoor: 16427 35.9\n",
      "vehicles: 7234 15.8\n",
      "all: 45741 100.0\n"
     ]
    }
   ],
   "source": [
    "for domain in n_utt:\n",
    "    print('{}: {} {:.1f}'.format(domain, n_utt[domain], n_utt[domain] / n_utt[\"all\"] * 100))"
   ],
   "metadata": {
    "collapsed": false,
    "pycharm": {
     "name": "#%%\n"
    }
   }
  },
  {
   "cell_type": "code",
   "execution_count": 45,
   "outputs": [
    {
     "name": "stdout",
     "output_type": "stream",
     "text": [
      "appliances: 36\n",
      "food: 36\n",
      "indoor: 96\n",
      "outdoor: 108\n",
      "vehicles: 48\n",
      "all: 324\n"
     ]
    }
   ],
   "source": [
    "for domain in unique_images:\n",
    "    print(f'{domain}: {len(unique_images[domain])}')"
   ],
   "metadata": {
    "collapsed": false,
    "pycharm": {
     "name": "#%%\n"
    }
   }
  },
  {
   "cell_type": "code",
   "execution_count": 64,
   "outputs": [],
   "source": [
    "stopwords_en = spacy.lang.en.stop_words.STOP_WORDS\n",
    "stopwords_en |= {'no', 'noo', 'nope', 'yes', 'yeah', 'ok', 'oh', 'ha', 'i', 'you', ' '}\n",
    "punctuation = set(string.punctuation)\n",
    "\n",
    "stopword = lambda x: x in stopwords_en or x.isnumeric() or all([c in punctuation for c in x])\n",
    "vocabs_clean = {}\n",
    "for d in vocabs:\n",
    "    vocabs_clean[d] = Counter({w: fr for w, fr in vocabs[d].items() if not stopword(w)})  # and fr > 1})"
   ],
   "metadata": {
    "collapsed": false,
    "pycharm": {
     "name": "#%%\n"
    }
   }
  },
  {
   "cell_type": "code",
   "execution_count": 65,
   "outputs": [
    {
     "name": "stdout",
     "output_type": "stream",
     "text": [
      "appliances: 29.5\n",
      "food: 43.3\n",
      "indoor: 44.2\n",
      "outdoor: 47.0\n",
      "vehicles: 36.0\n"
     ]
    }
   ],
   "source": [
    "for domain in vocabs:\n",
    "    if domain == 'all':\n",
    "        continue\n",
    "\n",
    "    id_vocab = set(vocabs[domain].keys())\n",
    "    ood_vocab = set()\n",
    "    for _domain in vocabs:\n",
    "        if _domain not in ['all', domain]:\n",
    "            for w in vocabs[_domain]:\n",
    "                ood_vocab.add(w)\n",
    "\n",
    "    overlap = id_vocab & ood_vocab\n",
    "    overlap_percentage = float(len(overlap)) / len(id_vocab) * 100\n",
    "\n",
    "    print('{}: {:.1f}'.format(domain, 100 - overlap_percentage))"
   ],
   "metadata": {
    "collapsed": false,
    "pycharm": {
     "name": "#%%\n"
    }
   }
  },
  {
   "cell_type": "code",
   "execution_count": 67,
   "outputs": [
    {
     "name": "stdout",
     "output_type": "stream",
     "text": [
      "appliances\n",
      "  food: 22.9\n",
      "  indoor: 23.1\n",
      "  outdoor: 21.0\n",
      "  vehicles: 23.2\n",
      "food\n",
      "  appliances: 22.9\n",
      "  indoor: 22.1\n",
      "  outdoor: 18.3\n",
      "  vehicles: 20.6\n",
      "indoor\n",
      "  appliances: 23.1\n",
      "  food: 22.1\n",
      "  outdoor: 26.0\n",
      "  vehicles: 23.3\n",
      "outdoor\n",
      "  appliances: 21.0\n",
      "  food: 18.3\n",
      "  indoor: 26.0\n",
      "  vehicles: 26.2\n",
      "vehicles\n",
      "  appliances: 23.2\n",
      "  food: 20.6\n",
      "  indoor: 23.3\n",
      "  outdoor: 26.2\n"
     ]
    }
   ],
   "source": [
    "for domain in vocabs:\n",
    "    if domain == 'all':\n",
    "        continue\n",
    "\n",
    "    print(domain)\n",
    "    id_vocab = set(vocabs[domain].keys())\n",
    "\n",
    "    for _domain in vocabs:\n",
    "        if _domain not in ['all', domain]:\n",
    "            ood_vocab = set()\n",
    "            for w in vocabs[_domain]:\n",
    "                ood_vocab.add(w)\n",
    "\n",
    "            overlap = id_vocab & ood_vocab\n",
    "            universe = id_vocab | ood_vocab\n",
    "            overlap_percentage = float(len(overlap)) / len(universe) * 100\n",
    "\n",
    "            print('  {}: {:.1f}'.format(_domain, overlap_percentage))"
   ],
   "metadata": {
    "collapsed": false,
    "pycharm": {
     "name": "#%%\n"
    }
   }
  }
 ],
 "metadata": {
  "kernelspec": {
   "display_name": "Python 3",
   "language": "python",
   "name": "python3"
  },
  "language_info": {
   "codemirror_mode": {
    "name": "ipython",
    "version": 2
   },
   "file_extension": ".py",
   "mimetype": "text/x-python",
   "name": "python",
   "nbconvert_exporter": "python",
   "pygments_lexer": "ipython2",
   "version": "2.7.6"
  }
 },
 "nbformat": 4,
 "nbformat_minor": 0
}