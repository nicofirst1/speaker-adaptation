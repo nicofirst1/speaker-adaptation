{
 "cells": [
  {
   "cell_type": "code",
   "execution_count": 16,
   "outputs": [],
   "source": [
    "from collections import defaultdict, Counter\n",
    "import pandas as pd"
   ],
   "metadata": {
    "collapsed": false,
    "pycharm": {
     "name": "#%%\n"
    }
   }
  },
  {
   "cell_type": "code",
   "execution_count": null,
   "outputs": [],
   "source": [
    "df = pd.read_csv('adaptive_speak_eval_all.csv')\n",
    "df.head(2)"
   ],
   "metadata": {
    "collapsed": false,
    "pycharm": {
     "name": "#%%\n",
     "is_executing": true
    }
   }
  },
  {
   "cell_type": "code",
   "execution_count": 3,
   "outputs": [],
   "source": [
    "refs = df['golden utt'].tolist()\n",
    "hyps = {\n",
    "    \"h0\": df['original utt'].tolist(),\n",
    "    \"h0' 0\": df['adapted utt s0'].tolist(),\n",
    "    # \"h0' 1\": df['adapted utt s1'].tolist(),\n",
    "    # \"h0' 2\": df['adapted utt s2'].tolist()\n",
    "}"
   ],
   "metadata": {
    "collapsed": false,
    "pycharm": {
     "name": "#%%\n"
    }
   }
  },
  {
   "cell_type": "code",
   "execution_count": 6,
   "outputs": [],
   "source": [
    "vocabs = defaultdict(lambda: Counter())\n",
    "\n",
    "for ref in refs:\n",
    "    for tok in ref.strip().split():\n",
    "        vocabs['ref'][tok] += 1\n",
    "\n",
    "for hyp_type in hyps:\n",
    "    for hyp in hyps[hyp_type]:\n",
    "        for tok in hyp.strip().split():\n",
    "            vocabs[hyp_type][tok] += 1\n"
   ],
   "metadata": {
    "collapsed": false,
    "pycharm": {
     "name": "#%%\n"
    }
   }
  },
  {
   "cell_type": "code",
   "execution_count": 24,
   "outputs": [],
   "source": [
    "vocab_df = pd.DataFrame.from_records(vocabs['ref'].most_common(), columns=['word','frequency'])"
   ],
   "metadata": {
    "collapsed": false,
    "pycharm": {
     "name": "#%%\n"
    }
   }
  },
  {
   "cell_type": "code",
   "execution_count": null,
   "outputs": [],
   "source": [
    "ax = vocab_df.plot.bar(x='word', y='frequency')\n"
   ],
   "metadata": {
    "collapsed": false,
    "pycharm": {
     "name": "#%%\n",
     "is_executing": true
    }
   }
  },
  {
   "cell_type": "code",
   "execution_count": null,
   "outputs": [],
   "source": [
    "types = [\"ref\", \"h0\", \"h0' 0\"]\n",
    "\n",
    "df = pd.DataFrame({\n",
    "    'vocab': types,\n",
    "    'size': [len(vocabs[x]) for x in types]\n",
    "})\n",
    "\n",
    "ax = df.plot.bar(x='vocab', y='size', rot=0)"
   ],
   "metadata": {
    "collapsed": false,
    "pycharm": {
     "name": "#%%\n",
     "is_executing": true
    }
   }
  },
  {
   "cell_type": "code",
   "execution_count": null,
   "outputs": [],
   "source": [
    "ttr = []\n",
    "for typ in types:\n",
    "    ttr.append(len(vocabs[typ]) / sum(vocabs[typ].values()) )\n",
    "\n",
    "df = pd.DataFrame({\n",
    "    'vocab': types,\n",
    "    'ttr': ttr\n",
    "})\n",
    "\n",
    "ax = df.plot.bar(x='vocab', y='ttr', rot=0)"
   ],
   "metadata": {
    "collapsed": false,
    "pycharm": {
     "name": "#%%\n",
     "is_executing": true
    }
   }
  }
 ],
 "metadata": {
  "kernelspec": {
   "display_name": "Python 3",
   "language": "python",
   "name": "python3"
  },
  "language_info": {
   "codemirror_mode": {
    "name": "ipython",
    "version": 2
   },
   "file_extension": ".py",
   "mimetype": "text/x-python",
   "name": "python",
   "nbconvert_exporter": "python",
   "pygments_lexer": "ipython2",
   "version": "2.7.6"
  }
 },
 "nbformat": 4,
 "nbformat_minor": 0
}