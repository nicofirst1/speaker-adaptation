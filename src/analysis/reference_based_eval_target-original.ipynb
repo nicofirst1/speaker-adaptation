{
 "cells": [
  {
   "cell_type": "code",
   "execution_count": 13,
   "metadata": {
    "pycharm": {
     "name": "#%%\n"
    }
   },
   "outputs": [],
   "source": [
    "from collections import defaultdict, Counter\n",
    "import pandas as pd\n",
    "from bert_score import score as bert_score\n",
    "from nlgeval import NLGEval\n",
    "import seaborn as sns\n",
    "from matplotlib import pyplot as plt\n",
    "from nltk import ngrams"
   ]
  },
  {
   "cell_type": "code",
   "execution_count": null,
   "outputs": [],
   "source": [
    "# _df = pd.concat([\n",
    "#     pd.read_csv('/Users/mario/code/pb_speaker_adaptation/src/analysis/28sept/adaptive_speak_test_out_domain_appliances.csv', error_bad_lines=False, warn_bad_lines=True),\n",
    "#     pd.read_csv('/Users/mario/code/pb_speaker_adaptation/src/analysis/28sept/adaptive_speak_test_out_domain_food.csv', error_bad_lines=False, warn_bad_lines=True),\n",
    "#     pd.read_csv('/Users/mario/code/pb_speaker_adaptation/src/analysis/28sept/adaptive_speak_test_out_domain_indoor.csv', error_bad_lines=False, warn_bad_lines=True),\n",
    "#     pd.read_csv('/Users/mario/code/pb_speaker_adaptation/src/analysis/28sept/adaptive_speak_test_out_domain_outdoor.csv', error_bad_lines=False, warn_bad_lines=True),\n",
    "#     pd.read_csv('/Users/mario/code/pb_speaker_adaptation/src/analysis/28sept/adaptive_speak_test_out_domain_vehicles.csv', error_bad_lines=False, warn_bad_lines=True)\n",
    "# ])\n",
    "\n",
    "_df = pd.read_csv(\n",
    "    '/Users/mario/code/pb_speaker_adaptation/src/analysis/28sept/adaptive_speak_test_out_domain_food.csv', \n",
    "    error_bad_lines=False, warn_bad_lines=True)\n"
   ],
   "metadata": {
    "collapsed": false,
    "pycharm": {
     "name": "#%%\n"
    }
   }
  },
  {
   "cell_type": "code",
   "execution_count": null,
   "outputs": [],
   "source": [
    "# pd.to_numeric(df['target domain'], errors='coerce')\n",
    "\n",
    "print('target domain   :', _df['target domain'].unique())\n",
    "print('listener domain :', _df['listener domain'].unique())\n",
    "print('simulator domain:', _df['interpreter domain'].unique())\n",
    "_df = _df.dropna()\n",
    "print('Data points:', len(_df))\n",
    "\n",
    "id_df = _df[(_df['target domain'] == _df['listener domain'])]\n",
    "ood_df = _df[(_df['target domain'] != _df['listener domain'])]\n",
    "\n",
    "df = ood_df\n",
    "df.head(2)\n"
   ],
   "metadata": {
    "collapsed": false,
    "pycharm": {
     "name": "#%%\n"
    }
   }
  },
  {
   "cell_type": "code",
   "execution_count": null,
   "outputs": [],
   "source": [
    "N_STEPS = 20\n",
    "\n",
    "# refs = df['golden utt'].tolist()\n",
    "refs = df['original utt'].tolist()\n",
    "refs_for_nlgeval = [[ref] for ref in refs]\n",
    "\n",
    "# hyps = {\"h0\": df['original utt'].tolist()}\n",
    "hyps = {}\n",
    "hyps.update(\n",
    "    {f\"h0 {s}\": df[f\"adapted utt s{s}\"].tolist() for s in range(N_STEPS)}\n",
    ")\n",
    "hyps.keys()"
   ],
   "metadata": {
    "collapsed": false,
    "pycharm": {
     "name": "#%%\n"
    }
   }
  },
  {
   "cell_type": "markdown",
   "source": [
    "## Classic NLG metrics"
   ],
   "metadata": {
    "collapsed": false,
    "pycharm": {
     "name": "#%% md\n"
    }
   }
  },
  {
   "cell_type": "code",
   "execution_count": null,
   "outputs": [],
   "source": [
    "nlgeval = NLGEval(no_skipthoughts=True, no_glove=True, metrics_to_omit=['METEOR'])\n",
    "\n",
    "score_dicts = []\n",
    "for hyp_type in hyps:\n",
    "    metrics_dict = nlgeval.compute_metrics(refs_for_nlgeval, hyps[hyp_type])\n",
    "    (P, R, F)= bert_score(\n",
    "        hyps[hyp_type],\n",
    "        refs,\n",
    "        lang=\"en\",\n",
    "        return_hash=False,\n",
    "        model_type=\"microsoft/deberta-xlarge-mnli\",\n",
    "    )\n",
    "    metrics_dict['BERT_P'] = P.mean().item()\n",
    "    metrics_dict['BERT_R'] = R.mean().item()\n",
    "    metrics_dict['BERT_F'] = F.mean().item()\n",
    "    score_dicts.append(metrics_dict)\n",
    "\n",
    "score_df = pd.DataFrame(score_dicts, index=hyps.keys())"
   ],
   "metadata": {
    "collapsed": false,
    "pycharm": {
     "name": "#%%\n"
    }
   }
  },
  {
   "cell_type": "code",
   "execution_count": null,
   "outputs": [],
   "source": [
    "axes = score_df.plot.bar(rot=0, subplots=True, figsize=(20,20), legend=None)\n",
    "# axes[1].legend()"
   ],
   "metadata": {
    "collapsed": false,
    "pycharm": {
     "name": "#%%\n"
    }
   }
  },
  {
   "cell_type": "markdown",
   "source": [
    "## Utterance length"
   ],
   "metadata": {
    "collapsed": false,
    "pycharm": {
     "name": "#%% md\n"
    }
   }
  },
  {
   "cell_type": "code",
   "execution_count": null,
   "outputs": [],
   "source": [
    "lengths = defaultdict(list)\n",
    "\n",
    "for ref in refs:\n",
    "    lengths['ref'].append(len(ref.strip().split()))\n",
    "\n",
    "for hyp_type in hyps:\n",
    "    for hyp in hyps[hyp_type]:\n",
    "        lengths[hyp_type].append(len(hyp.strip().split()))\n",
    "\n",
    "len_df = pd.DataFrame(lengths.values(), index=lengths.keys()).T\n"
   ],
   "metadata": {
    "collapsed": false,
    "pycharm": {
     "name": "#%%\n"
    }
   }
  },
  {
   "cell_type": "code",
   "execution_count": null,
   "outputs": [],
   "source": [
    "plt.rcParams[\"figure.figsize\"] = (14,8)\n",
    "sns.violinplot(data=len_df)\n",
    "plt.title('Utterance length - Random embeddings')"
   ],
   "metadata": {
    "collapsed": false,
    "pycharm": {
     "name": "#%%\n"
    }
   }
  },
  {
   "cell_type": "markdown",
   "source": [
    "## Repetitions"
   ],
   "metadata": {
    "collapsed": false,
    "pycharm": {
     "name": "#%% md\n"
    }
   }
  },
  {
   "cell_type": "code",
   "execution_count": null,
   "outputs": [],
   "source": [
    "def ngram_reps(text, n=1):\n",
    "    token_seq = text.strip().split()\n",
    "    ngram_seq = list(ngrams(token_seq, n))\n",
    "    if len(ngram_seq) <= 1:\n",
    "        return 0.\n",
    "\n",
    "    ngram_counter = Counter(ngram_seq)\n",
    "    n_repeated_tokens = 0\n",
    "    n_repeated_types = 0\n",
    "    for w in ngram_counter:\n",
    "        if ngram_counter[w] > 1:\n",
    "            n_repeated_tokens += ngram_counter[w]\n",
    "            n_repeated_types += 1\n",
    "\n",
    "    return (n_repeated_tokens - n_repeated_types) / len(ngram_seq)\n"
   ],
   "metadata": {
    "collapsed": false,
    "pycharm": {
     "name": "#%%\n"
    }
   }
  },
  {
   "cell_type": "code",
   "execution_count": null,
   "outputs": [],
   "source": [
    "reps = defaultdict(lambda: defaultdict(list))\n",
    "\n",
    "for N in range(1, 4):\n",
    "    for ref in refs:\n",
    "        reps[N]['ref'].append(ngram_reps(ref, n=N))\n",
    "\n",
    "    for hyp_type in hyps:\n",
    "        for hyp in hyps[hyp_type]:\n",
    "            reps[N][hyp_type].append(ngram_reps(hyp, n=N))\n",
    "\n",
    "rep_df_1 = pd.DataFrame(reps[1].values(), index=reps[1].keys()).T\n",
    "rep_df_2 = pd.DataFrame(reps[2].values(), index=reps[2].keys()).T\n",
    "rep_df_3 = pd.DataFrame(reps[3].values(), index=reps[3].keys()).T"
   ],
   "metadata": {
    "collapsed": false,
    "pycharm": {
     "name": "#%%\n"
    }
   }
  },
  {
   "cell_type": "code",
   "execution_count": null,
   "outputs": [],
   "source": [
    "sns.violinplot(data=rep_df_1, inner=None, color=\".9\")\n",
    "sns.stripplot(data=rep_df_1)\n",
    "plt.title('Unigram repetitions (percentage repeated tokens) - Random embeddings')"
   ],
   "metadata": {
    "collapsed": false,
    "pycharm": {
     "name": "#%%\n"
    }
   }
  },
  {
   "cell_type": "code",
   "execution_count": null,
   "metadata": {
    "pycharm": {
     "name": "#%%\n"
    }
   },
   "outputs": [],
   "source": [
    "sns.violinplot(data=rep_df_2, inner=None, color=\".9\")\n",
    "sns.stripplot(data=rep_df_2)"
   ]
  },
  {
   "cell_type": "code",
   "execution_count": null,
   "metadata": {
    "pycharm": {
     "name": "#%%\n"
    }
   },
   "outputs": [],
   "source": [
    "sns.violinplot(data=rep_df_3, inner=None, color=\".9\")\n",
    "sns.stripplot(data=rep_df_3)"
   ]
  },
  {
   "cell_type": "code",
   "execution_count": null,
   "metadata": {
    "pycharm": {
     "is_executing": true,
     "name": "#%%\n"
    }
   },
   "outputs": [],
   "source": []
  }
 ],
 "metadata": {
  "kernelspec": {
   "display_name": "Python 3 (ipykernel)",
   "language": "python",
   "name": "python3"
  },
  "language_info": {
   "codemirror_mode": {
    "name": "ipython",
    "version": 3
   },
   "file_extension": ".py",
   "mimetype": "text/x-python",
   "name": "python",
   "nbconvert_exporter": "python",
   "pygments_lexer": "ipython3",
   "version": "3.8.9"
  }
 },
 "nbformat": 4,
 "nbformat_minor": 1
}