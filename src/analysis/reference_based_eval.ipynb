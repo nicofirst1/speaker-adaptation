{
 "cells": [
  {
   "cell_type": "code",
   "execution_count": 35,
   "metadata": {
    "collapsed": true,
    "pycharm": {
     "name": "#%%\n"
    }
   },
   "outputs": [],
   "source": [
    "import numpy as np\n",
    "import pandas as pd\n",
    "from bert_score import score as bert_score\n",
    "from nlgeval import NLGEval\n"
   ]
  },
  {
   "cell_type": "code",
   "execution_count": null,
   "outputs": [],
   "source": [
    "df = pd.read_csv('adaptive_speak_eval_all.csv')\n",
    "df.head(2)"
   ],
   "metadata": {
    "collapsed": false,
    "pycharm": {
     "name": "#%%\n",
     "is_executing": true
    }
   }
  },
  {
   "cell_type": "code",
   "execution_count": 67,
   "outputs": [],
   "source": [
    "refs = df['golden utt'].tolist()\n",
    "refs_for_nlgeval = [[ref] for ref in refs]\n",
    "hyps = {\n",
    "    \"h0\": df['original utt'].tolist(),\n",
    "    \"h0' 0\": df['adapted utt s0'].tolist(),\n",
    "    # \"h0' 1\": df['adapted utt s1'].tolist(),\n",
    "    # \"h0' 2\": df['adapted utt s2'].tolist()\n",
    "}\n"
   ],
   "metadata": {
    "collapsed": false,
    "pycharm": {
     "name": "#%%\n"
    }
   }
  },
  {
   "cell_type": "code",
   "execution_count": null,
   "outputs": [],
   "source": [
    "nlgeval = NLGEval(no_skipthoughts=True, no_glove=True, metrics_to_omit=['METEOR'])\n",
    "\n",
    "score_dicts = []\n",
    "for hyp_type in hyps:\n",
    "    metrics_dict = nlgeval.compute_metrics(refs_for_nlgeval, hyps[hyp_type])\n",
    "    (P, R, F)= bert_score(\n",
    "        hyps[hyp_type],\n",
    "        refs,\n",
    "        lang=\"en\",\n",
    "        return_hash=False,\n",
    "        model_type=\"microsoft/deberta-xlarge-mnli\",\n",
    "    )\n",
    "    metrics_dict['BERT_P'] = P.mean().item()\n",
    "    metrics_dict['BERT_R'] = R.mean().item()\n",
    "    metrics_dict['BERT_F'] = F.mean().item()\n",
    "    score_dicts.append(metrics_dict)\n",
    "\n",
    "score_df = pd.DataFrame(score_dicts, index=hyps.keys())"
   ],
   "metadata": {
    "collapsed": false,
    "pycharm": {
     "name": "#%%\n",
     "is_executing": true
    }
   }
  },
  {
   "cell_type": "code",
   "execution_count": null,
   "outputs": [],
   "source": [
    "score_df"
   ],
   "metadata": {
    "collapsed": false,
    "pycharm": {
     "name": "#%%\n",
     "is_executing": true
    }
   }
  },
  {
   "cell_type": "code",
   "execution_count": null,
   "outputs": [],
   "source": [
    "axes = score_df.plot.bar(rot=0, subplots=True, figsize=(10,20), legend=None)\n",
    "# axes[1].legend()"
   ],
   "metadata": {
    "collapsed": false,
    "pycharm": {
     "name": "#%%\n",
     "is_executing": true
    }
   }
  },
  {
   "cell_type": "code",
   "execution_count": null,
   "outputs": [],
   "source": [],
   "metadata": {
    "collapsed": false,
    "pycharm": {
     "name": "#%%\n"
    }
   }
  }
 ],
 "metadata": {
  "kernelspec": {
   "display_name": "Python 3",
   "language": "python",
   "name": "python3"
  },
  "language_info": {
   "codemirror_mode": {
    "name": "ipython",
    "version": 2
   },
   "file_extension": ".py",
   "mimetype": "text/x-python",
   "name": "python",
   "nbconvert_exporter": "python",
   "pygments_lexer": "ipython2",
   "version": "2.7.6"
  }
 },
 "nbformat": 4,
 "nbformat_minor": 0
}