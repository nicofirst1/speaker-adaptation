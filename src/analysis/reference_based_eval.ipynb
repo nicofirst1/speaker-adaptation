{
 "cells": [
  {
   "cell_type": "code",
   "execution_count": 20,
   "metadata": {
    "collapsed": true,
    "pycharm": {
     "name": "#%%\n"
    }
   },
   "outputs": [],
   "source": [
    "from collections import defaultdict, Counter\n",
    "import pandas as pd\n",
    "from bert_score import score as bert_score\n",
    "from nlgeval import NLGEval\n",
    "import seaborn as sns\n",
    "from nltk import ngrams"
   ]
  },
  {
   "cell_type": "code",
   "execution_count": 21,
   "outputs": [
    {
     "name": "stdout",
     "output_type": "stream",
     "text": [
      "target domain   : ['food' 'vehicles' 'outdoor' 'indoor' 'appliances']\n",
      "listener domain : ['appliances' 'food' 'indoor' 'outdoor']\n",
      "simulator domain: ['appliances' 'food' 'indoor' 'outdoor']\n",
      "Data points: 27907\n"
     ]
    },
    {
     "data": {
      "text/plain": "   Unnamed: 0 target domain listener domain simulator domain  target img idx  \\\n0           0          food      appliances       appliances               5   \n1           1          food      appliances       appliances               0   \n\n                                         img path #0  \\\n0  /home/brandizzi/pb_speaker_adaptation/dataset/...   \n1  /home/brandizzi/pb_speaker_adaptation/dataset/...   \n\n                                         img path #1  \\\n0  /home/brandizzi/pb_speaker_adaptation/dataset/...   \n1  /home/brandizzi/pb_speaker_adaptation/dataset/...   \n\n                                         img path #2  \\\n0  /home/brandizzi/pb_speaker_adaptation/dataset/...   \n1  /home/brandizzi/pb_speaker_adaptation/dataset/...   \n\n                                         img path #3  \\\n0  /home/brandizzi/pb_speaker_adaptation/dataset/...   \n1  /home/brandizzi/pb_speaker_adaptation/dataset/...   \n\n                                         img path #4  ...  \\\n0  /home/brandizzi/pb_speaker_adaptation/dataset/...  ...   \n1  /home/brandizzi/pb_speaker_adaptation/dataset/...  ...   \n\n                                 adapted_list_out_s0  \\\n0  [[13.496817588806152], [14.18220043182373], [1...   \n1  [[10.616264343261719], [11.301734924316406], [...   \n\n                                 adapted_list_out_s1  \\\n0  [[13.496817588806152], [14.18220043182373], [1...   \n1  [[10.616264343261719], [11.301734924316406], [...   \n\n                                 adapted_list_out_s2  \\\n0  [[13.496817588806152], [14.18220043182373], [1...   \n1  [[10.616264343261719], [11.301734924316406], [...   \n\n                                    original_sim_out  \\\n0  [[22.605070114135742], [23.6052188873291], [22...   \n1  [[22.24153709411621], [22.164512634277344], [2...   \n\n                                  adapted_sim_out_s0  \\\n0  [[22.604656219482422], [23.604846954345703], [...   \n1  [[22.241954803466797], [22.164031982421875], [...   \n\n                                  adapted_sim_out_s1 original_acc  \\\n0  [[22.604257583618164], [23.604488372802734], [...          0.0   \n1  [[22.242359161376953], [22.163572311401367], [...          0.0   \n\n  adapted_accuracy_s0 adapted_accuracy_s1 adapted_accuracy_s2  \n0                 0.0                 0.0                 0.0  \n1                 0.0                 0.0                 0.0  \n\n[2 rows x 32 columns]",
      "text/html": "<div>\n<style scoped>\n    .dataframe tbody tr th:only-of-type {\n        vertical-align: middle;\n    }\n\n    .dataframe tbody tr th {\n        vertical-align: top;\n    }\n\n    .dataframe thead th {\n        text-align: right;\n    }\n</style>\n<table border=\"1\" class=\"dataframe\">\n  <thead>\n    <tr style=\"text-align: right;\">\n      <th></th>\n      <th>Unnamed: 0</th>\n      <th>target domain</th>\n      <th>listener domain</th>\n      <th>simulator domain</th>\n      <th>target img idx</th>\n      <th>img path #0</th>\n      <th>img path #1</th>\n      <th>img path #2</th>\n      <th>img path #3</th>\n      <th>img path #4</th>\n      <th>...</th>\n      <th>adapted_list_out_s0</th>\n      <th>adapted_list_out_s1</th>\n      <th>adapted_list_out_s2</th>\n      <th>original_sim_out</th>\n      <th>adapted_sim_out_s0</th>\n      <th>adapted_sim_out_s1</th>\n      <th>original_acc</th>\n      <th>adapted_accuracy_s0</th>\n      <th>adapted_accuracy_s1</th>\n      <th>adapted_accuracy_s2</th>\n    </tr>\n  </thead>\n  <tbody>\n    <tr>\n      <th>0</th>\n      <td>0</td>\n      <td>food</td>\n      <td>appliances</td>\n      <td>appliances</td>\n      <td>5</td>\n      <td>/home/brandizzi/pb_speaker_adaptation/dataset/...</td>\n      <td>/home/brandizzi/pb_speaker_adaptation/dataset/...</td>\n      <td>/home/brandizzi/pb_speaker_adaptation/dataset/...</td>\n      <td>/home/brandizzi/pb_speaker_adaptation/dataset/...</td>\n      <td>/home/brandizzi/pb_speaker_adaptation/dataset/...</td>\n      <td>...</td>\n      <td>[[13.496817588806152], [14.18220043182373], [1...</td>\n      <td>[[13.496817588806152], [14.18220043182373], [1...</td>\n      <td>[[13.496817588806152], [14.18220043182373], [1...</td>\n      <td>[[22.605070114135742], [23.6052188873291], [22...</td>\n      <td>[[22.604656219482422], [23.604846954345703], [...</td>\n      <td>[[22.604257583618164], [23.604488372802734], [...</td>\n      <td>0.0</td>\n      <td>0.0</td>\n      <td>0.0</td>\n      <td>0.0</td>\n    </tr>\n    <tr>\n      <th>1</th>\n      <td>1</td>\n      <td>food</td>\n      <td>appliances</td>\n      <td>appliances</td>\n      <td>0</td>\n      <td>/home/brandizzi/pb_speaker_adaptation/dataset/...</td>\n      <td>/home/brandizzi/pb_speaker_adaptation/dataset/...</td>\n      <td>/home/brandizzi/pb_speaker_adaptation/dataset/...</td>\n      <td>/home/brandizzi/pb_speaker_adaptation/dataset/...</td>\n      <td>/home/brandizzi/pb_speaker_adaptation/dataset/...</td>\n      <td>...</td>\n      <td>[[10.616264343261719], [11.301734924316406], [...</td>\n      <td>[[10.616264343261719], [11.301734924316406], [...</td>\n      <td>[[10.616264343261719], [11.301734924316406], [...</td>\n      <td>[[22.24153709411621], [22.164512634277344], [2...</td>\n      <td>[[22.241954803466797], [22.164031982421875], [...</td>\n      <td>[[22.242359161376953], [22.163572311401367], [...</td>\n      <td>0.0</td>\n      <td>0.0</td>\n      <td>0.0</td>\n      <td>0.0</td>\n    </tr>\n  </tbody>\n</table>\n<p>2 rows × 32 columns</p>\n</div>"
     },
     "execution_count": 21,
     "metadata": {},
     "output_type": "execute_result"
    }
   ],
   "source": [
    "df = pd.concat([\n",
    "    pd.read_csv('/Users/mario/code/pb_speaker_adaptation/src/analysis/adaptive_speak_eval_23june/adaptive_speak_eval_out_domain_appliances.csv'),\n",
    "    pd.read_csv('/Users/mario/code/pb_speaker_adaptation/src/analysis/adaptive_speak_eval_23june/adaptive_speak_eval_out_domain_food.csv'),\n",
    "    pd.read_csv('/Users/mario/code/pb_speaker_adaptation/src/analysis/adaptive_speak_eval_23june/adaptive_speak_eval_out_domain_indoor.csv'),\n",
    "    pd.read_csv('/Users/mario/code/pb_speaker_adaptation/src/analysis/adaptive_speak_eval_23june/adaptive_speak_eval_out_domain_outdoor.csv'),\n",
    "    # pd.read_csv('/Users/mario/code/pb_speaker_adaptation/src/analysis/adaptive_speak_eval_22june/adaptive_speak_eval_vehicles_v1.csv')\n",
    "])\n",
    "\n",
    "# pd.to_numeric(df['target domain'], errors='coerce')\n",
    "df = df.dropna()\n",
    "print('target domain   :', df['target domain'].unique())\n",
    "print('listener domain :', df['listener domain'].unique())\n",
    "print('simulator domain:', df['simulator domain'].unique())\n",
    "print('Data points:', len(df))\n",
    "\n",
    "df.head(2)\n"
   ],
   "metadata": {
    "collapsed": false,
    "pycharm": {
     "name": "#%%\n"
    }
   }
  },
  {
   "cell_type": "code",
   "execution_count": 22,
   "outputs": [],
   "source": [
    "refs = df['golden utt'].tolist()\n",
    "refs_for_nlgeval = [[ref] for ref in refs]\n",
    "hyps = {\n",
    "    \"h0\": df['original utt'].tolist(),\n",
    "    \"h0' 0\": df['adapted utt s0'].tolist(),\n",
    "    \"h0' 1\": df['adapted utt s1'].tolist(),\n",
    "    \"h0' 2\": df['adapted utt s2'].tolist()\n",
    "}\n"
   ],
   "metadata": {
    "collapsed": false,
    "pycharm": {
     "name": "#%%\n"
    }
   }
  },
  {
   "cell_type": "markdown",
   "source": [
    "## Classic NLG metrics"
   ],
   "metadata": {
    "collapsed": false,
    "pycharm": {
     "name": "#%% md\n"
    }
   }
  },
  {
   "cell_type": "code",
   "execution_count": null,
   "outputs": [
    {
     "name": "stderr",
     "output_type": "stream",
     "text": [
      "Some weights of the model checkpoint at microsoft/deberta-xlarge-mnli were not used when initializing DebertaModel: ['classifier.bias', 'pooler.dense.weight', 'classifier.weight', 'pooler.dense.bias']\n",
      "- This IS expected if you are initializing DebertaModel from the checkpoint of a model trained on another task or with another architecture (e.g. initializing a BertForSequenceClassification model from a BertForPreTraining model).\n",
      "- This IS NOT expected if you are initializing DebertaModel from the checkpoint of a model that you expect to be exactly identical (initializing a BertForSequenceClassification model from a BertForSequenceClassification model).\n"
     ]
    }
   ],
   "source": [
    "nlgeval = NLGEval(no_skipthoughts=True, no_glove=True, metrics_to_omit=['METEOR'])\n",
    "\n",
    "score_dicts = []\n",
    "for hyp_type in hyps:\n",
    "    metrics_dict = nlgeval.compute_metrics(refs_for_nlgeval, hyps[hyp_type])\n",
    "    (P, R, F)= bert_score(\n",
    "        hyps[hyp_type],\n",
    "        refs,\n",
    "        lang=\"en\",\n",
    "        return_hash=False,\n",
    "        model_type=\"microsoft/deberta-xlarge-mnli\",\n",
    "    )\n",
    "    metrics_dict['BERT_P'] = P.mean().item()\n",
    "    metrics_dict['BERT_R'] = R.mean().item()\n",
    "    metrics_dict['BERT_F'] = F.mean().item()\n",
    "    score_dicts.append(metrics_dict)\n",
    "\n",
    "score_df = pd.DataFrame(score_dicts, index=hyps.keys())"
   ],
   "metadata": {
    "collapsed": false,
    "pycharm": {
     "name": "#%%\n",
     "is_executing": true
    }
   }
  },
  {
   "cell_type": "code",
   "execution_count": null,
   "outputs": [],
   "source": [
    "axes = score_df.plot.bar(rot=0, subplots=True, figsize=(10,20), legend=None)\n",
    "# axes[1].legend()"
   ],
   "metadata": {
    "collapsed": false,
    "pycharm": {
     "name": "#%%\n",
     "is_executing": true
    }
   }
  },
  {
   "cell_type": "markdown",
   "source": [
    "## Utterance length"
   ],
   "metadata": {
    "collapsed": false,
    "pycharm": {
     "name": "#%% md\n"
    }
   }
  },
  {
   "cell_type": "code",
   "execution_count": null,
   "outputs": [],
   "source": [
    "lengths = defaultdict(list)\n",
    "\n",
    "for ref in refs:\n",
    "    lengths['ref'].append(len(ref.strip().split()))\n",
    "\n",
    "for hyp_type in hyps:\n",
    "    for hyp in hyps[hyp_type]:\n",
    "        lengths[hyp_type].append(len(hyp.strip().split()))\n",
    "\n",
    "len_df = pd.DataFrame(lengths.values(), index=lengths.keys()).T\n"
   ],
   "metadata": {
    "collapsed": false,
    "pycharm": {
     "name": "#%%\n",
     "is_executing": true
    }
   }
  },
  {
   "cell_type": "code",
   "execution_count": null,
   "outputs": [],
   "source": [
    "sns.violinplot(data=len_df)"
   ],
   "metadata": {
    "collapsed": false,
    "pycharm": {
     "name": "#%%\n",
     "is_executing": true
    }
   }
  },
  {
   "cell_type": "markdown",
   "source": [
    "## Repetitions"
   ],
   "metadata": {
    "collapsed": false,
    "pycharm": {
     "name": "#%% md\n"
    }
   }
  },
  {
   "cell_type": "code",
   "execution_count": null,
   "outputs": [],
   "source": [
    "def ngram_reps(text, n=1):\n",
    "    token_seq = text.strip().split()\n",
    "    ngram_seq = list(ngrams(token_seq, n))\n",
    "    if len(ngram_seq) <= 1:\n",
    "        return 0.\n",
    "\n",
    "    ngram_counter = Counter(ngram_seq)\n",
    "    n_repeated_tokens = 0\n",
    "    n_repeated_types = 0\n",
    "    for w in ngram_counter:\n",
    "        if ngram_counter[w] > 1:\n",
    "            n_repeated_tokens += ngram_counter[w]\n",
    "            n_repeated_types += 1\n",
    "\n",
    "    return (n_repeated_tokens - n_repeated_types) / len(ngram_seq)\n"
   ],
   "metadata": {
    "collapsed": false,
    "pycharm": {
     "name": "#%%\n",
     "is_executing": true
    }
   }
  },
  {
   "cell_type": "code",
   "execution_count": null,
   "outputs": [],
   "source": [
    "reps = defaultdict(lambda: defaultdict(list))\n",
    "\n",
    "for N in range(1, 4):\n",
    "    for ref in refs:\n",
    "        reps[N]['ref'].append(ngram_reps(ref, n=N))\n",
    "\n",
    "    for hyp_type in hyps:\n",
    "        for hyp in hyps[hyp_type]:\n",
    "            reps[N][hyp_type].append(ngram_reps(hyp, n=N))\n",
    "\n",
    "rep_df_1 = pd.DataFrame(reps[1].values(), index=reps[1].keys()).T\n",
    "rep_df_2 = pd.DataFrame(reps[2].values(), index=reps[2].keys()).T\n",
    "rep_df_3 = pd.DataFrame(reps[3].values(), index=reps[3].keys()).T"
   ],
   "metadata": {
    "collapsed": false,
    "pycharm": {
     "name": "#%%\n",
     "is_executing": true
    }
   }
  },
  {
   "cell_type": "code",
   "execution_count": null,
   "outputs": [],
   "source": [
    "sns.violinplot(data=rep_df_1)"
   ],
   "metadata": {
    "collapsed": false,
    "pycharm": {
     "name": "#%%\n",
     "is_executing": true
    }
   }
  },
  {
   "cell_type": "code",
   "execution_count": null,
   "outputs": [],
   "source": [
    "sns.violinplot(data=rep_df_2, inner=None, color=\".8\")\n",
    "sns.stripplot(data=rep_df_2)"
   ],
   "metadata": {
    "collapsed": false,
    "pycharm": {
     "name": "#%%\n",
     "is_executing": true
    }
   }
  },
  {
   "cell_type": "code",
   "execution_count": null,
   "outputs": [],
   "source": [
    "sns.violinplot(data=rep_df_3, inner=None, color=\".8\")\n",
    "sns.stripplot(data=rep_df_3)"
   ],
   "metadata": {
    "collapsed": false,
    "pycharm": {
     "name": "#%%\n",
     "is_executing": true
    }
   }
  },
  {
   "cell_type": "code",
   "execution_count": null,
   "outputs": [],
   "source": [],
   "metadata": {
    "collapsed": false,
    "pycharm": {
     "name": "#%%\n",
     "is_executing": true
    }
   }
  }
 ],
 "metadata": {
  "kernelspec": {
   "display_name": "Python 3",
   "language": "python",
   "name": "python3"
  },
  "language_info": {
   "codemirror_mode": {
    "name": "ipython",
    "version": 2
   },
   "file_extension": ".py",
   "mimetype": "text/x-python",
   "name": "python",
   "nbconvert_exporter": "python",
   "pygments_lexer": "ipython2",
   "version": "2.7.6"
  }
 },
 "nbformat": 4,
 "nbformat_minor": 0
}