{
 "cells": [
  {
   "cell_type": "code",
   "execution_count": 53,
   "metadata": {
    "collapsed": true,
    "pycharm": {
     "name": "#%%\n"
    }
   },
   "outputs": [],
   "source": [
    "from collections import defaultdict, Counter\n",
    "import pandas as pd\n",
    "from bert_score import score as bert_score\n",
    "from nlgeval import NLGEval\n",
    "import seaborn as sns\n",
    "from nltk import ngrams"
   ]
  },
  {
   "cell_type": "code",
   "execution_count": null,
   "outputs": [],
   "source": [
    "df = pd.read_csv('adaptive_speak_eval_all.csv')\n",
    "df.head(2)"
   ],
   "metadata": {
    "collapsed": false,
    "pycharm": {
     "name": "#%%\n",
     "is_executing": true
    }
   }
  },
  {
   "cell_type": "code",
   "execution_count": 4,
   "outputs": [],
   "source": [
    "refs = df['golden utt'].tolist()\n",
    "refs_for_nlgeval = [[ref] for ref in refs]\n",
    "hyps = {\n",
    "    \"h0\": df['original utt'].tolist(),\n",
    "    \"h0' 0\": df['adapted utt s0'].tolist(),\n",
    "    # \"h0' 1\": df['adapted utt s1'].tolist(),\n",
    "    # \"h0' 2\": df['adapted utt s2'].tolist()\n",
    "}\n"
   ],
   "metadata": {
    "collapsed": false,
    "pycharm": {
     "name": "#%%\n"
    }
   }
  },
  {
   "cell_type": "markdown",
   "source": [
    "## Classic NLG metrics"
   ],
   "metadata": {
    "collapsed": false,
    "pycharm": {
     "name": "#%% md\n"
    }
   }
  },
  {
   "cell_type": "code",
   "execution_count": null,
   "outputs": [],
   "source": [
    "nlgeval = NLGEval(no_skipthoughts=True, no_glove=True, metrics_to_omit=['METEOR'])\n",
    "\n",
    "score_dicts = []\n",
    "for hyp_type in hyps:\n",
    "    metrics_dict = nlgeval.compute_metrics(refs_for_nlgeval, hyps[hyp_type])\n",
    "    (P, R, F)= bert_score(\n",
    "        hyps[hyp_type],\n",
    "        refs,\n",
    "        lang=\"en\",\n",
    "        return_hash=False,\n",
    "        model_type=\"microsoft/deberta-xlarge-mnli\",\n",
    "    )\n",
    "    metrics_dict['BERT_P'] = P.mean().item()\n",
    "    metrics_dict['BERT_R'] = R.mean().item()\n",
    "    metrics_dict['BERT_F'] = F.mean().item()\n",
    "    score_dicts.append(metrics_dict)\n",
    "\n",
    "score_df = pd.DataFrame(score_dicts, index=hyps.keys())"
   ],
   "metadata": {
    "collapsed": false,
    "pycharm": {
     "name": "#%%\n",
     "is_executing": true
    }
   }
  },
  {
   "cell_type": "code",
   "execution_count": null,
   "outputs": [],
   "source": [
    "axes = score_df.plot.bar(rot=0, subplots=True, figsize=(10,20), legend=None)\n",
    "# axes[1].legend()"
   ],
   "metadata": {
    "collapsed": false,
    "pycharm": {
     "name": "#%%\n"
    }
   }
  },
  {
   "cell_type": "markdown",
   "source": [
    "## Utterance length"
   ],
   "metadata": {
    "collapsed": false,
    "pycharm": {
     "name": "#%% md\n"
    }
   }
  },
  {
   "cell_type": "code",
   "execution_count": 67,
   "outputs": [],
   "source": [
    "lengths = defaultdict(list)\n",
    "\n",
    "for ref in refs:\n",
    "    lengths['ref'].append(len(ref.strip().split()))\n",
    "\n",
    "for hyp_type in hyps:\n",
    "    for hyp in hyps[hyp_type]:\n",
    "        lengths[hyp_type].append(len(hyp.strip().split()))\n",
    "\n",
    "len_df = pd.DataFrame(lengths.values(), index=lengths.keys()).T\n"
   ],
   "metadata": {
    "collapsed": false,
    "pycharm": {
     "name": "#%%\n"
    }
   }
  },
  {
   "cell_type": "code",
   "execution_count": null,
   "outputs": [],
   "source": [
    "sns.violinplot(data=len_df)"
   ],
   "metadata": {
    "collapsed": false,
    "pycharm": {
     "name": "#%%\n",
     "is_executing": true
    }
   }
  },
  {
   "cell_type": "markdown",
   "source": [
    "## Repetitions"
   ],
   "metadata": {
    "collapsed": false,
    "pycharm": {
     "name": "#%% md\n"
    }
   }
  },
  {
   "cell_type": "code",
   "execution_count": 83,
   "outputs": [],
   "source": [
    "def ngram_reps(text, n=1):\n",
    "    token_seq = text.strip().split()\n",
    "    ngram_seq = list(ngrams(token_seq, n))\n",
    "    if len(ngram_seq) <= 1:\n",
    "        return 0.\n",
    "\n",
    "    ngram_counter = Counter(ngram_seq)\n",
    "    n_repeated_tokens = 0\n",
    "    n_repeated_types = 0\n",
    "    for w in ngram_counter:\n",
    "        if ngram_counter[w] > 1:\n",
    "            n_repeated_tokens += ngram_counter[w]\n",
    "            n_repeated_types += 1\n",
    "\n",
    "    return (n_repeated_tokens - n_repeated_types) / len(ngram_seq)\n"
   ],
   "metadata": {
    "collapsed": false,
    "pycharm": {
     "name": "#%%\n"
    }
   }
  },
  {
   "cell_type": "code",
   "execution_count": 84,
   "outputs": [],
   "source": [
    "reps = defaultdict(lambda: defaultdict(list))\n",
    "\n",
    "for N in range(1, 4):\n",
    "    for ref in refs:\n",
    "        reps[N]['ref'].append(ngram_reps(ref, n=N))\n",
    "\n",
    "    for hyp_type in hyps:\n",
    "        for hyp in hyps[hyp_type]:\n",
    "            reps[N][hyp_type].append(ngram_reps(hyp, n=N))\n",
    "\n",
    "rep_df_1 = pd.DataFrame(reps[1].values(), index=reps[1].keys()).T\n",
    "rep_df_2 = pd.DataFrame(reps[2].values(), index=reps[2].keys()).T\n",
    "rep_df_3 = pd.DataFrame(reps[3].values(), index=reps[3].keys()).T"
   ],
   "metadata": {
    "collapsed": false,
    "pycharm": {
     "name": "#%%\n"
    }
   }
  },
  {
   "cell_type": "code",
   "execution_count": null,
   "outputs": [],
   "source": [
    "sns.violinplot(data=rep_df_1)"
   ],
   "metadata": {
    "collapsed": false,
    "pycharm": {
     "name": "#%%\n",
     "is_executing": true
    }
   }
  },
  {
   "cell_type": "code",
   "execution_count": null,
   "outputs": [],
   "source": [
    "sns.violinplot(data=rep_df_2, inner=None, color=\".8\")\n",
    "sns.stripplot(data=rep_df_2)"
   ],
   "metadata": {
    "collapsed": false,
    "pycharm": {
     "name": "#%%\n",
     "is_executing": true
    }
   }
  },
  {
   "cell_type": "code",
   "execution_count": null,
   "outputs": [],
   "source": [
    "sns.violinplot(data=rep_df_3, inner=None, color=\".8\")\n",
    "sns.stripplot(data=rep_df_3)"
   ],
   "metadata": {
    "collapsed": false,
    "pycharm": {
     "name": "#%%\n",
     "is_executing": true
    }
   }
  }
 ],
 "metadata": {
  "kernelspec": {
   "display_name": "Python 3",
   "language": "python",
   "name": "python3"
  },
  "language_info": {
   "codemirror_mode": {
    "name": "ipython",
    "version": 2
   },
   "file_extension": ".py",
   "mimetype": "text/x-python",
   "name": "python",
   "nbconvert_exporter": "python",
   "pygments_lexer": "ipython2",
   "version": "2.7.6"
  }
 },
 "nbformat": 4,
 "nbformat_minor": 0
}